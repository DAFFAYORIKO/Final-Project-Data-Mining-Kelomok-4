{
  "nbformat": 4,
  "nbformat_minor": 0,
  "metadata": {
    "colab": {
      "provenance": [],
      "collapsed_sections": [
        "G_lDAB7aFFdF"
      ]
    },
    "kernelspec": {
      "name": "python3",
      "display_name": "Python 3"
    },
    "language_info": {
      "name": "python"
    }
  },
  "cells": [
    {
      "cell_type": "markdown",
      "source": [
        "# <center> **Final Project Data Mining**\n",
        "\n",
        "## **Kelompok 4**\n",
        "1. Aditya Firmansyah - 2006464152\n",
        "2. Fadhillah Daffa Yoriko - 2006571116\n",
        "3. Galih Nur Kantaatmaja - 20065711411\n",
        "4. Jasmine Husna Sanditya - 2006571034\n",
        "5. Keisha Janita - 2006571021\n",
        "6. Reynee Joyvina - 2006485024\n",
        "\n",
        "## **Pembagian Tugas**\n",
        "Coding\n",
        "1. Aditya Firmansyah - 2006464152\n",
        "2. Fadhillah Daffa Yoriko - 2006571116\n",
        "3. Galih Nur Kantaatmaja - 20065711411\n",
        "\n",
        "Interpretasi dan Presentasi\n",
        "1. Jasmine Husna Sanditya - 2006571034\n",
        "2. Keisha Janita - 2006571021\n",
        "3. Reynee Joyvina - 2006485024"
      ],
      "metadata": {
        "id": "K9zIRBKfOeey"
      }
    },
    {
      "cell_type": "markdown",
      "source": [
        "# PENDAHULUAN\n",
        "Piala Dunia FIFA 2022 merupakan putaran final ke-22 dari Piala Dunia FIFA, turnamen sepak bola internasional empat tahunan yang diikuti oleh tim nasional senior pria anggota FIFA. Untuk pertama kali, Qatar menyelenggarakan turnamen ini dan menjadi Piala Dunia FIFA pertama yang pernah diadakan di Jazirah Arab, dan di negara mayoritas berpenduduk Muslim. Turnamen edisi ini berlangsung di Qatar pada 20 November hingga 18 Desember 2022. Piala Dunia FIFA 2022 ini juga akan menjadi Piala Dunia FIFA kedua yang diadakan sepenuhnya di Asia setelah Piala Dunia FIFA 2002 di Korea Selatan dan Jepang. Selain itu, turnamen ini akan menjadi yang terakhir yang melibatkan 32 tim, pada periode selanjutnya (yaitu pada Piala Dunia FIFA 2026 di Amerika Utara) putaran final akan melibatkan 48 tim."
      ],
      "metadata": {
        "id": "oAResRxlxWB9"
      }
    },
    {
      "cell_type": "markdown",
      "source": [
        "# INSTAL MODUL"
      ],
      "metadata": {
        "id": "G_lDAB7aFFdF"
      }
    },
    {
      "cell_type": "code",
      "source": [
        "pip install --upgrade git+https://github.com/kevctae/twint.git"
      ],
      "metadata": {
        "colab": {
          "base_uri": "https://localhost:8080/"
        },
        "id": "XjZ_D6-B8bOj",
        "outputId": "254b4a8d-a5d7-435f-9837-b38d3cd5ab33"
      },
      "execution_count": null,
      "outputs": [
        {
          "output_type": "stream",
          "name": "stdout",
          "text": [
            "Looking in indexes: https://pypi.org/simple, https://us-python.pkg.dev/colab-wheels/public/simple/\n",
            "Collecting git+https://github.com/kevctae/twint.git\n",
            "  Cloning https://github.com/kevctae/twint.git to /tmp/pip-req-build-v9r8tckm\n",
            "  Running command git clone -q https://github.com/kevctae/twint.git /tmp/pip-req-build-v9r8tckm\n",
            "Requirement already satisfied: aiohttp in /usr/local/lib/python3.8/dist-packages (from twint==2.1.21) (3.8.3)\n",
            "Requirement already satisfied: aiodns in /usr/local/lib/python3.8/dist-packages (from twint==2.1.21) (3.0.0)\n",
            "Requirement already satisfied: beautifulsoup4 in /usr/local/lib/python3.8/dist-packages (from twint==2.1.21) (4.6.3)\n",
            "Requirement already satisfied: cchardet in /usr/local/lib/python3.8/dist-packages (from twint==2.1.21) (2.1.7)\n",
            "Requirement already satisfied: dataclasses in /usr/local/lib/python3.8/dist-packages (from twint==2.1.21) (0.6)\n",
            "Requirement already satisfied: elasticsearch in /usr/local/lib/python3.8/dist-packages (from twint==2.1.21) (8.5.3)\n",
            "Requirement already satisfied: pysocks in /usr/local/lib/python3.8/dist-packages (from twint==2.1.21) (1.7.1)\n",
            "Requirement already satisfied: pandas in /usr/local/lib/python3.8/dist-packages (from twint==2.1.21) (1.3.5)\n",
            "Requirement already satisfied: aiohttp_socks in /usr/local/lib/python3.8/dist-packages (from twint==2.1.21) (0.7.1)\n",
            "Requirement already satisfied: schedule in /usr/local/lib/python3.8/dist-packages (from twint==2.1.21) (1.1.0)\n",
            "Requirement already satisfied: geopy in /usr/local/lib/python3.8/dist-packages (from twint==2.1.21) (1.17.0)\n",
            "Requirement already satisfied: fake-useragent in /usr/local/lib/python3.8/dist-packages (from twint==2.1.21) (1.1.1)\n",
            "Requirement already satisfied: googletransx in /usr/local/lib/python3.8/dist-packages (from twint==2.1.21) (2.4.2)\n",
            "Requirement already satisfied: pycares>=4.0.0 in /usr/local/lib/python3.8/dist-packages (from aiodns->twint==2.1.21) (4.3.0)\n",
            "Requirement already satisfied: cffi>=1.5.0 in /usr/local/lib/python3.8/dist-packages (from pycares>=4.0.0->aiodns->twint==2.1.21) (1.15.1)\n",
            "Requirement already satisfied: pycparser in /usr/local/lib/python3.8/dist-packages (from cffi>=1.5.0->pycares>=4.0.0->aiodns->twint==2.1.21) (2.21)\n",
            "Requirement already satisfied: aiosignal>=1.1.2 in /usr/local/lib/python3.8/dist-packages (from aiohttp->twint==2.1.21) (1.3.1)\n",
            "Requirement already satisfied: yarl<2.0,>=1.0 in /usr/local/lib/python3.8/dist-packages (from aiohttp->twint==2.1.21) (1.8.2)\n",
            "Requirement already satisfied: frozenlist>=1.1.1 in /usr/local/lib/python3.8/dist-packages (from aiohttp->twint==2.1.21) (1.3.3)\n",
            "Requirement already satisfied: multidict<7.0,>=4.5 in /usr/local/lib/python3.8/dist-packages (from aiohttp->twint==2.1.21) (6.0.3)\n",
            "Requirement already satisfied: async-timeout<5.0,>=4.0.0a3 in /usr/local/lib/python3.8/dist-packages (from aiohttp->twint==2.1.21) (4.0.2)\n",
            "Requirement already satisfied: attrs>=17.3.0 in /usr/local/lib/python3.8/dist-packages (from aiohttp->twint==2.1.21) (22.1.0)\n",
            "Requirement already satisfied: charset-normalizer<3.0,>=2.0 in /usr/local/lib/python3.8/dist-packages (from aiohttp->twint==2.1.21) (2.1.1)\n",
            "Requirement already satisfied: idna>=2.0 in /usr/local/lib/python3.8/dist-packages (from yarl<2.0,>=1.0->aiohttp->twint==2.1.21) (2.10)\n",
            "Requirement already satisfied: python-socks[asyncio]<3.0.0,>=2.0.0 in /usr/local/lib/python3.8/dist-packages (from aiohttp_socks->twint==2.1.21) (2.1.1)\n",
            "Requirement already satisfied: elastic-transport<9,>=8 in /usr/local/lib/python3.8/dist-packages (from elasticsearch->twint==2.1.21) (8.4.0)\n",
            "Requirement already satisfied: certifi in /usr/local/lib/python3.8/dist-packages (from elastic-transport<9,>=8->elasticsearch->twint==2.1.21) (2022.12.7)\n",
            "Requirement already satisfied: urllib3<2,>=1.26.2 in /usr/local/lib/python3.8/dist-packages (from elastic-transport<9,>=8->elasticsearch->twint==2.1.21) (1.26.13)\n",
            "Requirement already satisfied: importlib-resources>=5.0 in /usr/local/lib/python3.8/dist-packages (from fake-useragent->twint==2.1.21) (5.10.1)\n",
            "Requirement already satisfied: zipp>=3.1.0 in /usr/local/lib/python3.8/dist-packages (from importlib-resources>=5.0->fake-useragent->twint==2.1.21) (3.11.0)\n",
            "Requirement already satisfied: geographiclib<2,>=1.49 in /usr/local/lib/python3.8/dist-packages (from geopy->twint==2.1.21) (1.52)\n",
            "Requirement already satisfied: requests in /usr/local/lib/python3.8/dist-packages (from googletransx->twint==2.1.21) (2.28.1)\n",
            "Requirement already satisfied: python-dateutil>=2.7.3 in /usr/local/lib/python3.8/dist-packages (from pandas->twint==2.1.21) (2.8.2)\n",
            "Requirement already satisfied: numpy>=1.17.3 in /usr/local/lib/python3.8/dist-packages (from pandas->twint==2.1.21) (1.21.6)\n",
            "Requirement already satisfied: pytz>=2017.3 in /usr/local/lib/python3.8/dist-packages (from pandas->twint==2.1.21) (2022.6)\n",
            "Requirement already satisfied: six>=1.5 in /usr/local/lib/python3.8/dist-packages (from python-dateutil>=2.7.3->pandas->twint==2.1.21) (1.15.0)\n"
          ]
        }
      ]
    },
    {
      "cell_type": "code",
      "source": [
        "pip install nest_asyncio"
      ],
      "metadata": {
        "colab": {
          "base_uri": "https://localhost:8080/"
        },
        "id": "-z4aCfi681on",
        "outputId": "cc014efd-1a68-4bd1-f0f3-0189dd80a161"
      },
      "execution_count": null,
      "outputs": [
        {
          "output_type": "stream",
          "name": "stdout",
          "text": [
            "Looking in indexes: https://pypi.org/simple, https://us-python.pkg.dev/colab-wheels/public/simple/\n",
            "Requirement already satisfied: nest_asyncio in /usr/local/lib/python3.8/dist-packages (1.5.6)\n"
          ]
        }
      ]
    },
    {
      "cell_type": "code",
      "source": [
        "pip install unidecode"
      ],
      "metadata": {
        "colab": {
          "base_uri": "https://localhost:8080/"
        },
        "id": "Q8B9WKJT81je",
        "outputId": "00d1ae19-8957-4fcb-9b8f-43c95dcb6688"
      },
      "execution_count": null,
      "outputs": [
        {
          "output_type": "stream",
          "name": "stdout",
          "text": [
            "Looking in indexes: https://pypi.org/simple, https://us-python.pkg.dev/colab-wheels/public/simple/\n",
            "Requirement already satisfied: unidecode in /usr/local/lib/python3.8/dist-packages (1.3.6)\n"
          ]
        }
      ]
    },
    {
      "cell_type": "code",
      "source": [
        "pip install sastrawi"
      ],
      "metadata": {
        "colab": {
          "base_uri": "https://localhost:8080/"
        },
        "id": "-2yLIo3R8bLt",
        "outputId": "5b8e2adf-06c3-4c02-b07f-82b37bf2800f"
      },
      "execution_count": null,
      "outputs": [
        {
          "output_type": "stream",
          "name": "stdout",
          "text": [
            "Looking in indexes: https://pypi.org/simple, https://us-python.pkg.dev/colab-wheels/public/simple/\n",
            "Requirement already satisfied: sastrawi in /usr/local/lib/python3.8/dist-packages (1.0.1)\n"
          ]
        }
      ]
    },
    {
      "cell_type": "code",
      "source": [
        "import warnings; warnings.simplefilter('ignore')\n",
        "import itertools, re, nltk\n",
        "import time, numpy as np, matplotlib.pyplot as plt, pandas as pd, seaborn as sns, networkx as nx \n",
        "from matplotlib.colors import ListedColormap\n",
        "from textblob import TextBlob\n",
        "from Sastrawi.Stemmer.StemmerFactory import StemmerFactory\n",
        "from unidecode import unidecode\n",
        "from nltk.tag import CRFTagger\n",
        "from html import unescape\n",
        "from Sastrawi.StopWordRemover.StopWordRemoverFactory import StopWordRemoverFactory\n",
        "from tqdm import tqdm\n",
        "import twint\n",
        "import nest_asyncio\n",
        "import pandas as pd\n",
        "import re\n",
        "\n",
        "nest_asyncio.apply()\n",
        "config = twint.Config()\n",
        "config.Hide_output = True\n",
        "config.Pandas = True\n",
        "config.Retweets = True\n",
        "config.Profile_full = True\n",
        "factory = StopWordRemoverFactory()\n",
        "stemmer = StemmerFactory().create_stemmer()"
      ],
      "metadata": {
        "id": "Jwsl7eH78bIw"
      },
      "execution_count": null,
      "outputs": []
    },
    {
      "cell_type": "markdown",
      "source": [
        "`Proses pencarian data`\n",
        "\n",
        "Akan dilakukan pencarian data dengan hastag yang cukup banyak yakni #PialaDunia2022"
      ],
      "metadata": {
        "id": "jd7Q4lQIkKnv"
      }
    },
    {
      "cell_type": "markdown",
      "source": [
        "![satu](https://drive.google.com/uc?export=view&id=1zJeqZQgg1gidI8lXZIClpaE9Bu0tqqoR)"
      ],
      "metadata": {
        "id": "nWesUxPrjaVe"
      }
    },
    {
      "cell_type": "markdown",
      "source": [
        "Simpan data dalam bentuk csv"
      ],
      "metadata": {
        "id": "tKk8wn4nmlpc"
      }
    },
    {
      "cell_type": "markdown",
      "source": [
        "![dua](https://drive.google.com/uc?export=view&id=1BoZJbUY0a7yQADLK_iR9yiPJv7svzXOq)"
      ],
      "metadata": {
        "id": "u_y9yNxlkZFH"
      }
    },
    {
      "cell_type": "markdown",
      "source": [
        "# IMPORT DATA"
      ],
      "metadata": {
        "id": "uMz1pY2wAHNf"
      }
    },
    {
      "cell_type": "code",
      "source": [
        "data=pd.read_csv('https://raw.githubusercontent.com/adityafirmansyah01/datminprojekahir/main/data_tweet%20piala%20dunia.csv')\n",
        "data.tail()"
      ],
      "metadata": {
        "colab": {
          "base_uri": "https://localhost:8080/",
          "height": 786
        },
        "id": "pAu3EQUf8bF_",
        "outputId": "cb72c541-cefc-4b5a-9a82-a99ed4efe90c"
      },
      "execution_count": null,
      "outputs": [
        {
          "output_type": "execute_result",
          "data": {
            "text/plain": [
              "                        id      conversation_id       created_at  \\\n",
              "23770  1604976252607422465  1604976252607422465  1671491132000.0   \n",
              "23771  1604976066069757953  1604976066069757953  1671491087000.0   \n",
              "23772  1604975770337935360  1604975770337935360  1671491017000.0   \n",
              "23773  1604975516242837504  1604975516242837504  1671490956000.0   \n",
              "23774  1604975128592646144  1604975128592646144  1671490864000.0   \n",
              "\n",
              "                      date  timezone place  \\\n",
              "23770  2022-12-19 23:05:32         0   NaN   \n",
              "23771  2022-12-19 23:04:47         0   NaN   \n",
              "23772  2022-12-19 23:03:37         0   NaN   \n",
              "23773  2022-12-19 23:02:36         0   NaN   \n",
              "23774  2022-12-19 23:01:04         0   NaN   \n",
              "\n",
              "                                                   tweet language  \\\n",
              "23770  Piala Dunia Berakhir, Saatnya Dukung Timnas In...       in   \n",
              "23771  Skuat timnas Prancis telah kembali dari Piala ...       in   \n",
              "23772  Gak ada yang namanya settingan di Piala Dunia ...       in   \n",
              "23773  Euyy,Udah abis berapa selama Piala Dunia kemar...       in   \n",
              "23774  Kenapa Argentina pas juara Piala Dunia keadaan...       in   \n",
              "\n",
              "            hashtags cashtags  ... geo source user_rt_id user_rt  retweet_id  \\\n",
              "23770             []       []  ... NaN    NaN        NaN     NaN         NaN   \n",
              "23771             []       []  ... NaN    NaN        NaN     NaN         NaN   \n",
              "23772  ['qatar2022']       []  ... NaN    NaN        NaN     NaN         NaN   \n",
              "23773             []       []  ... NaN    NaN        NaN     NaN         NaN   \n",
              "23774             []       []  ... NaN    NaN        NaN     NaN         NaN   \n",
              "\n",
              "      reply_to retweet_date translate trans_src  trans_dest  \n",
              "23770       []          NaN       NaN       NaN         NaN  \n",
              "23771       []          NaN       NaN       NaN         NaN  \n",
              "23772       []          NaN       NaN       NaN         NaN  \n",
              "23773       []          NaN       NaN       NaN         NaN  \n",
              "23774       []          NaN       NaN       NaN         NaN  \n",
              "\n",
              "[5 rows x 38 columns]"
            ],
            "text/html": [
              "\n",
              "  <div id=\"df-f9c4ea88-7070-4446-be69-40733af9a009\">\n",
              "    <div class=\"colab-df-container\">\n",
              "      <div>\n",
              "<style scoped>\n",
              "    .dataframe tbody tr th:only-of-type {\n",
              "        vertical-align: middle;\n",
              "    }\n",
              "\n",
              "    .dataframe tbody tr th {\n",
              "        vertical-align: top;\n",
              "    }\n",
              "\n",
              "    .dataframe thead th {\n",
              "        text-align: right;\n",
              "    }\n",
              "</style>\n",
              "<table border=\"1\" class=\"dataframe\">\n",
              "  <thead>\n",
              "    <tr style=\"text-align: right;\">\n",
              "      <th></th>\n",
              "      <th>id</th>\n",
              "      <th>conversation_id</th>\n",
              "      <th>created_at</th>\n",
              "      <th>date</th>\n",
              "      <th>timezone</th>\n",
              "      <th>place</th>\n",
              "      <th>tweet</th>\n",
              "      <th>language</th>\n",
              "      <th>hashtags</th>\n",
              "      <th>cashtags</th>\n",
              "      <th>...</th>\n",
              "      <th>geo</th>\n",
              "      <th>source</th>\n",
              "      <th>user_rt_id</th>\n",
              "      <th>user_rt</th>\n",
              "      <th>retweet_id</th>\n",
              "      <th>reply_to</th>\n",
              "      <th>retweet_date</th>\n",
              "      <th>translate</th>\n",
              "      <th>trans_src</th>\n",
              "      <th>trans_dest</th>\n",
              "    </tr>\n",
              "  </thead>\n",
              "  <tbody>\n",
              "    <tr>\n",
              "      <th>23770</th>\n",
              "      <td>1604976252607422465</td>\n",
              "      <td>1604976252607422465</td>\n",
              "      <td>1671491132000.0</td>\n",
              "      <td>2022-12-19 23:05:32</td>\n",
              "      <td>0</td>\n",
              "      <td>NaN</td>\n",
              "      <td>Piala Dunia Berakhir, Saatnya Dukung Timnas In...</td>\n",
              "      <td>in</td>\n",
              "      <td>[]</td>\n",
              "      <td>[]</td>\n",
              "      <td>...</td>\n",
              "      <td>NaN</td>\n",
              "      <td>NaN</td>\n",
              "      <td>NaN</td>\n",
              "      <td>NaN</td>\n",
              "      <td>NaN</td>\n",
              "      <td>[]</td>\n",
              "      <td>NaN</td>\n",
              "      <td>NaN</td>\n",
              "      <td>NaN</td>\n",
              "      <td>NaN</td>\n",
              "    </tr>\n",
              "    <tr>\n",
              "      <th>23771</th>\n",
              "      <td>1604976066069757953</td>\n",
              "      <td>1604976066069757953</td>\n",
              "      <td>1671491087000.0</td>\n",
              "      <td>2022-12-19 23:04:47</td>\n",
              "      <td>0</td>\n",
              "      <td>NaN</td>\n",
              "      <td>Skuat timnas Prancis telah kembali dari Piala ...</td>\n",
              "      <td>in</td>\n",
              "      <td>[]</td>\n",
              "      <td>[]</td>\n",
              "      <td>...</td>\n",
              "      <td>NaN</td>\n",
              "      <td>NaN</td>\n",
              "      <td>NaN</td>\n",
              "      <td>NaN</td>\n",
              "      <td>NaN</td>\n",
              "      <td>[]</td>\n",
              "      <td>NaN</td>\n",
              "      <td>NaN</td>\n",
              "      <td>NaN</td>\n",
              "      <td>NaN</td>\n",
              "    </tr>\n",
              "    <tr>\n",
              "      <th>23772</th>\n",
              "      <td>1604975770337935360</td>\n",
              "      <td>1604975770337935360</td>\n",
              "      <td>1671491017000.0</td>\n",
              "      <td>2022-12-19 23:03:37</td>\n",
              "      <td>0</td>\n",
              "      <td>NaN</td>\n",
              "      <td>Gak ada yang namanya settingan di Piala Dunia ...</td>\n",
              "      <td>in</td>\n",
              "      <td>['qatar2022']</td>\n",
              "      <td>[]</td>\n",
              "      <td>...</td>\n",
              "      <td>NaN</td>\n",
              "      <td>NaN</td>\n",
              "      <td>NaN</td>\n",
              "      <td>NaN</td>\n",
              "      <td>NaN</td>\n",
              "      <td>[]</td>\n",
              "      <td>NaN</td>\n",
              "      <td>NaN</td>\n",
              "      <td>NaN</td>\n",
              "      <td>NaN</td>\n",
              "    </tr>\n",
              "    <tr>\n",
              "      <th>23773</th>\n",
              "      <td>1604975516242837504</td>\n",
              "      <td>1604975516242837504</td>\n",
              "      <td>1671490956000.0</td>\n",
              "      <td>2022-12-19 23:02:36</td>\n",
              "      <td>0</td>\n",
              "      <td>NaN</td>\n",
              "      <td>Euyy,Udah abis berapa selama Piala Dunia kemar...</td>\n",
              "      <td>in</td>\n",
              "      <td>[]</td>\n",
              "      <td>[]</td>\n",
              "      <td>...</td>\n",
              "      <td>NaN</td>\n",
              "      <td>NaN</td>\n",
              "      <td>NaN</td>\n",
              "      <td>NaN</td>\n",
              "      <td>NaN</td>\n",
              "      <td>[]</td>\n",
              "      <td>NaN</td>\n",
              "      <td>NaN</td>\n",
              "      <td>NaN</td>\n",
              "      <td>NaN</td>\n",
              "    </tr>\n",
              "    <tr>\n",
              "      <th>23774</th>\n",
              "      <td>1604975128592646144</td>\n",
              "      <td>1604975128592646144</td>\n",
              "      <td>1671490864000.0</td>\n",
              "      <td>2022-12-19 23:01:04</td>\n",
              "      <td>0</td>\n",
              "      <td>NaN</td>\n",
              "      <td>Kenapa Argentina pas juara Piala Dunia keadaan...</td>\n",
              "      <td>in</td>\n",
              "      <td>[]</td>\n",
              "      <td>[]</td>\n",
              "      <td>...</td>\n",
              "      <td>NaN</td>\n",
              "      <td>NaN</td>\n",
              "      <td>NaN</td>\n",
              "      <td>NaN</td>\n",
              "      <td>NaN</td>\n",
              "      <td>[]</td>\n",
              "      <td>NaN</td>\n",
              "      <td>NaN</td>\n",
              "      <td>NaN</td>\n",
              "      <td>NaN</td>\n",
              "    </tr>\n",
              "  </tbody>\n",
              "</table>\n",
              "<p>5 rows × 38 columns</p>\n",
              "</div>\n",
              "      <button class=\"colab-df-convert\" onclick=\"convertToInteractive('df-f9c4ea88-7070-4446-be69-40733af9a009')\"\n",
              "              title=\"Convert this dataframe to an interactive table.\"\n",
              "              style=\"display:none;\">\n",
              "        \n",
              "  <svg xmlns=\"http://www.w3.org/2000/svg\" height=\"24px\"viewBox=\"0 0 24 24\"\n",
              "       width=\"24px\">\n",
              "    <path d=\"M0 0h24v24H0V0z\" fill=\"none\"/>\n",
              "    <path d=\"M18.56 5.44l.94 2.06.94-2.06 2.06-.94-2.06-.94-.94-2.06-.94 2.06-2.06.94zm-11 1L8.5 8.5l.94-2.06 2.06-.94-2.06-.94L8.5 2.5l-.94 2.06-2.06.94zm10 10l.94 2.06.94-2.06 2.06-.94-2.06-.94-.94-2.06-.94 2.06-2.06.94z\"/><path d=\"M17.41 7.96l-1.37-1.37c-.4-.4-.92-.59-1.43-.59-.52 0-1.04.2-1.43.59L10.3 9.45l-7.72 7.72c-.78.78-.78 2.05 0 2.83L4 21.41c.39.39.9.59 1.41.59.51 0 1.02-.2 1.41-.59l7.78-7.78 2.81-2.81c.8-.78.8-2.07 0-2.86zM5.41 20L4 18.59l7.72-7.72 1.47 1.35L5.41 20z\"/>\n",
              "  </svg>\n",
              "      </button>\n",
              "      \n",
              "  <style>\n",
              "    .colab-df-container {\n",
              "      display:flex;\n",
              "      flex-wrap:wrap;\n",
              "      gap: 12px;\n",
              "    }\n",
              "\n",
              "    .colab-df-convert {\n",
              "      background-color: #E8F0FE;\n",
              "      border: none;\n",
              "      border-radius: 50%;\n",
              "      cursor: pointer;\n",
              "      display: none;\n",
              "      fill: #1967D2;\n",
              "      height: 32px;\n",
              "      padding: 0 0 0 0;\n",
              "      width: 32px;\n",
              "    }\n",
              "\n",
              "    .colab-df-convert:hover {\n",
              "      background-color: #E2EBFA;\n",
              "      box-shadow: 0px 1px 2px rgba(60, 64, 67, 0.3), 0px 1px 3px 1px rgba(60, 64, 67, 0.15);\n",
              "      fill: #174EA6;\n",
              "    }\n",
              "\n",
              "    [theme=dark] .colab-df-convert {\n",
              "      background-color: #3B4455;\n",
              "      fill: #D2E3FC;\n",
              "    }\n",
              "\n",
              "    [theme=dark] .colab-df-convert:hover {\n",
              "      background-color: #434B5C;\n",
              "      box-shadow: 0px 1px 3px 1px rgba(0, 0, 0, 0.15);\n",
              "      filter: drop-shadow(0px 1px 2px rgba(0, 0, 0, 0.3));\n",
              "      fill: #FFFFFF;\n",
              "    }\n",
              "  </style>\n",
              "\n",
              "      <script>\n",
              "        const buttonEl =\n",
              "          document.querySelector('#df-f9c4ea88-7070-4446-be69-40733af9a009 button.colab-df-convert');\n",
              "        buttonEl.style.display =\n",
              "          google.colab.kernel.accessAllowed ? 'block' : 'none';\n",
              "\n",
              "        async function convertToInteractive(key) {\n",
              "          const element = document.querySelector('#df-f9c4ea88-7070-4446-be69-40733af9a009');\n",
              "          const dataTable =\n",
              "            await google.colab.kernel.invokeFunction('convertToInteractive',\n",
              "                                                     [key], {});\n",
              "          if (!dataTable) return;\n",
              "\n",
              "          const docLinkHtml = 'Like what you see? Visit the ' +\n",
              "            '<a target=\"_blank\" href=https://colab.research.google.com/notebooks/data_table.ipynb>data table notebook</a>'\n",
              "            + ' to learn more about interactive tables.';\n",
              "          element.innerHTML = '';\n",
              "          dataTable['output_type'] = 'display_data';\n",
              "          await google.colab.output.renderOutput(dataTable, element);\n",
              "          const docLink = document.createElement('div');\n",
              "          docLink.innerHTML = docLinkHtml;\n",
              "          element.appendChild(docLink);\n",
              "        }\n",
              "      </script>\n",
              "    </div>\n",
              "  </div>\n",
              "  "
            ]
          },
          "metadata": {},
          "execution_count": 66
        }
      ]
    },
    {
      "cell_type": "markdown",
      "source": [
        "Diperoleh data sebanyak 23775 yang merupakan data dari twitter tentang PialaDunia2022"
      ],
      "metadata": {
        "id": "2Bw-QuOZSg-j"
      }
    },
    {
      "cell_type": "code",
      "source": [
        "Sastrawi_StopWords_id = factory.get_stop_words()\n",
        "\n",
        "print(Sastrawi_StopWords_id)\n",
        "print(len(Sastrawi_StopWords_id))\n",
        "\n",
        "Sastrawi_StopWords_id = set(Sastrawi_StopWords_id)"
      ],
      "metadata": {
        "colab": {
          "base_uri": "https://localhost:8080/"
        },
        "id": "bdJ6MS0Q9mfz",
        "outputId": "2bec32d6-786d-4b11-bec4-f84f1e1ecc56"
      },
      "execution_count": null,
      "outputs": [
        {
          "output_type": "stream",
          "name": "stdout",
          "text": [
            "['yang', 'untuk', 'pada', 'ke', 'para', 'namun', 'menurut', 'antara', 'dia', 'dua', 'ia', 'seperti', 'jika', 'jika', 'sehingga', 'kembali', 'dan', 'tidak', 'ini', 'karena', 'kepada', 'oleh', 'saat', 'harus', 'sementara', 'setelah', 'belum', 'kami', 'sekitar', 'bagi', 'serta', 'di', 'dari', 'telah', 'sebagai', 'masih', 'hal', 'ketika', 'adalah', 'itu', 'dalam', 'bisa', 'bahwa', 'atau', 'hanya', 'kita', 'dengan', 'akan', 'juga', 'ada', 'mereka', 'sudah', 'saya', 'terhadap', 'secara', 'agar', 'lain', 'anda', 'begitu', 'mengapa', 'kenapa', 'yaitu', 'yakni', 'daripada', 'itulah', 'lagi', 'maka', 'tentang', 'demi', 'dimana', 'kemana', 'pula', 'sambil', 'sebelum', 'sesudah', 'supaya', 'guna', 'kah', 'pun', 'sampai', 'sedangkan', 'selagi', 'sementara', 'tetapi', 'apakah', 'kecuali', 'sebab', 'selain', 'seolah', 'seraya', 'seterusnya', 'tanpa', 'agak', 'boleh', 'dapat', 'dsb', 'dst', 'dll', 'dahulu', 'dulunya', 'anu', 'demikian', 'tapi', 'ingin', 'juga', 'nggak', 'mari', 'nanti', 'melainkan', 'oh', 'ok', 'seharusnya', 'sebetulnya', 'setiap', 'setidaknya', 'sesuatu', 'pasti', 'saja', 'toh', 'ya', 'walau', 'tolong', 'tentu', 'amat', 'apalagi', 'bagaimanapun']\n",
            "126\n"
          ]
        }
      ]
    },
    {
      "cell_type": "markdown",
      "source": [
        "# PREPROCESSING"
      ],
      "metadata": {
        "id": "L5GCIARhAb11"
      }
    },
    {
      "cell_type": "markdown",
      "source": [
        "Missing Value"
      ],
      "metadata": {
        "id": "W0qfHQJ-01Va"
      }
    },
    {
      "cell_type": "code",
      "source": [
        "print(data.isnull().sum())"
      ],
      "metadata": {
        "colab": {
          "base_uri": "https://localhost:8080/"
        },
        "id": "vQo70NMo08Ez",
        "outputId": "23a33e19-b2f7-45b5-a6fb-22382b513b18"
      },
      "execution_count": null,
      "outputs": [
        {
          "output_type": "stream",
          "name": "stdout",
          "text": [
            "id                     0\n",
            "conversation_id        0\n",
            "created_at             0\n",
            "date                   0\n",
            "timezone               0\n",
            "place              23760\n",
            "tweet                  0\n",
            "language               2\n",
            "hashtags               2\n",
            "cashtags               2\n",
            "user_id                2\n",
            "user_id_str            2\n",
            "username               2\n",
            "name                   4\n",
            "day                    4\n",
            "hour                   2\n",
            "link                   2\n",
            "urls                   2\n",
            "photos                 2\n",
            "video                  4\n",
            "thumbnail          19384\n",
            "retweet                4\n",
            "nlikes                 4\n",
            "nreplies               4\n",
            "nretweets              4\n",
            "quote_url          22703\n",
            "search                 4\n",
            "near               23773\n",
            "geo                23775\n",
            "source             23775\n",
            "user_rt_id         23775\n",
            "user_rt            23775\n",
            "retweet_id         23775\n",
            "reply_to               4\n",
            "retweet_date       23775\n",
            "translate          23775\n",
            "trans_src          23775\n",
            "trans_dest         23775\n",
            "dtype: int64\n"
          ]
        }
      ]
    },
    {
      "cell_type": "markdown",
      "source": [
        "Dari missing value di atas, kita akan menggunakan kolom username dan tweet untuk menganalisis Euforia Piala Dunia 2022"
      ],
      "metadata": {
        "id": "B5zAmskC5UA8"
      }
    },
    {
      "cell_type": "markdown",
      "source": [
        "Cek duplikat pada Data"
      ],
      "metadata": {
        "id": "x4V7Y7wd1Xoe"
      }
    },
    {
      "cell_type": "code",
      "source": [
        "print(data.duplicated().sum())"
      ],
      "metadata": {
        "id": "EcA7Jfbg1hgi",
        "colab": {
          "base_uri": "https://localhost:8080/"
        },
        "outputId": "3e26a5c5-d575-49e9-8584-64accf04e0c8"
      },
      "execution_count": null,
      "outputs": [
        {
          "output_type": "stream",
          "name": "stdout",
          "text": [
            "11758\n"
          ]
        }
      ]
    },
    {
      "cell_type": "code",
      "source": [
        "#Hapus data duplicated\n",
        "data.drop_duplicates(inplace=True)"
      ],
      "metadata": {
        "id": "8h3kGTGaJHZk"
      },
      "execution_count": null,
      "outputs": []
    },
    {
      "cell_type": "markdown",
      "source": [
        "Dari duplicate data diatas, kita berhasil menghapus 11758 data. Sehingga tadi data yang total diambil 23775 sekarang menjadi 12017"
      ],
      "metadata": {
        "id": "ZG6UePbPJff0"
      }
    },
    {
      "cell_type": "markdown",
      "source": [
        "Membuat fungsi cleantext"
      ],
      "metadata": {
        "id": "jjb3xzTYA39d"
      }
    },
    {
      "cell_type": "code",
      "source": [
        "def cleanText(txt):\n",
        "    docx = unidecode(unescape(txt.lower().strip()))\n",
        "    urlPattern = re.compile(r'http[s]?://(?:[a-zA-Z]|[0-9]|[$-_@.&+]|[!*\\(\\),]|(?:%[0-9a-fA-F][0-9a-fA-F]))+')\n",
        "    docx = re.sub(urlPattern,' ', docx) # Remove links\n",
        "    docx = re.sub(r'[^\\w]', ' ', docx) # Remove Symbol, keep \"_\" ... recommended\n",
        "    Tokens = TextBlob(docx).words # Tokenisasi \n",
        "    docx = ' '.join([t for t in Tokens if str(t) not in Sastrawi_StopWords_id and len(t)>2]) # Stopwords filtering\n",
        "    docx = stemmer.stem(docx)\n",
        "    return docx # Silahkan latihan tambahkan penanganan Slang/Singkatan"
      ],
      "metadata": {
        "id": "d2e0GRj1AoG_"
      },
      "execution_count": null,
      "outputs": []
    },
    {
      "cell_type": "markdown",
      "source": [
        "Aplikasikan fungsi ke semua data"
      ],
      "metadata": {
        "id": "AsWC8nAuBD5l"
      }
    },
    {
      "cell_type": "markdown",
      "source": [
        "Lalu simpan datanya dalam bentuk csv"
      ],
      "metadata": {
        "id": "n0BMMr_vlS8Q"
      }
    },
    {
      "cell_type": "markdown",
      "source": [
        "![tiga](https://drive.google.com/uc?export=view&id=18HZALrOkFpqhD_9UhQSU7mZGV6WF4D8m)"
      ],
      "metadata": {
        "id": "zOq0tTw2k4oR"
      }
    },
    {
      "cell_type": "code",
      "source": [
        "data_clean = pd.read_csv('https://raw.githubusercontent.com/adityafirmansyah01/datminprojekahir/main/cleaned_tweet.csv', header=None)\n",
        "data_clean.columns=['clean']\n",
        "data_clean.head()"
      ],
      "metadata": {
        "colab": {
          "base_uri": "https://localhost:8080/",
          "height": 206
        },
        "id": "U2rq356kDN80",
        "outputId": "387b3910-1210-4af1-b548-dd0577a902c3"
      },
      "execution_count": null,
      "outputs": [
        {
          "output_type": "execute_result",
          "data": {
            "text/plain": [
              "                                               clean\n",
              "0  liga inggris paling cepat gulir usai jeda pial...\n",
              "1  main tottenham hotspur laga piala dunia qatar ...\n",
              "2  mustahil beri istirahat banyak main piala duni...\n",
              "3  antonio conte vokal lantar premier league jadi...\n",
              "4  kylian mbappe lionel messi kandidat kuat raih ..."
            ],
            "text/html": [
              "\n",
              "  <div id=\"df-d43d673d-ce5e-4aad-9405-cb8ae1351c58\">\n",
              "    <div class=\"colab-df-container\">\n",
              "      <div>\n",
              "<style scoped>\n",
              "    .dataframe tbody tr th:only-of-type {\n",
              "        vertical-align: middle;\n",
              "    }\n",
              "\n",
              "    .dataframe tbody tr th {\n",
              "        vertical-align: top;\n",
              "    }\n",
              "\n",
              "    .dataframe thead th {\n",
              "        text-align: right;\n",
              "    }\n",
              "</style>\n",
              "<table border=\"1\" class=\"dataframe\">\n",
              "  <thead>\n",
              "    <tr style=\"text-align: right;\">\n",
              "      <th></th>\n",
              "      <th>clean</th>\n",
              "    </tr>\n",
              "  </thead>\n",
              "  <tbody>\n",
              "    <tr>\n",
              "      <th>0</th>\n",
              "      <td>liga inggris paling cepat gulir usai jeda pial...</td>\n",
              "    </tr>\n",
              "    <tr>\n",
              "      <th>1</th>\n",
              "      <td>main tottenham hotspur laga piala dunia qatar ...</td>\n",
              "    </tr>\n",
              "    <tr>\n",
              "      <th>2</th>\n",
              "      <td>mustahil beri istirahat banyak main piala duni...</td>\n",
              "    </tr>\n",
              "    <tr>\n",
              "      <th>3</th>\n",
              "      <td>antonio conte vokal lantar premier league jadi...</td>\n",
              "    </tr>\n",
              "    <tr>\n",
              "      <th>4</th>\n",
              "      <td>kylian mbappe lionel messi kandidat kuat raih ...</td>\n",
              "    </tr>\n",
              "  </tbody>\n",
              "</table>\n",
              "</div>\n",
              "      <button class=\"colab-df-convert\" onclick=\"convertToInteractive('df-d43d673d-ce5e-4aad-9405-cb8ae1351c58')\"\n",
              "              title=\"Convert this dataframe to an interactive table.\"\n",
              "              style=\"display:none;\">\n",
              "        \n",
              "  <svg xmlns=\"http://www.w3.org/2000/svg\" height=\"24px\"viewBox=\"0 0 24 24\"\n",
              "       width=\"24px\">\n",
              "    <path d=\"M0 0h24v24H0V0z\" fill=\"none\"/>\n",
              "    <path d=\"M18.56 5.44l.94 2.06.94-2.06 2.06-.94-2.06-.94-.94-2.06-.94 2.06-2.06.94zm-11 1L8.5 8.5l.94-2.06 2.06-.94-2.06-.94L8.5 2.5l-.94 2.06-2.06.94zm10 10l.94 2.06.94-2.06 2.06-.94-2.06-.94-.94-2.06-.94 2.06-2.06.94z\"/><path d=\"M17.41 7.96l-1.37-1.37c-.4-.4-.92-.59-1.43-.59-.52 0-1.04.2-1.43.59L10.3 9.45l-7.72 7.72c-.78.78-.78 2.05 0 2.83L4 21.41c.39.39.9.59 1.41.59.51 0 1.02-.2 1.41-.59l7.78-7.78 2.81-2.81c.8-.78.8-2.07 0-2.86zM5.41 20L4 18.59l7.72-7.72 1.47 1.35L5.41 20z\"/>\n",
              "  </svg>\n",
              "      </button>\n",
              "      \n",
              "  <style>\n",
              "    .colab-df-container {\n",
              "      display:flex;\n",
              "      flex-wrap:wrap;\n",
              "      gap: 12px;\n",
              "    }\n",
              "\n",
              "    .colab-df-convert {\n",
              "      background-color: #E8F0FE;\n",
              "      border: none;\n",
              "      border-radius: 50%;\n",
              "      cursor: pointer;\n",
              "      display: none;\n",
              "      fill: #1967D2;\n",
              "      height: 32px;\n",
              "      padding: 0 0 0 0;\n",
              "      width: 32px;\n",
              "    }\n",
              "\n",
              "    .colab-df-convert:hover {\n",
              "      background-color: #E2EBFA;\n",
              "      box-shadow: 0px 1px 2px rgba(60, 64, 67, 0.3), 0px 1px 3px 1px rgba(60, 64, 67, 0.15);\n",
              "      fill: #174EA6;\n",
              "    }\n",
              "\n",
              "    [theme=dark] .colab-df-convert {\n",
              "      background-color: #3B4455;\n",
              "      fill: #D2E3FC;\n",
              "    }\n",
              "\n",
              "    [theme=dark] .colab-df-convert:hover {\n",
              "      background-color: #434B5C;\n",
              "      box-shadow: 0px 1px 3px 1px rgba(0, 0, 0, 0.15);\n",
              "      filter: drop-shadow(0px 1px 2px rgba(0, 0, 0, 0.3));\n",
              "      fill: #FFFFFF;\n",
              "    }\n",
              "  </style>\n",
              "\n",
              "      <script>\n",
              "        const buttonEl =\n",
              "          document.querySelector('#df-d43d673d-ce5e-4aad-9405-cb8ae1351c58 button.colab-df-convert');\n",
              "        buttonEl.style.display =\n",
              "          google.colab.kernel.accessAllowed ? 'block' : 'none';\n",
              "\n",
              "        async function convertToInteractive(key) {\n",
              "          const element = document.querySelector('#df-d43d673d-ce5e-4aad-9405-cb8ae1351c58');\n",
              "          const dataTable =\n",
              "            await google.colab.kernel.invokeFunction('convertToInteractive',\n",
              "                                                     [key], {});\n",
              "          if (!dataTable) return;\n",
              "\n",
              "          const docLinkHtml = 'Like what you see? Visit the ' +\n",
              "            '<a target=\"_blank\" href=https://colab.research.google.com/notebooks/data_table.ipynb>data table notebook</a>'\n",
              "            + ' to learn more about interactive tables.';\n",
              "          element.innerHTML = '';\n",
              "          dataTable['output_type'] = 'display_data';\n",
              "          await google.colab.output.renderOutput(dataTable, element);\n",
              "          const docLink = document.createElement('div');\n",
              "          docLink.innerHTML = docLinkHtml;\n",
              "          element.appendChild(docLink);\n",
              "        }\n",
              "      </script>\n",
              "    </div>\n",
              "  </div>\n",
              "  "
            ]
          },
          "metadata": {},
          "execution_count": 72
        }
      ]
    },
    {
      "cell_type": "code",
      "source": [
        "print(data_clean.duplicated().sum())"
      ],
      "metadata": {
        "colab": {
          "base_uri": "https://localhost:8080/"
        },
        "id": "r9JnRGdwLlzs",
        "outputId": "e7322e13-397e-4341-e3af-0d87b21addd8"
      },
      "execution_count": null,
      "outputs": [
        {
          "output_type": "stream",
          "name": "stdout",
          "text": [
            "13490\n"
          ]
        }
      ]
    },
    {
      "cell_type": "code",
      "source": [
        "data_clean.drop_duplicates(inplace=True)\n"
      ],
      "metadata": {
        "id": "3lstRP7lLnhj"
      },
      "execution_count": null,
      "outputs": []
    },
    {
      "cell_type": "markdown",
      "source": [
        "Data yang Sudah di Clean kemudian akan di translate bahasa ke dalam bahasa inggris dengan fungsi trans(x), dengan tujuan memudahkan proses analisis sentimen"
      ],
      "metadata": {
        "id": "1y1WhX737TTW"
      }
    },
    {
      "cell_type": "markdown",
      "source": [
        "Translate Data"
      ],
      "metadata": {
        "id": "QphZneHOD5qz"
      }
    },
    {
      "cell_type": "markdown",
      "source": [
        "Kemudian simpan datanya dalam bentuk csv"
      ],
      "metadata": {
        "id": "twFeswPLlkr8"
      }
    },
    {
      "cell_type": "code",
      "source": [
        "def trans(x):\n",
        "    try:\n",
        "        blob = TextBlob(x)\n",
        "        return (str(blob.translate(from_lang = 'id', to = 'en')))\n",
        "    except: \n",
        "        return None"
      ],
      "metadata": {
        "id": "HX_rSO-aD4ZF"
      },
      "execution_count": null,
      "outputs": []
    },
    {
      "cell_type": "markdown",
      "source": [
        "![empat](https://drive.google.com/uc?export=view&id=1YHYIb3CkYpbvZmeQZsvcyXSelVgNbedb)"
      ],
      "metadata": {
        "id": "GP4gjHPwlQJt"
      }
    },
    {
      "cell_type": "markdown",
      "source": [
        "Data yang sudah di translate kemudian didownload dan diupload ke dalam repository untuk memudahkan Sentimen Analisis"
      ],
      "metadata": {
        "id": "at_2hFcj8Gqw"
      }
    },
    {
      "cell_type": "markdown",
      "source": [
        "# ANALISIS SENTIMEN"
      ],
      "metadata": {
        "id": "nyRIC4YvASD9"
      }
    },
    {
      "cell_type": "code",
      "source": [
        "data_trans = pd.read_csv('https://raw.githubusercontent.com/adityafirmansyah01/datminprojekahir/main/translate.csv', header=None)\n",
        "data_trans.columns=['tweet']"
      ],
      "metadata": {
        "id": "ieID1PTXS8JO"
      },
      "execution_count": null,
      "outputs": []
    },
    {
      "cell_type": "code",
      "source": [
        "data_trans.drop_duplicates(inplace=True)"
      ],
      "metadata": {
        "id": "CF11Ryi9UO-R"
      },
      "execution_count": null,
      "outputs": []
    },
    {
      "cell_type": "code",
      "source": [
        "data_trans.reset_index(inplace=True)\n",
        "data_trans.drop(\"index\",axis =1,inplace=True)\n",
        "data_trans.head()"
      ],
      "metadata": {
        "colab": {
          "base_uri": "https://localhost:8080/",
          "height": 206
        },
        "id": "2wopm9VmZG5T",
        "outputId": "eee02711-dbcc-4c9b-b2eb-5da16a6750dd"
      },
      "execution_count": null,
      "outputs": [
        {
          "output_type": "execute_result",
          "data": {
            "text/plain": [
              "                                               tweet\n",
              "0  English League The fastest scrolls after the 2...\n",
              "1  Main Tottenham Hotspur Qatar World Cup match H...\n",
              "2  It is impossible to give a lot of rest to play...\n",
              "3  Antonio Conte Vocal Lantar Premier League so t...\n",
              "4  Kylian Mbappe Lionel Messi Strong Candidate Wi..."
            ],
            "text/html": [
              "\n",
              "  <div id=\"df-ca99ea12-957e-4f4b-937e-0246216861d6\">\n",
              "    <div class=\"colab-df-container\">\n",
              "      <div>\n",
              "<style scoped>\n",
              "    .dataframe tbody tr th:only-of-type {\n",
              "        vertical-align: middle;\n",
              "    }\n",
              "\n",
              "    .dataframe tbody tr th {\n",
              "        vertical-align: top;\n",
              "    }\n",
              "\n",
              "    .dataframe thead th {\n",
              "        text-align: right;\n",
              "    }\n",
              "</style>\n",
              "<table border=\"1\" class=\"dataframe\">\n",
              "  <thead>\n",
              "    <tr style=\"text-align: right;\">\n",
              "      <th></th>\n",
              "      <th>tweet</th>\n",
              "    </tr>\n",
              "  </thead>\n",
              "  <tbody>\n",
              "    <tr>\n",
              "      <th>0</th>\n",
              "      <td>English League The fastest scrolls after the 2...</td>\n",
              "    </tr>\n",
              "    <tr>\n",
              "      <th>1</th>\n",
              "      <td>Main Tottenham Hotspur Qatar World Cup match H...</td>\n",
              "    </tr>\n",
              "    <tr>\n",
              "      <th>2</th>\n",
              "      <td>It is impossible to give a lot of rest to play...</td>\n",
              "    </tr>\n",
              "    <tr>\n",
              "      <th>3</th>\n",
              "      <td>Antonio Conte Vocal Lantar Premier League so t...</td>\n",
              "    </tr>\n",
              "    <tr>\n",
              "      <th>4</th>\n",
              "      <td>Kylian Mbappe Lionel Messi Strong Candidate Wi...</td>\n",
              "    </tr>\n",
              "  </tbody>\n",
              "</table>\n",
              "</div>\n",
              "      <button class=\"colab-df-convert\" onclick=\"convertToInteractive('df-ca99ea12-957e-4f4b-937e-0246216861d6')\"\n",
              "              title=\"Convert this dataframe to an interactive table.\"\n",
              "              style=\"display:none;\">\n",
              "        \n",
              "  <svg xmlns=\"http://www.w3.org/2000/svg\" height=\"24px\"viewBox=\"0 0 24 24\"\n",
              "       width=\"24px\">\n",
              "    <path d=\"M0 0h24v24H0V0z\" fill=\"none\"/>\n",
              "    <path d=\"M18.56 5.44l.94 2.06.94-2.06 2.06-.94-2.06-.94-.94-2.06-.94 2.06-2.06.94zm-11 1L8.5 8.5l.94-2.06 2.06-.94-2.06-.94L8.5 2.5l-.94 2.06-2.06.94zm10 10l.94 2.06.94-2.06 2.06-.94-2.06-.94-.94-2.06-.94 2.06-2.06.94z\"/><path d=\"M17.41 7.96l-1.37-1.37c-.4-.4-.92-.59-1.43-.59-.52 0-1.04.2-1.43.59L10.3 9.45l-7.72 7.72c-.78.78-.78 2.05 0 2.83L4 21.41c.39.39.9.59 1.41.59.51 0 1.02-.2 1.41-.59l7.78-7.78 2.81-2.81c.8-.78.8-2.07 0-2.86zM5.41 20L4 18.59l7.72-7.72 1.47 1.35L5.41 20z\"/>\n",
              "  </svg>\n",
              "      </button>\n",
              "      \n",
              "  <style>\n",
              "    .colab-df-container {\n",
              "      display:flex;\n",
              "      flex-wrap:wrap;\n",
              "      gap: 12px;\n",
              "    }\n",
              "\n",
              "    .colab-df-convert {\n",
              "      background-color: #E8F0FE;\n",
              "      border: none;\n",
              "      border-radius: 50%;\n",
              "      cursor: pointer;\n",
              "      display: none;\n",
              "      fill: #1967D2;\n",
              "      height: 32px;\n",
              "      padding: 0 0 0 0;\n",
              "      width: 32px;\n",
              "    }\n",
              "\n",
              "    .colab-df-convert:hover {\n",
              "      background-color: #E2EBFA;\n",
              "      box-shadow: 0px 1px 2px rgba(60, 64, 67, 0.3), 0px 1px 3px 1px rgba(60, 64, 67, 0.15);\n",
              "      fill: #174EA6;\n",
              "    }\n",
              "\n",
              "    [theme=dark] .colab-df-convert {\n",
              "      background-color: #3B4455;\n",
              "      fill: #D2E3FC;\n",
              "    }\n",
              "\n",
              "    [theme=dark] .colab-df-convert:hover {\n",
              "      background-color: #434B5C;\n",
              "      box-shadow: 0px 1px 3px 1px rgba(0, 0, 0, 0.15);\n",
              "      filter: drop-shadow(0px 1px 2px rgba(0, 0, 0, 0.3));\n",
              "      fill: #FFFFFF;\n",
              "    }\n",
              "  </style>\n",
              "\n",
              "      <script>\n",
              "        const buttonEl =\n",
              "          document.querySelector('#df-ca99ea12-957e-4f4b-937e-0246216861d6 button.colab-df-convert');\n",
              "        buttonEl.style.display =\n",
              "          google.colab.kernel.accessAllowed ? 'block' : 'none';\n",
              "\n",
              "        async function convertToInteractive(key) {\n",
              "          const element = document.querySelector('#df-ca99ea12-957e-4f4b-937e-0246216861d6');\n",
              "          const dataTable =\n",
              "            await google.colab.kernel.invokeFunction('convertToInteractive',\n",
              "                                                     [key], {});\n",
              "          if (!dataTable) return;\n",
              "\n",
              "          const docLinkHtml = 'Like what you see? Visit the ' +\n",
              "            '<a target=\"_blank\" href=https://colab.research.google.com/notebooks/data_table.ipynb>data table notebook</a>'\n",
              "            + ' to learn more about interactive tables.';\n",
              "          element.innerHTML = '';\n",
              "          dataTable['output_type'] = 'display_data';\n",
              "          await google.colab.output.renderOutput(dataTable, element);\n",
              "          const docLink = document.createElement('div');\n",
              "          docLink.innerHTML = docLinkHtml;\n",
              "          element.appendChild(docLink);\n",
              "        }\n",
              "      </script>\n",
              "    </div>\n",
              "  </div>\n",
              "  "
            ]
          },
          "metadata": {},
          "execution_count": 78
        }
      ]
    },
    {
      "cell_type": "markdown",
      "source": [
        "Membersihkan simbol-simbol pada tweet"
      ],
      "metadata": {
        "id": "N_ZnJ92hZV9N"
      }
    },
    {
      "cell_type": "code",
      "source": [
        "def clean_text(text):  \n",
        "    pat1 = r'@[^ ]+'                   \n",
        "    pat2 = r'https?://[A-Za-z0-9./]+'  \n",
        "    pat3 = r'\\'s'                      \n",
        "    pat4 = r'\\#\\w+'                    \n",
        "    pat5 = r'&amp '\n",
        "    pat6 = r'[^A-Za-z\\s]'         \n",
        "    combined_pat = r'|'.join((pat1, pat2,pat3,pat4,pat5, pat6))\n",
        "    text = re.sub(combined_pat,\"\",text).lower()\n",
        "    return text.strip()"
      ],
      "metadata": {
        "id": "CuYiwni8ZUbV"
      },
      "execution_count": null,
      "outputs": []
    },
    {
      "cell_type": "code",
      "source": [
        "data_trans['tweet']= data_trans['tweet'].astype(str)"
      ],
      "metadata": {
        "id": "y2bnYLRtZiYP"
      },
      "execution_count": null,
      "outputs": []
    },
    {
      "cell_type": "code",
      "source": [
        "data_trans[\"cleaned_tweet\"] = data_trans[\"tweet\"].apply(clean_text)\n",
        "data_trans = data_trans [ ~(data_trans[\"tweet\"] ==\"\")]"
      ],
      "metadata": {
        "id": "jER4ma5dZs4I"
      },
      "execution_count": null,
      "outputs": []
    },
    {
      "cell_type": "code",
      "source": [
        "data_trans.tail()"
      ],
      "metadata": {
        "colab": {
          "base_uri": "https://localhost:8080/",
          "height": 206
        },
        "id": "5QGogvboaNaR",
        "outputId": "3722ea96-da6d-4416-b59a-a723ffb30389"
      },
      "execution_count": null,
      "outputs": [
        {
          "output_type": "execute_result",
          "data": {
            "text/plain": [
              "                                                   tweet  \\\n",
              "10357  Argentina Champion World Cup 2022 Qatar Temogr...   \n",
              "10358  End of World Cup when supporting the Indonesia...   \n",
              "10359  not the name of the Qatar World Cup 2022 Narra...   \n",
              "10360    Euyy, how long was the World Cup yesterday haha   \n",
              "10361  Argentina when the World Cup champion there is...   \n",
              "\n",
              "                                           cleaned_tweet  \n",
              "10357    argentina champion world cup  qatar temographic  \n",
              "10358  end of world cup when supporting the indonesia...  \n",
              "10359  not the name of the qatar world cup  narration...  \n",
              "10360     euyy how long was the world cup yesterday haha  \n",
              "10361  argentina when the world cup champion there is...  "
            ],
            "text/html": [
              "\n",
              "  <div id=\"df-538e1aa6-b9df-4bbe-83e6-0dc4486db09f\">\n",
              "    <div class=\"colab-df-container\">\n",
              "      <div>\n",
              "<style scoped>\n",
              "    .dataframe tbody tr th:only-of-type {\n",
              "        vertical-align: middle;\n",
              "    }\n",
              "\n",
              "    .dataframe tbody tr th {\n",
              "        vertical-align: top;\n",
              "    }\n",
              "\n",
              "    .dataframe thead th {\n",
              "        text-align: right;\n",
              "    }\n",
              "</style>\n",
              "<table border=\"1\" class=\"dataframe\">\n",
              "  <thead>\n",
              "    <tr style=\"text-align: right;\">\n",
              "      <th></th>\n",
              "      <th>tweet</th>\n",
              "      <th>cleaned_tweet</th>\n",
              "    </tr>\n",
              "  </thead>\n",
              "  <tbody>\n",
              "    <tr>\n",
              "      <th>10357</th>\n",
              "      <td>Argentina Champion World Cup 2022 Qatar Temogr...</td>\n",
              "      <td>argentina champion world cup  qatar temographic</td>\n",
              "    </tr>\n",
              "    <tr>\n",
              "      <th>10358</th>\n",
              "      <td>End of World Cup when supporting the Indonesia...</td>\n",
              "      <td>end of world cup when supporting the indonesia...</td>\n",
              "    </tr>\n",
              "    <tr>\n",
              "      <th>10359</th>\n",
              "      <td>not the name of the Qatar World Cup 2022 Narra...</td>\n",
              "      <td>not the name of the qatar world cup  narration...</td>\n",
              "    </tr>\n",
              "    <tr>\n",
              "      <th>10360</th>\n",
              "      <td>Euyy, how long was the World Cup yesterday haha</td>\n",
              "      <td>euyy how long was the world cup yesterday haha</td>\n",
              "    </tr>\n",
              "    <tr>\n",
              "      <th>10361</th>\n",
              "      <td>Argentina when the World Cup champion there is...</td>\n",
              "      <td>argentina when the world cup champion there is...</td>\n",
              "    </tr>\n",
              "  </tbody>\n",
              "</table>\n",
              "</div>\n",
              "      <button class=\"colab-df-convert\" onclick=\"convertToInteractive('df-538e1aa6-b9df-4bbe-83e6-0dc4486db09f')\"\n",
              "              title=\"Convert this dataframe to an interactive table.\"\n",
              "              style=\"display:none;\">\n",
              "        \n",
              "  <svg xmlns=\"http://www.w3.org/2000/svg\" height=\"24px\"viewBox=\"0 0 24 24\"\n",
              "       width=\"24px\">\n",
              "    <path d=\"M0 0h24v24H0V0z\" fill=\"none\"/>\n",
              "    <path d=\"M18.56 5.44l.94 2.06.94-2.06 2.06-.94-2.06-.94-.94-2.06-.94 2.06-2.06.94zm-11 1L8.5 8.5l.94-2.06 2.06-.94-2.06-.94L8.5 2.5l-.94 2.06-2.06.94zm10 10l.94 2.06.94-2.06 2.06-.94-2.06-.94-.94-2.06-.94 2.06-2.06.94z\"/><path d=\"M17.41 7.96l-1.37-1.37c-.4-.4-.92-.59-1.43-.59-.52 0-1.04.2-1.43.59L10.3 9.45l-7.72 7.72c-.78.78-.78 2.05 0 2.83L4 21.41c.39.39.9.59 1.41.59.51 0 1.02-.2 1.41-.59l7.78-7.78 2.81-2.81c.8-.78.8-2.07 0-2.86zM5.41 20L4 18.59l7.72-7.72 1.47 1.35L5.41 20z\"/>\n",
              "  </svg>\n",
              "      </button>\n",
              "      \n",
              "  <style>\n",
              "    .colab-df-container {\n",
              "      display:flex;\n",
              "      flex-wrap:wrap;\n",
              "      gap: 12px;\n",
              "    }\n",
              "\n",
              "    .colab-df-convert {\n",
              "      background-color: #E8F0FE;\n",
              "      border: none;\n",
              "      border-radius: 50%;\n",
              "      cursor: pointer;\n",
              "      display: none;\n",
              "      fill: #1967D2;\n",
              "      height: 32px;\n",
              "      padding: 0 0 0 0;\n",
              "      width: 32px;\n",
              "    }\n",
              "\n",
              "    .colab-df-convert:hover {\n",
              "      background-color: #E2EBFA;\n",
              "      box-shadow: 0px 1px 2px rgba(60, 64, 67, 0.3), 0px 1px 3px 1px rgba(60, 64, 67, 0.15);\n",
              "      fill: #174EA6;\n",
              "    }\n",
              "\n",
              "    [theme=dark] .colab-df-convert {\n",
              "      background-color: #3B4455;\n",
              "      fill: #D2E3FC;\n",
              "    }\n",
              "\n",
              "    [theme=dark] .colab-df-convert:hover {\n",
              "      background-color: #434B5C;\n",
              "      box-shadow: 0px 1px 3px 1px rgba(0, 0, 0, 0.15);\n",
              "      filter: drop-shadow(0px 1px 2px rgba(0, 0, 0, 0.3));\n",
              "      fill: #FFFFFF;\n",
              "    }\n",
              "  </style>\n",
              "\n",
              "      <script>\n",
              "        const buttonEl =\n",
              "          document.querySelector('#df-538e1aa6-b9df-4bbe-83e6-0dc4486db09f button.colab-df-convert');\n",
              "        buttonEl.style.display =\n",
              "          google.colab.kernel.accessAllowed ? 'block' : 'none';\n",
              "\n",
              "        async function convertToInteractive(key) {\n",
              "          const element = document.querySelector('#df-538e1aa6-b9df-4bbe-83e6-0dc4486db09f');\n",
              "          const dataTable =\n",
              "            await google.colab.kernel.invokeFunction('convertToInteractive',\n",
              "                                                     [key], {});\n",
              "          if (!dataTable) return;\n",
              "\n",
              "          const docLinkHtml = 'Like what you see? Visit the ' +\n",
              "            '<a target=\"_blank\" href=https://colab.research.google.com/notebooks/data_table.ipynb>data table notebook</a>'\n",
              "            + ' to learn more about interactive tables.';\n",
              "          element.innerHTML = '';\n",
              "          dataTable['output_type'] = 'display_data';\n",
              "          await google.colab.output.renderOutput(dataTable, element);\n",
              "          const docLink = document.createElement('div');\n",
              "          docLink.innerHTML = docLinkHtml;\n",
              "          element.appendChild(docLink);\n",
              "        }\n",
              "      </script>\n",
              "    </div>\n",
              "  </div>\n",
              "  "
            ]
          },
          "metadata": {},
          "execution_count": 82
        }
      ]
    },
    {
      "cell_type": "code",
      "source": [
        "%%time\n",
        "print(\"Running sentiment process\")\n",
        "for row in data_trans.itertuples():\n",
        "    tweet = data_trans.at[row[0], 'cleaned_tweet']\n",
        "\n",
        "    #run sentiment using TextBlob\n",
        "    analysis = TextBlob(tweet)\n",
        "\n",
        "    #set value to dataframe\n",
        "    data_trans.at[row[0], 'polarity'] = analysis.sentiment[0]\n",
        "    data_trans.at[row[0], 'subjectivity'] = analysis.sentiment[1]\n",
        "\n",
        "    #Create Positive / negative column depending on polarity\n",
        "    if analysis.sentiment[0]>0:\n",
        "        data_trans.at[row[0], 'Sentiment'] = \"Positive\"\n",
        "    elif analysis.sentiment[0]<0:\n",
        "        data_trans.at[row[0], 'Sentiment'] = \"Negative\"\n",
        "    else:\n",
        "        data_trans.at[row[0], 'Sentiment'] = \"Neutral\""
      ],
      "metadata": {
        "colab": {
          "base_uri": "https://localhost:8080/"
        },
        "id": "0AXUjWMDWaSD",
        "outputId": "700232b3-e2b6-4215-9c8b-47f22c5be6e8"
      },
      "execution_count": null,
      "outputs": [
        {
          "output_type": "stream",
          "name": "stdout",
          "text": [
            "Running sentiment process\n",
            "CPU times: user 3.77 s, sys: 27.3 ms, total: 3.8 s\n",
            "Wall time: 4.09 s\n"
          ]
        }
      ]
    },
    {
      "cell_type": "code",
      "source": [
        "data_trans[[\"cleaned_tweet\",\"polarity\",\"Sentiment\",\"subjectivity\"]].head(5)"
      ],
      "metadata": {
        "colab": {
          "base_uri": "https://localhost:8080/",
          "height": 206
        },
        "id": "YKNZ9Il7aXtq",
        "outputId": "5e1387fc-80cb-4a1f-8e61-3f8d6b06ab66"
      },
      "execution_count": null,
      "outputs": [
        {
          "output_type": "execute_result",
          "data": {
            "text/plain": [
              "                                       cleaned_tweet  polarity Sentiment  \\\n",
              "0  english league the fastest scrolls after the  ... -0.200000  Negative   \n",
              "1  main tottenham hotspur qatar world cup match h...  0.166667  Positive   \n",
              "2  it is impossible to give a lot of rest to play... -0.036111  Negative   \n",
              "3  antonio conte vocal lantar premier league so t...  0.360000  Positive   \n",
              "4  kylian mbappe lionel messi strong candidate wi...  0.477778  Positive   \n",
              "\n",
              "   subjectivity  \n",
              "0      0.400000  \n",
              "1      0.333333  \n",
              "2      0.482143  \n",
              "3      0.596667  \n",
              "4      0.511111  "
            ],
            "text/html": [
              "\n",
              "  <div id=\"df-ec4f7781-9c4d-4b0a-ae9f-5d63553f2f7b\">\n",
              "    <div class=\"colab-df-container\">\n",
              "      <div>\n",
              "<style scoped>\n",
              "    .dataframe tbody tr th:only-of-type {\n",
              "        vertical-align: middle;\n",
              "    }\n",
              "\n",
              "    .dataframe tbody tr th {\n",
              "        vertical-align: top;\n",
              "    }\n",
              "\n",
              "    .dataframe thead th {\n",
              "        text-align: right;\n",
              "    }\n",
              "</style>\n",
              "<table border=\"1\" class=\"dataframe\">\n",
              "  <thead>\n",
              "    <tr style=\"text-align: right;\">\n",
              "      <th></th>\n",
              "      <th>cleaned_tweet</th>\n",
              "      <th>polarity</th>\n",
              "      <th>Sentiment</th>\n",
              "      <th>subjectivity</th>\n",
              "    </tr>\n",
              "  </thead>\n",
              "  <tbody>\n",
              "    <tr>\n",
              "      <th>0</th>\n",
              "      <td>english league the fastest scrolls after the  ...</td>\n",
              "      <td>-0.200000</td>\n",
              "      <td>Negative</td>\n",
              "      <td>0.400000</td>\n",
              "    </tr>\n",
              "    <tr>\n",
              "      <th>1</th>\n",
              "      <td>main tottenham hotspur qatar world cup match h...</td>\n",
              "      <td>0.166667</td>\n",
              "      <td>Positive</td>\n",
              "      <td>0.333333</td>\n",
              "    </tr>\n",
              "    <tr>\n",
              "      <th>2</th>\n",
              "      <td>it is impossible to give a lot of rest to play...</td>\n",
              "      <td>-0.036111</td>\n",
              "      <td>Negative</td>\n",
              "      <td>0.482143</td>\n",
              "    </tr>\n",
              "    <tr>\n",
              "      <th>3</th>\n",
              "      <td>antonio conte vocal lantar premier league so t...</td>\n",
              "      <td>0.360000</td>\n",
              "      <td>Positive</td>\n",
              "      <td>0.596667</td>\n",
              "    </tr>\n",
              "    <tr>\n",
              "      <th>4</th>\n",
              "      <td>kylian mbappe lionel messi strong candidate wi...</td>\n",
              "      <td>0.477778</td>\n",
              "      <td>Positive</td>\n",
              "      <td>0.511111</td>\n",
              "    </tr>\n",
              "  </tbody>\n",
              "</table>\n",
              "</div>\n",
              "      <button class=\"colab-df-convert\" onclick=\"convertToInteractive('df-ec4f7781-9c4d-4b0a-ae9f-5d63553f2f7b')\"\n",
              "              title=\"Convert this dataframe to an interactive table.\"\n",
              "              style=\"display:none;\">\n",
              "        \n",
              "  <svg xmlns=\"http://www.w3.org/2000/svg\" height=\"24px\"viewBox=\"0 0 24 24\"\n",
              "       width=\"24px\">\n",
              "    <path d=\"M0 0h24v24H0V0z\" fill=\"none\"/>\n",
              "    <path d=\"M18.56 5.44l.94 2.06.94-2.06 2.06-.94-2.06-.94-.94-2.06-.94 2.06-2.06.94zm-11 1L8.5 8.5l.94-2.06 2.06-.94-2.06-.94L8.5 2.5l-.94 2.06-2.06.94zm10 10l.94 2.06.94-2.06 2.06-.94-2.06-.94-.94-2.06-.94 2.06-2.06.94z\"/><path d=\"M17.41 7.96l-1.37-1.37c-.4-.4-.92-.59-1.43-.59-.52 0-1.04.2-1.43.59L10.3 9.45l-7.72 7.72c-.78.78-.78 2.05 0 2.83L4 21.41c.39.39.9.59 1.41.59.51 0 1.02-.2 1.41-.59l7.78-7.78 2.81-2.81c.8-.78.8-2.07 0-2.86zM5.41 20L4 18.59l7.72-7.72 1.47 1.35L5.41 20z\"/>\n",
              "  </svg>\n",
              "      </button>\n",
              "      \n",
              "  <style>\n",
              "    .colab-df-container {\n",
              "      display:flex;\n",
              "      flex-wrap:wrap;\n",
              "      gap: 12px;\n",
              "    }\n",
              "\n",
              "    .colab-df-convert {\n",
              "      background-color: #E8F0FE;\n",
              "      border: none;\n",
              "      border-radius: 50%;\n",
              "      cursor: pointer;\n",
              "      display: none;\n",
              "      fill: #1967D2;\n",
              "      height: 32px;\n",
              "      padding: 0 0 0 0;\n",
              "      width: 32px;\n",
              "    }\n",
              "\n",
              "    .colab-df-convert:hover {\n",
              "      background-color: #E2EBFA;\n",
              "      box-shadow: 0px 1px 2px rgba(60, 64, 67, 0.3), 0px 1px 3px 1px rgba(60, 64, 67, 0.15);\n",
              "      fill: #174EA6;\n",
              "    }\n",
              "\n",
              "    [theme=dark] .colab-df-convert {\n",
              "      background-color: #3B4455;\n",
              "      fill: #D2E3FC;\n",
              "    }\n",
              "\n",
              "    [theme=dark] .colab-df-convert:hover {\n",
              "      background-color: #434B5C;\n",
              "      box-shadow: 0px 1px 3px 1px rgba(0, 0, 0, 0.15);\n",
              "      filter: drop-shadow(0px 1px 2px rgba(0, 0, 0, 0.3));\n",
              "      fill: #FFFFFF;\n",
              "    }\n",
              "  </style>\n",
              "\n",
              "      <script>\n",
              "        const buttonEl =\n",
              "          document.querySelector('#df-ec4f7781-9c4d-4b0a-ae9f-5d63553f2f7b button.colab-df-convert');\n",
              "        buttonEl.style.display =\n",
              "          google.colab.kernel.accessAllowed ? 'block' : 'none';\n",
              "\n",
              "        async function convertToInteractive(key) {\n",
              "          const element = document.querySelector('#df-ec4f7781-9c4d-4b0a-ae9f-5d63553f2f7b');\n",
              "          const dataTable =\n",
              "            await google.colab.kernel.invokeFunction('convertToInteractive',\n",
              "                                                     [key], {});\n",
              "          if (!dataTable) return;\n",
              "\n",
              "          const docLinkHtml = 'Like what you see? Visit the ' +\n",
              "            '<a target=\"_blank\" href=https://colab.research.google.com/notebooks/data_table.ipynb>data table notebook</a>'\n",
              "            + ' to learn more about interactive tables.';\n",
              "          element.innerHTML = '';\n",
              "          dataTable['output_type'] = 'display_data';\n",
              "          await google.colab.output.renderOutput(dataTable, element);\n",
              "          const docLink = document.createElement('div');\n",
              "          docLink.innerHTML = docLinkHtml;\n",
              "          element.appendChild(docLink);\n",
              "        }\n",
              "      </script>\n",
              "    </div>\n",
              "  </div>\n",
              "  "
            ]
          },
          "metadata": {},
          "execution_count": 84
        }
      ]
    },
    {
      "cell_type": "code",
      "source": [
        "data_trans[[\"cleaned_tweet\",\"polarity\",\"Sentiment\",\"subjectivity\"]].tail(5)"
      ],
      "metadata": {
        "colab": {
          "base_uri": "https://localhost:8080/",
          "height": 206
        },
        "id": "v4hdAp2jaeGI",
        "outputId": "546b5933-d13a-42ad-edc0-76fdc1837113"
      },
      "execution_count": null,
      "outputs": [
        {
          "output_type": "execute_result",
          "data": {
            "text/plain": [
              "                                           cleaned_tweet  polarity Sentiment  \\\n",
              "10357    argentina champion world cup  qatar temographic  0.000000   Neutral   \n",
              "10358  end of world cup when supporting the indonesia...  0.250000  Positive   \n",
              "10359  not the name of the qatar world cup  narration...  0.311667  Positive   \n",
              "10360     euyy how long was the world cup yesterday haha  0.075000  Positive   \n",
              "10361  argentina when the world cup champion there is...  0.000000   Neutral   \n",
              "\n",
              "       subjectivity  \n",
              "10357      0.000000  \n",
              "10358      0.250000  \n",
              "10359      0.523333  \n",
              "10360      0.350000  \n",
              "10361      0.000000  "
            ],
            "text/html": [
              "\n",
              "  <div id=\"df-c0d3b8c6-3e15-46c0-8d74-26dda0e03638\">\n",
              "    <div class=\"colab-df-container\">\n",
              "      <div>\n",
              "<style scoped>\n",
              "    .dataframe tbody tr th:only-of-type {\n",
              "        vertical-align: middle;\n",
              "    }\n",
              "\n",
              "    .dataframe tbody tr th {\n",
              "        vertical-align: top;\n",
              "    }\n",
              "\n",
              "    .dataframe thead th {\n",
              "        text-align: right;\n",
              "    }\n",
              "</style>\n",
              "<table border=\"1\" class=\"dataframe\">\n",
              "  <thead>\n",
              "    <tr style=\"text-align: right;\">\n",
              "      <th></th>\n",
              "      <th>cleaned_tweet</th>\n",
              "      <th>polarity</th>\n",
              "      <th>Sentiment</th>\n",
              "      <th>subjectivity</th>\n",
              "    </tr>\n",
              "  </thead>\n",
              "  <tbody>\n",
              "    <tr>\n",
              "      <th>10357</th>\n",
              "      <td>argentina champion world cup  qatar temographic</td>\n",
              "      <td>0.000000</td>\n",
              "      <td>Neutral</td>\n",
              "      <td>0.000000</td>\n",
              "    </tr>\n",
              "    <tr>\n",
              "      <th>10358</th>\n",
              "      <td>end of world cup when supporting the indonesia...</td>\n",
              "      <td>0.250000</td>\n",
              "      <td>Positive</td>\n",
              "      <td>0.250000</td>\n",
              "    </tr>\n",
              "    <tr>\n",
              "      <th>10359</th>\n",
              "      <td>not the name of the qatar world cup  narration...</td>\n",
              "      <td>0.311667</td>\n",
              "      <td>Positive</td>\n",
              "      <td>0.523333</td>\n",
              "    </tr>\n",
              "    <tr>\n",
              "      <th>10360</th>\n",
              "      <td>euyy how long was the world cup yesterday haha</td>\n",
              "      <td>0.075000</td>\n",
              "      <td>Positive</td>\n",
              "      <td>0.350000</td>\n",
              "    </tr>\n",
              "    <tr>\n",
              "      <th>10361</th>\n",
              "      <td>argentina when the world cup champion there is...</td>\n",
              "      <td>0.000000</td>\n",
              "      <td>Neutral</td>\n",
              "      <td>0.000000</td>\n",
              "    </tr>\n",
              "  </tbody>\n",
              "</table>\n",
              "</div>\n",
              "      <button class=\"colab-df-convert\" onclick=\"convertToInteractive('df-c0d3b8c6-3e15-46c0-8d74-26dda0e03638')\"\n",
              "              title=\"Convert this dataframe to an interactive table.\"\n",
              "              style=\"display:none;\">\n",
              "        \n",
              "  <svg xmlns=\"http://www.w3.org/2000/svg\" height=\"24px\"viewBox=\"0 0 24 24\"\n",
              "       width=\"24px\">\n",
              "    <path d=\"M0 0h24v24H0V0z\" fill=\"none\"/>\n",
              "    <path d=\"M18.56 5.44l.94 2.06.94-2.06 2.06-.94-2.06-.94-.94-2.06-.94 2.06-2.06.94zm-11 1L8.5 8.5l.94-2.06 2.06-.94-2.06-.94L8.5 2.5l-.94 2.06-2.06.94zm10 10l.94 2.06.94-2.06 2.06-.94-2.06-.94-.94-2.06-.94 2.06-2.06.94z\"/><path d=\"M17.41 7.96l-1.37-1.37c-.4-.4-.92-.59-1.43-.59-.52 0-1.04.2-1.43.59L10.3 9.45l-7.72 7.72c-.78.78-.78 2.05 0 2.83L4 21.41c.39.39.9.59 1.41.59.51 0 1.02-.2 1.41-.59l7.78-7.78 2.81-2.81c.8-.78.8-2.07 0-2.86zM5.41 20L4 18.59l7.72-7.72 1.47 1.35L5.41 20z\"/>\n",
              "  </svg>\n",
              "      </button>\n",
              "      \n",
              "  <style>\n",
              "    .colab-df-container {\n",
              "      display:flex;\n",
              "      flex-wrap:wrap;\n",
              "      gap: 12px;\n",
              "    }\n",
              "\n",
              "    .colab-df-convert {\n",
              "      background-color: #E8F0FE;\n",
              "      border: none;\n",
              "      border-radius: 50%;\n",
              "      cursor: pointer;\n",
              "      display: none;\n",
              "      fill: #1967D2;\n",
              "      height: 32px;\n",
              "      padding: 0 0 0 0;\n",
              "      width: 32px;\n",
              "    }\n",
              "\n",
              "    .colab-df-convert:hover {\n",
              "      background-color: #E2EBFA;\n",
              "      box-shadow: 0px 1px 2px rgba(60, 64, 67, 0.3), 0px 1px 3px 1px rgba(60, 64, 67, 0.15);\n",
              "      fill: #174EA6;\n",
              "    }\n",
              "\n",
              "    [theme=dark] .colab-df-convert {\n",
              "      background-color: #3B4455;\n",
              "      fill: #D2E3FC;\n",
              "    }\n",
              "\n",
              "    [theme=dark] .colab-df-convert:hover {\n",
              "      background-color: #434B5C;\n",
              "      box-shadow: 0px 1px 3px 1px rgba(0, 0, 0, 0.15);\n",
              "      filter: drop-shadow(0px 1px 2px rgba(0, 0, 0, 0.3));\n",
              "      fill: #FFFFFF;\n",
              "    }\n",
              "  </style>\n",
              "\n",
              "      <script>\n",
              "        const buttonEl =\n",
              "          document.querySelector('#df-c0d3b8c6-3e15-46c0-8d74-26dda0e03638 button.colab-df-convert');\n",
              "        buttonEl.style.display =\n",
              "          google.colab.kernel.accessAllowed ? 'block' : 'none';\n",
              "\n",
              "        async function convertToInteractive(key) {\n",
              "          const element = document.querySelector('#df-c0d3b8c6-3e15-46c0-8d74-26dda0e03638');\n",
              "          const dataTable =\n",
              "            await google.colab.kernel.invokeFunction('convertToInteractive',\n",
              "                                                     [key], {});\n",
              "          if (!dataTable) return;\n",
              "\n",
              "          const docLinkHtml = 'Like what you see? Visit the ' +\n",
              "            '<a target=\"_blank\" href=https://colab.research.google.com/notebooks/data_table.ipynb>data table notebook</a>'\n",
              "            + ' to learn more about interactive tables.';\n",
              "          element.innerHTML = '';\n",
              "          dataTable['output_type'] = 'display_data';\n",
              "          await google.colab.output.renderOutput(dataTable, element);\n",
              "          const docLink = document.createElement('div');\n",
              "          docLink.innerHTML = docLinkHtml;\n",
              "          element.appendChild(docLink);\n",
              "        }\n",
              "      </script>\n",
              "    </div>\n",
              "  </div>\n",
              "  "
            ]
          },
          "metadata": {},
          "execution_count": 85
        }
      ]
    },
    {
      "cell_type": "code",
      "source": [
        "data_trans['Sentiment'].sum()"
      ],
      "metadata": {
        "colab": {
          "base_uri": "https://localhost:8080/",
          "height": 105
        },
        "id": "NIYgghSm1oxi",
        "outputId": "fed81e0c-600d-40c0-a344-36c75e8b2310"
      },
      "execution_count": null,
      "outputs": [
        {
          "output_type": "execute_result",
          "data": {
            "text/plain": [
              "'NegativePositiveNegativePositivePositivePositiveNeutralPositiveNeutralNeutralPositiveNeutralPositivePositiveNeutralPositiveNeutralPositiveNegativePositivePositivePositiveNeutralNeutralPositiveNeutralPositiveNeutralPositiveNeutralNeutralNeutralNeutralNeutralNeutralPositivePositiveNeutralPositiveNeutralPositiveNeutralNeutralNeutralPositiveNeutralPositiveNeutralNegativeNegativeNeutralPositiveNeutralNeutralPositiveNegativePositiveNeutralNegativeNeutralPositivePositivePositiveNeutralPositiveNeutralNegativeNegativePositiveNeutralNeutralPositivePositivePositiveNeutralNeutralPositiveNeutralNeutralNeutralPositiveNeutralNeutralNegativePositivePositiveNeutralNeutralPositivePositivePositivePositivePositivePositiveNegativeNeutralNeutralNeutralPositiveNegativeNeutralPositiveNegativePositivePositivePositivePositivePositivePositivePositiveNeutralNeutralNeutralNeutralPositiveNeutralNeutralNeutralNeutralPositiveNegativePositiveNeutralPositiveNeutralNegativeNeutralPositiveNegativePositiveNeutralNeutralPositivePositivePositiveNegativePositiveNeutralPositiveNeutralPositiveNeutralPositiveNeutralNeutralPositiveNegativePositivePositiveNeutralPositiveNeutralPositiveNeutralPositivePositivePositivePositivePositivePositiveNeutralPositiveNeutralNegativeNeutralNeutralPositivePositiveNeutralPositivePositiveNeutralNeutralNeutralNeutralPositivePositiveNegativePositiveNeutralNeutralNeutralPositivePositiveNeutralPositiveNeutralNeutralPositivePositivePositivePositivePositivePositivePositiveNeutralNeutralPositivePositivePositiveNeutralNeutralNeutralNegativeNegativePositiveNegativePositiveNeutralNegativeNeutralNeutralPositivePositiveNegativeNeutralPositiveNeutralPositiveNeutralPositivePositivePositivePositiveNegativePositiveNeutralNeutralPositivePositiveNeutralPositivePositiveNeutralNeutralPositivePositivePositivePositiveNeutralPositivePositiveNeutralPositivePositivePositivePositiveNeutralNeutralPositiveNeutralPositiveNeutralPositiveNegativeNeutralNeutralPositiveNegativePositivePositiveNeutralPositiveNeutralNegativeNegativePositiveNeutralNegativePositiveNeutralPositivePositivePositivePositiveNeutralNeutralPositiveNeutralPositiveNegativePositiveNeutralNeutralPositiveNeutralPositiveNeutralPositivePositiveNeutralNeutralNegativeNeutralPositiveNeutralNeutralPositiveNeutralNeutralPositivePositivePositiveNegativePositivePositiveNeutralPositiveNeutralPositiveNegativePositiveNeutralNegativeNegativeNeutralNeutralNeutralNeutralPositivePositivePositivePositiveNeutralNegativePositivePositivePositiveNegativePositiveNeutralNeutralPositivePositivePositivePositivePositiveNeutralPositivePositivePositiveNegativeNegativePositiveNeutralPositiveNeutralNegativePositiveNeutralPositivePositiveNeutralNeutralPositivePositiveNeutralNeutralNegativeNeutralNegativeNeutralNeutralNeutralPositivePositivePositivePositiveNegativePositivePositivePositivePositiveNeutralNegativeNegativeNeutralPositiveNeutralPositiveNeutralPositivePositiveNeutralNeutralNeutralNegativeNegativeNegativeNeutralNeutralPositiveNeutralNegativePositivePositivePositiveNeutralNeutralPositivePositiveNeutralNeutralPositiveNeutralPositiveNegativeNeutralNeutralPositivePositivePositiveNeutralNeutralNegativePositiveNeutralNegativeNeutralNeutralPositiveNeutralPositiveNeutralNeutralNeutralPositivePositiveNeutralPositivePositiveNegativePositivePositivePositivePositivePositiveNeutralNegativePositiveNeutralPositivePositivePositiveNeutralNeutralPositiveNeutralNeutralPositivePositivePositiveNeutralPositiveNegativeNegativePositivePositiveNeutralPositiveNeutralPositiveNegativePositiveNegativeNegativePositiveNeutralPositivePositiveNeutralNeutralPositivePositiveNeutralNeutralNeutralPositivePositiveNeutralNegativeNeutralPositivePositiveNeutralNeutralPositivePositivePositivePositivePositiveNeutralNeutralNeutralNegativeNegativeNeutralNeutralPositiveNeutralNeutralPositiveNeutralPositiveNegativeNeutralPositivePositiveNegativePositiveNeutralNeutralNeutralPositiveNeutralNeutralNeutralPositiveNeutralPositivePositiveNeutralPositiveNeutralNeutralNeutralNegativeNegativePositivePositiveNegativePositivePositiveNeutralNeutralPositiveNeutralPositiveNegativePositiveNeutralPositiveNegativePositivePositivePositiveNeutralNeutralNeutralPositivePositivePositivePositivePositivePositiveNeutralNegativeNeutralNeutralPositiveNeutralNeutralPositivePositivePositiveNeutralPositivePositiveNeutralPositiveNegativePositivePositivePositivePositivePositiveNeutralPositivePositivePositiveNeutralNegativePositiveNeutralPositivePositiveNeutralNegativeNegativePositiveNegativeNeutralNeutralPositiveNegativePositiveNeutralPositiveNeutralNeutralNeutralPositiveNeutralNeutralNeutralNeutralNeutralPositiveNeutralNegativeNegativeNeutralNeutralPositiveNeutralPositiveNegativePositiveNegativePositiveNeutralNeutralPositivePositiveNeutralNeutralPositiveNeutralPositivePositiveNegativePositivePositiveNegativePositiveNegativeNeutralNeutralNeutralPositiveNeutralNeutralPositivePositivePositiveNeutralNeutralPositivePositiveNeutralNeutralNegativeNeutralPositiveNeutralNeutralPositiveNeutralNeutralNegativePositivePositivePositivePositivePositiveNeutralNeutralPositiveNeutralNeutralNeutralNegativeNegativeNeutralNeutralPositiveNeutralNegativePositiveNegativePositivePositiveNegativeNeutralNeutralNeutralNeutralNegativePositiveNeutralNeutralNeutralNeutralNeutralNegativePositiveNeutralNeutralPositivePositiveNeutralNeutralNegativePositivePositivePositivePositivePositivePositivePositivePositiveNeutralPositiveNeutralPositiveNeutralNeutralNegativePositiveNeutralPositiveNeutralPositiveNeutralPositivePositiveNeutralNeutralPositiveNeutralPositivePositiveNeutralNeutralPositivePositivePositiveNeutralPositivePositiveNegativeNegativePositivePositiveNegativeNeutralNeutralNeutralPositiveNeutralNeutralNeutralNeutralPositiveNeutralNeutralNeutralPositiveNeutralPositivePositivePositiveNeutralNeutralNegativeNeutralNeutralPositiveNeutralNegativeNeutralPositivePositiveNeutralNeutralPositiveNeutralNeutralNeutralNeutralNegativeNeutralNeutralNegativePositivePositivePositiveNeutralPositiveNeutralNeutralNeutralPositivePositivePositivePositivePositivePositiveNeutralNeutralNegativePositiveNeutralPositiveNeutralPositivePositivePositivePositiveNegativePositiveNeutralPositivePositiveNegativeNeutralNeutralNeutralNeutralNeutralPositiveNeutralNegativeNeutralNegativePositivePositiveNeutralPositivePositivePositivePositiveNegativeNeutralPositivePositivePositiveNeutralPositiveNeutralPositiveNeutralNeutralPositivePositiveNeutralNeutralPositivePositiveNegativeNeutralPositiveNeutralPositivePositiveNeutralNegativeNeutralPositiveNegativePositivePositivePositivePositiveNeutralNeutralPositiveNeutralNeutralPositiveNeutralNeutralPositivePositiveNeutralPositiveNeutralPositiveNeutralNeutralNeutralNeutralPositivePositivePositiveNeutralPositivePositiveNegativeNeutralPositiveNeutralNeutralNegativeNeutralNeutralPositivePositiveNeutralPositiveNeutralPositiveNeutralPositiveNeutralNeutralPositivePositivePositivePositiveNegativePositivePositiveNeutralPositiveNeutralNeutralNegativeNeutralNeutralPositivePositiveNeutralPositiveNeutralPositiveNeutralNeutralPositivePositivePositiveNegativePositiveNeutralNeutralPositiveNeutralNegativePositiveNeutralNeutralNeutralNeutralNeutralNeutralNegativePositiveNegativeNegativeNegativeNeutralPositiveNegativePositivePositiveNeutralNeutralNegativeNeutralNegativeNeutralPositiveNeutralNeutralPositiveNeutralPositivePositivePositiveNeutralNeutralNeutralNeutralPositiveNeutralPositiveNeutralNeutralNeutralPositivePositiveNeutralPositivePositiveNeutralNeutralPositiveNeutralPositivePositivePositivePositiveNeutralPositivePositiveNeutralNegativeNeutralPositivePositivePositivePositiveNeutralPositivePositivePositivePositivePositivePositiveNeutralNeutralPositiveNeutralNeutralPositiveNegativeNeutralNeutralNegativeNeutralNeutralNegativePositiveNeutralNeutralPositiveNeutralNeutralNeutralPositiveNeutralNeutralNegativeNeutralNeutralNegativeNegativeNeutralNeutralNeutralNeutralNeutralNeutralNeutralNeutralPositivePositivePositivePositivePositiveNeutralPositivePositiveNeutralNeutralPositivePositiveNegativePositivePositiveNeutralNeutralNeutralNeutralNegativePositivePositivePositiveNegativePositivePositivePositiveNeutralNeutralNegativeNegativePositivePositivePositiveNeutralPositivePositiveNeutralNegativeNeutralPositivePositivePositiveNeutralNeutralNeutralPositiveNeutralPositiveNeutralNeutralNeutralNegativeNeutralPositiveNegativePositiveNegativePositivePositivePositivePositivePositivePositivePositiveNeutralNegativePositivePositivePositivePositiveNegativePositiveNeutralPositiveNegativePositiveNeutralPositiveNeutralPositivePositiveNeutralNeutralNeutralNeutralNeutralNegativeNeutralPositivePositiveNeutralPositiveNeutralNegativeNegativeNeutralNeutralNeutralNeutralPositiveNeutralNeutralNeutralPositiveNeutralNeutralNeutralPositiveNeutralPositiveNeutralNeutralNeutralPositiveNeutralNeutralNeutralNeutralNegativePositiveNegativePositiveNeutralNeutralNegativeNeutralNeutralPositiveNeutralPositiveNeutralNeutralPositiveNeutralPositivePositiveNeutralNeutralPositiveNegativePositivePositiveNeutralPositiveNegativeNeutralNeutralNeutralPositiveNeutralNegativePositiveNeutralNeutralNegativePositiveNegativePositivePositiveNeutralNegativeNegativeNeutralNeutralPositivePositiveNeutralPositivePositiveNeutralNeutralNeutralNeutralNeutralPositivePositiveNeutralNeutralNeutralNegativeNegativeNegativePositivePositivePositiveNeutralPositiveNegativeNeutralNegativeNeutralNegativeNeutralNeutralNegativeNeutralNeutralNegativePositiveNegativePositiveNeutralNegativeNeutralPositiveNegativePositiveNeutralNegativePositiveNeutralPositiveNeutralNeutralNeutralNegativePositiveNeutralPositiveNeutralPositivePositiveNegativeNeutralNeutralPositiveNeutralNeutralPositiveNegativeNeutralPositiveNegativeNeutralPositiveNeutralNeutralNeutralNeutralNeutralPositivePositivePositivePositiveNeutralNeutralPositiveNegativeNeutralPositiveNeutralNeutralPositiveNeutralNeutralNeutralPositiveNeutralNeutralPositivePositiveNeutralPositiveNegativeNegativeNeutralNeutralNeutralPositivePositiveNeutralNeutralNeutralPositiveNegativeNeutralNeutralNegativeNegativePositiveNeutralPositivePositivePositiveNeutralPositivePositiveNeutralNegativeNeutralNegativeNeutralPositiveNeutralPositiveNeutralNeutralNeutralNeutralNegativePositiveNeutralPositiveNeutralNeutralNegativePositiveNeutralNeutralNegativePositivePositiveNeutralNegativeNeutralPositiveNeutralPositiveNeutralPositiveNeutralNeutralNeutralPositiveNeutralNeutralPositivePositivePositiveNegativeNegativePositivePositivePositivePositiveNeutralNegativeNeutralPositivePositivePositiveNeutralPositiveNegativePositiveNeutralPositiveNeutralPositiveNeutralNegativePositivePositiveNeutralNeutralPositiveNegativeNegativePositivePositiveNegativeNeutralNegativeNeutralPositivePositivePositivePositivePositivePositivePositivePositivePositiveNeutralPositivePositiveNeutralPositivePositiveNeutralPositiveNegativeNeutralNeutralNeutralNeutralNeutralNeutralPositivePositivePositiveNeutralPositivePositiveNeutralPositivePositiveNeutralNeutralNeutralNeutralNeutralNegativePositiveNeutralNegativePositivePositivePositiveNeutralNeutralNegativePositiveNeutralPositivePositiveNegativePositiveNeutralNeutralNeutralPositivePositivePositiveNeutralPositivePositiveNeutralPositivePositiveNeutralNeutralNeutralNegativeNeutralNeutralNeutralNeutralPositivePositiveNeutralNegativeNegativePositiveNeutralNeutralNeutralPositiveNeutralPositiveNeutralPositiveNegativeNeutralNeutralNegativePositivePositivePositiveNeutralNegativePositiveNeutralNeutralPositivePositivePositivePositivePositiveNeutralNegativeNeutralNeutralPositivePositiveNeutralPositivePositivePositivePositivePositiveNeutralNeutralPositiveNeutralPositiveNeutralNeutralNeutralNegativeNeutralNeutralNeutralNeutralNeutralNeutralPositiveNeutralNeutralPositivePositiveNeutralNeutralPositivePositivePositiveNeutralPositiveNeutralNeutralPositiveNeutralNeutralNeutralNeutralNeutralNegativePositivePositiveNegativeNeutralNegativePositivePositiveNeutralPositivePositivePositiveNeutralNeutralPositiveNegativePositiveNeutralNeutralNeutralNeutralPositivePositiveNeutralNegativePositivePositiveNegativeNeutralNeutralNegativePositivePositiveNeutralPositiveNegativePositivePositivePositiveNeutralPositiveNegativeNegativeNeutralPositivePositiveNeutralPositiveNegativePositivePositivePositivePositivePositiveNeutralPositivePositiveNeutralPositiveNeutralPositivePositivePositiveNeutralNeutralPositivePositivePositivePositiveNeutralNeutralNeutralPositiveNeutralNeutralNeutralNeutralNeutralNeutralPositiveNeutralNegativePositivePositivePositiveNeutralPositiveNegativePositivePositiveNeutralNeutralNegativeNeutralNeutralPositiveNegativePositiveNeutralNeutralPositivePositiveNeutralNeutralNeutralNeutralNeutralPositiveNeutralPositivePositivePositivePositiveNeutralPositiveNeutralPositivePositivePositiveNeutralNegativePositiveNeutralNegativeNeutralNeutralPositiveNeutralPositiveNeutralNeutralPositivePositivePositiveNeutralPositiveNeutralPositivePositivePositivePositivePositivePositivePositivePositiveNeutralPositiveNeutralPositiveNeutralNeutralNeutralPositiveNeutralNeutralPositivePositivePositiveNeutralPositiveNeutralNeutralNegativeNeutralPositiveNeutralNegativePositivePositiveNegativePositivePositiveNeutralNegativeNeutralNeutralPositiveNeutralNeutralPositivePositiveNeutralPositiveNeutralPositivePositivePositivePositiveNeutralNeutralNeutralPositiveNegativePositiveNeutralPositiveNegativeNeutralNeutralNeutralPositivePositivePositiveNeutralPositiveNegativePositivePositiveNegativeNeutralPositiveNegativePositivePositivePositivePositivePositiveNegativePositiveNeutralPositiveNeutralPositivePositiveNeutralPositivePositiveNeutralPositivePositiveNeutralPositivePositiveNeutralPositiveNeutralNeutralNeutralPositiveNeutralNeutralNeutralNeutralPositivePositivePositiveNeutralNeutralNegativePositivePositiveNeutralPositivePositiveNeutralNeutralNeutralPositiveNeutralPositiveNeutralNeutralPositiveNegativePositivePositivePositivePositiveNeutralNeutralPositiveNeutralNeutralNeutralNeutralNeutralPositiveNeutralPositiveNegativeNeutralNegativePositiveNeutralPositivePositivePositivePositiveNeutralNeutralNegativePositiveNeutralPositivePositiveNeutralPositivePositivePositiveNeutralNeutralNeutralNeutralPositiveNeutralNeutralPositivePositiveNeutralPositiveNeutralNeutralPositivePositiveNeutralPositiveNeutralNeutralPositivePositiveNeutralPositiveNeutralNeutralPositiveNegativePositivePositivePositiveNeutralPositivePositivePositivePositivePositiveNeutralNeutralPositivePositivePositiveNegativeNeutralPositivePositiveNegativeNeutralPositivePositivePositiveNeutralPositivePositiveNeutralPositiveNeutralNeutralPositivePositivePositiveNegativePositiveNegativeNeutralPositiveNeutralPositiveNegativePositivePositivePositivePositivePositivePositivePositivePositivePositiveNeutralNeutralNeutralNeutralPositivePositiveNeutralNeutralPositiveNeutralNeutralNeutralPositiveNeutralPositivePositivePositiveNeutralNegativePositiveNeutralPositiveNeutralNegativePositiveNegativePositiveNegativePositiveNeutralPositiveNeutralPositiveNeutralNeutralNeutralPositivePositiveNeutralPositivePositiveNeutralNegativeNeutralNeutralPositiveNeutralPositivePositivePositivePositivePositiveNegativePositivePositiveNeutralPositivePositiveNeutralNeutralNeutralPositivePositiveNeutralNeutralPositivePositiveNeutralPositivePositiveNeutralNegativePositiveNegativeNeutralNeutralPositiveNeutralNeutralNeutralPositivePositiveNeutralNegativeNeutralPositivePositivePositivePositiveNegativePositiveNeutralNeutralPositivePositivePositivePositivePositivePositivePositiveNegativeNeutralNeutralNeutralNeutralNeutralPositivePositiveNegativeNegativePositiveNeutralNeutralNeutralNeutralPositivePositivePositiveNeutralPositiveNeutralNeutralPositivePositiveNeutralNegativePositivePositivePositivePositivePositiveNeutralNegativeNeutralPositiveNeutralNeutralPositiveNeutralNeutralPositivePositivePositivePositivePositiveNeutralPositivePositivePositiveNeutralPositiveNegativeNeutralNeutralPositivePositiveNeutralNegativeNeutralNeutralNegativeNeutralPositivePositivePositivePositiveNegativePositiveNeutralNeutralPositivePositivePositiveNegativeNeutralPositiveNeutralPositivePositiveNegativePositiveNeutralNeutralPositivePositivePositivePositivePositiveNegativePositiveNeutralNegativePositivePositivePositivePositiveNeutralNeutralNeutralNeutralNegativeNeutralPositivePositiveNeutralPositiveNeutralPositiveNeutralPositiveNegativeNeutralPositivePositivePositiveNeutralPositiveNeutralPositiveNeutralNeutralNeutralNeutralNeutralNeutralNeutralNegativePositivePositivePositiveNeutralNeutralNegativePositiveNeutralNeutralNeutralNeutralPositiveNeutralNeutralNeutralPositiveNeutralNegativePositivePositivePositiveNeutralPositivePositiveNeutralNeutralPositivePositivePositiveNeutralNeutralNeutralPositiveNeutralNeutralPositivePositiveNeutralPositiveNeutralPositivePositiveNegativePositiveNegativePositivePositiveNegativeNeutralPositiveNeutralPositivePositivePositiveNegativePositiveNeutralNeutralPositiveNeutralPositiveNeutralNeutralNegativeNegativeNeutralPositivePositivePositivePositiveNegativePositiveNeutralPositiveNeutralPositiveNeutralNeutralNeutralNegativePositiveNeutralPositiveNeutralNeutralPositiveNeutralNegativePositivePositivePositivePositivePositivePositivePositiveNeutralNeutralPositivePositiveNeutralPositiveNeutralPositivePositiveNegativePositivePositivePositiveNeutralPositivePositiveNeutralNeutralNeutralNegativeNeutralNegativePositivePositivePositivePositiveNeutralNeutralNeutralNegativeNeutralNeutralNeutralNeutralNeutralNeutralNeutralPositiveNeutralPositiveNegativePositivePositiveNeutralNeutralNeutralNegativePositivePositiveNeutralNeutralNeutralNegativeNeutralNeutralPositiveNeutralPositiveNegativePositivePositivePositivePositivePositiveNeutralNegativePositiveNeutralNeutralNeutralPositivePositiveNeutralPositivePositivePositiveNeutralNeutralNeutralNeutralPositivePositivePositiveNeutralNeutralNegativePositiveNeutralPositivePositivePositivePositivePositiveNeutralNeutralNegativeNegativeNeutralPositivePositiveNegativePositiveNeutralPositiveNeutralPositiveNegativeNeutralPositivePositiveNeutralNeutralNeutralPositiveNeutralNeutralNegativeNeutralPositiveNeutralNeutralNeutralNegativePositivePositivePositiveNeutralNegativeNeutralPositiveNeutralNeutralPositiveNegativePositiveNeutralNeutralPositiveNeutralNeutralPositiveNeutralNeutralNeutralNegativePositivePositiveNegativeNeutralNegativePositiveNegativeNeutralPositiveNegativePositivePositiveNeutralPositivePositiveNeutralPositivePositiveNeutralPositiveNeutralPositiveNegativePositivePositiveNeutralNeutralNeutralNeutralNegativePositiveNeutralNegativeNeutralPositiveNegativeNeutralNeutralPositiveNegativePositiveNeutralNegativePositiveNegativeNeutralNegativePositivePositiveNegativeNeutralPositiveNeutralPositiveNeutralPositivePositiveNegativePositiveNeutralNeutralPositiveNeutralPositiveNeutralNeutralNeutralNeutralNeutralNeutralPositivePositiveNegativeNegativeNeutralPositiveNeutralPositiveNeutralNegativeNeutralPositivePositivePositiveNegativePositiveNeutralPositiveNeutralNegativePositiveNeutralNegativeNeutralNeutralNeutralNeutralPositiveNeutralNeutralNeutralPositivePositivePositiveNeutralPositivePositivePositiveNeutralPositiveNeutralPositiveNeutralNeutralNeutralPositivePositiveNeutralNeutralNeutralPositiveNeutralNeutralNeutralPositivePositivePositiveNeutralNegativeNeutralNeutralPositivePositiveNeutralNegativeNeutralNeutralNeutralNeutralNeutralNeutralPositiveNeutralPositivePositiveNeutralNeutralNegativeNeutralPositiveNeutralPositiveNegativePositiveNeutralPositiveNegativePositivePositiveNeutralNeutralPositiveNeutralNegativeNegativeNeutralPositivePositiveNeutralPositiveNeutralNeutralNeutralNeutralNeutralPositivePositiveNeutralNeutralNegativeNeutralNeutralNeutralNeutralPositivePositiveNeutralNeutralNeutralNeutralNeutralPositivePositivePositiveNeutralPositiveNeutralPositivePositivePositivePositiveNeutralNeutralPositiveNeutralNeutralPositivePositiveNeutralNeutralNeutralPositiveNeutralPositiveNeutralNeutralNeutralNeutralNeutralNeutralPositiveNeutralNegativeNeutralPositivePositivePositiveNeutralPositiveNeutralNegativePositivePositivePositiveNeutralNeutralNeutralNeutralPositivePositiveNeutralNeutralNeutralNegativePositiveNeutralNeutralPositiveNeutralNeutralPositiveNeutralNegativeNeutralNeutralPositiveNeutralNeutralNeutralNeutralNeutralNeutralNeutralPositivePositiveNegativeNeutralNeutralPositiveNegativePositivePositiveNeutralPositiveNegativePositiveNeutralPositivePositiveNeutralPositivePositiveNeutralPositivePositivePositivePositiveNeutralPositiveNeutralNeutralNeutralNeutralPositiveNeutralNeutralPositivePositivePositivePositiveNeutralNeutralPositivePositivePositivePositiveNeutralNegativeNeutralNeutralNeutralNeutralNeutralNeutralNeutralNeutralPositivePositiveNeutralNeutralNeutralNeutralNeutralNeutralNegativeNeutralNeutralNeutralPositivePositivePositiveNeutralPositiveNeutralNeutralNeutralPositiveNegativeNeutralPositiveNeutralPositiveNeutralPositiveNegativeNeutralNeutralNegativeNeutralNeutralNeutralNeutralPositivePositiveNeutralNeutralNeutralNeutralNeutralNeutralNeutralNeutralNeutralNeutralNegativePositivePositiveNegativeNeutralNeutralNeutralPositiveNeutralNeutralNeutralNeutralPositivePositiveNeutralNeutralNeutralNeutralNeutralNeutralPositivePositivePositivePositivePositiveNeutralPositiveNeutralNeutralNeutralPositiveNeutralNeutralNeutralNeutralNeutralNeutralNeutralPositivePositivePositivePositiveNegativeNeutralNeutralNeutralNeutralNeutralPositivePositivePositiveNegativeNeutralPositiveNeutralPositiveNeutralNeutralPositivePositivePositiveNeutralPositivePositiveNeutralPositiveNeutralNeutralPositiveNeutralNeutralPositivePositiveNeutralPositiveNeutralNeutralNeutralNegativePositiveNegativePositiveNegativeNeutralNeutralPositiveNeutralNegativeNegativePositiveNegativePositiveNeutralNeutralNeutralPositiveNeutralPositiveNeutralPositivePositiveNegativePositiveNeutralNeutralNeutralPositiveNeutralNeutralPositiveNegativePositiveNegativeNeutralPositivePositiveNeutralPositiveNeutralNegativeNeutralNeutralNeutralNeutralNeutralPositivePositiveNeutralNegativeNeutralPositiveNeutralNeutralNeutralNeutralPositiveNeutralNeutralNeutralPositiveNegativePositiveNeutralNeutralPositivePositivePositiveNegativeNeutralPositiveNeutralNeutralNeutralPositiveNeutralPositiveNeutralNeutralPositiveNegativeNegativePositivePositiveNeutralPositiveNegativeNeutralNeutralNeutralNegativePositiveNegativePositivePositiveNeutralPositivePositiveNeutralPositiveNegativeNeutralNeutralNeutralPositivePositiveNeutralNeutralNeutralNegativeNeutralNeutralPositiveNeutralNeutralPositiveNegativePositiveNeutralNeutralNeutralNeutralNeutralNegativeNegativePositivePositivePositivePositiveNeutralNeutralPositiveNeutralNeutralNeutralNeutralNeutralNeutralNeutralNeutralNeutralNegativePositiveNeutralPositiveNeutralPositiveNeutralNeutralNeutralPositivePositivePositivePositivePositiveNeutralNeutralPositiveNeutralNeutralNeutralNeutralNeutralNegativeNegativeNeutralNegativePositivePositiveNeutralNeutralPositivePositivePositiveNeutralNeutralPositivePositiveNeutralNegativeNeutralNeutralPositiveNeutralPositivePositivePositiveNeutralPositiveNeutralPositiveNeutralNegativeNeutralPositivePositivePositiveNeutralPositivePositiveNeutralPositiveNeutralPositivePositiveNeutralNeutralPositivePositiveNeutralPositiveNeutralPositiveNeutralNeutralPositivePositivePositivePositivePositiveNegativePositivePositiveNeutralPositivePositiveNeutralNeutralNeutralNeutralNeutralPositiveNeutralPositiveNeutralPositivePositiveNeutralNeutralPositivePositiveNegativeNeutralNeutralPositiveNeutralPositiveNeutralPositiveNeutralNegativePositiveNeutralNeutralPositivePositiveNeutralNegativePositivePositivePositivePositiveNeutralPositivePositivePositiveNegativeNeutralNeutralNeutralPositiveNeutralNeutralNeutralPositiveNeutralNeutralPositiveNeutralNeutralNeutralNeutralPositiveNeutralNeutralNeutralPositiveNeutralNegativeNeutralPositiveNeutralNeutralPositivePositivePositiveNeutralNeutralNeutralNeutralPositiveNeutralNeutralNeutralNeutralNeutralNeutralPositiveNeutralNeutralNeutralNegativeNeutralPositivePositiveNeutralNegativePositivePositivePositiveNegativeNegativePositiveNeutralPositivePositiveNeutralPositiveNeutralNeutralNeutralPositivePositiveNeutralPositiveNeutralNeutralNeutralPositiveNeutralNegativeNeutralNeutralNeutralNeutralPositiveNeutralNeutralPositiveNeutralPositivePositivePositivePositivePositiveNeutralPositivePositivePositiveNeutralPositivePositiveNeutralPositiveNeutralNeutralPositiveNegativeNeutralNeutralPositiveNeutralNegativeNeutralPositiveNeutralNeutralPositivePositiveNeutralPositiveNeutralNeutralPositiveNeutralNeutralNegativeNeutralNegativeNeutralNegativeNeutralNeutralNeutralNegativeNeutralPositivePositiveNeutralNeutralNeutralNeutralNeutralNeutralNegativeNegativeNeutralNeutralPositivePositiveNeutralNeutralNeutralNegativeNeutralNeutralNegativeNegativePositivePositivePositiveNeutralPositivePositiveNeutralNeutralPositiveNeutralNeutralNeutralNeutralPositivePositiveNegativePositivePositiveNeutralNeutralNeutralNeutralPositiveNegativePositiveNeutralNeutralPositiveNeutralNegativePositivePositivePositivePositiveNeutralPositiveNeutralNeutralPositiveNegativeNeutralPositiveNeutralPositiveNegativeNeutralPositivePositivePositiveNeutralPositivePositivePositivePositiveNeutralNegativeNeutralNeutralPositiveNeutralNeutralNeutralNeutralNeutralNeutralNegativeNeutralNeutralPositiveNegativeNeutralPositivePositivePositiveNeutralPositiveNeutralNeutralPositivePositiveNeutralNeutralNeutralPositivePositivePositivePositivePositivePositiveNeutralNeutralNeutralPositivePositiveNegativeNeutralPositivePositiveNeutralPositiveNeutralNeutralNeutralNeutralPositivePositivePositivePositiveNegativePositivePositivePositiveNeutralNegativeNeutralNeutralNeutralNegativePositiveNeutralNegativeNeutralNeutralPositiveNegativeNeutralPositiveNeutralPositiveNeutralNegativeNegativeNegativeNegativeNeutralPositiveNeutralNeutralNeutralNeutralNeutralNegativeNeutralNegativeNeutralNeutralNeutralPositivePositivePositivePositivePositivePositivePositiveNegativeNeutralPositiveNeutralNeutralPositiveNeutralNeutralPositivePositivePositivePositiveNegativePositiveNegativeNegativeNeutralPositivePositiveNeutralNegativeNeutralPositivePositivePositiveNeutralNegativePositivePositivePositiveNegativeNegativeNegativeNeutralPositivePositiveNeutralNeutralNeutralNeutralNeutralPositivePositiveNeutralPositiveNeutralPositiveNegativeNeutralNeutralNeutralNeutralNeutralNeutralPositiveNegativePositivePositiveNegativeNeutralPositiveNegativePositivePositiveNegativePositiveNeutralNeutralPositiveNegativePositivePositivePositivePositiveNegativeNeutralPositivePositivePositivePositivePositiveNegativePositiveNeutralNeutralNeutralNeutralNeutralPositiveNeutralPositivePositivePositiveNeutralPositivePositivePositivePositiveNeutralNeutralNeutralNegativeNeutralNeutralPositivePositiveNegativePositiveNeutralNeutralPositivePositiveNeutralNeutralPositiveNeutralNeutralNeutralPositiveNeutralNeutralPositiveNeutralNeutralNegativeNeutralNegativeNeutralNeutralNegativePositivePositiveNeutralNeutralNeutralPositiveNeutralNegativeNeutralPositivePositiveNeutralPositiveNegativeNeutralPositiveNeutralNeutralNeutralPositiveNeutralNegativeNegativePositiveNegativePositivePositiveNeutralPositiveNeutralNeutralNeutralNeutralNeutralNeutralPositivePositiveNegativeNeutralPositiveNegativeNeutralPositiveNegativePositiveNeutralPositiveNeutralNeutralNegativeNegativeNeutralPositivePositivePositiveNeutralNegativePositiveNegativeNeutralPositivePositivePositivePositivePositiveNegativePositivePositiveNegativePositivePositivePositivePositivePositiveNeutralNeutralNeutralNeutralNeutralNeutralPositiveNeutralNegativePositiveNeutralPositivePositiveNeutralNeutralNeutralPositivePositiveNeutralPositiveNeutralNeutralPositivePositiveNeutralNegativeNeutralNeutralNegativeNegativePositiveNeutralNegativePositiveNeutralNegativePositiveNegativeNeutralPositiveNeutralPositiveNegativeNegativeNegativePositivePositiveNeutralNegativePositivePositivePositiveNeutralPositiveNeutralNeutralPositivePositiveNeutralNeutralPositiveNeutralNeutralPositiveNeutralNegativePositivePositiveNeutralNeutralPositiveNeutralPositiveNeutralNeutralNeutralPositivePositiveNeutralNeutralNeutralNeutralNeutralNeutralNeutralNeutralNeutralNeutralNeutralPositiveNeutralNegativePositivePositivePositiveNegativePositivePositivePositivePositivePositivePositivePositivePositivePositivePositivePositiveNeutralNeutralPositivePositiveNeutralNegativePositiveNeutralNeutralNeutralNeutralNeutralPositiveNegativePositivePositivePositiveNeutralNeutralPositivePositiveNeutralNeutralPositivePositiveNeutralPositiveNeutralPositivePositivePositivePositiveNeutralPositiveNeutralNeutralNeutralNegativeNegativePositiveNeutralNeutralPositivePositiveNeutralNeutralNegativeNeutralPositivePositiveNeutralNegativePositiveNeutralPositiveNeutralPositivePositiveNegativePositivePositiveNegativePositiveNeutralNegativePositiveNeutralPositiveNeutralNeutralNegativePositiveNeutralPositivePositiveNeutralPositivePositiveNegativePositiveNeutralNegativeNeutralPositivePositiveNeutralPositivePositiveNeutralNeutralPositivePositivePositiveNeutralNeutralPositiveNegativePositivePositiveNeutralNeutralNeutralPositivePositiveNeutralPositiveNegativeNeutralPositiveNeutralNeutralNeutralNeutralPositiveNeutralNeutralNeutralPositiveNegativeNeutralPositiveNeutralPositivePositiveNeutralNeutralPositivePositivePositivePositiveNegativePositivePositiveNeutralPositivePositivePositiveNeutralPositiveNegativeNeutralPositivePositiveNegativePositivePositivePositivePositivePositiveNeutralPositiveNeutralNeutralPositiveNeutralNeutralPositiveNeutralPositiveNeutralNeutralNeutralNeutralNegativePositiveNeutralPositiveNeutralPositiveNeutralNeutralNegativePositiveNeutralPositiveNeutralNeutralPositivePositivePositiveNeutralNeutralNeutralNeutralNeutralNeutralNeutralNeutralNeutralNegativeNeutralPositiveNeutralNeutralPositiveNeutralNeutralPositiveNegativePositivePositivePositiveNeutralPositivePositivePositivePositiveNegativeNeutralNeutralPositivePositiveNeutralPositivePositivePositivePositiveNeutralNeutralNeutralPositiveNegativePositivePositivePositiveNeutralNeutralPositivePositiveNeutralPositiveNegativeNeutralNeutralPositivePositivePositiveNeutralPositiveNeutralPositiveNeutralNeutralPositivePositiveNeutralPositivePositivePositiveNeutralNeutralPositivePositiveNeutralPositivePositiveNeutralNeutralNegativeNeutralNeutralNegativePositivePositivePositiveNeutralNeutralPositivePositiveNeutralPositivePositiveNeutralNegativePositivePositivePositiveNeutralPositivePositivePositivePositiveNegativeNeutralNeutralNeutralPositiveNeutralPositiveNegativePositiveNeutralNeutralPositivePositiveNeutralPositiveNeutralPositivePositiveNeutralNeutralNeutralPositiveNeutralPositiveNegativePositivePositivePositiveNeutralPositiveNegativeNeutralNeutralNeutralNeutralPositivePositiveNeutralPositivePositiveNeutralNeutralPositiveNegativePositivePositivePositiveNegativePositivePositivePositiveNeutralNeutralNeutralNegativePositivePositivePositiveNeutralPositivePositivePositiveNegativePositiveNeutralNeutralNeutralPositiveNeutralPositiveNeutralNeutralNeutralNeutralNeutralNegativePositivePositiveNegativeNeutralPositiveNeutralPositivePositivePositiveNeutralNeutralNeutralPositiveNeutralNeutralNeutralPositiveNeutralPositivePositiveNeutralPositiveNeutralPositivePositivePositiveNegativePositiveNeutralNeutralPositiveNeutralPositivePositiveNeutralPositiveNeutralNeutralPositivePositivePositiveNeutralPositiveNegativePositiveNeutralNeutralPositivePositiveNeutralPositiveNeutralPositiveNeutralPositiveNeutralNegativeNeutralPositiveNegativePositiveNeutralNegativePositiveNeutralNegativePositivePositiveNeutralPositivePositivePositiveNeutralNeutralNegativeNegativePositivePositivePositiveNegativePositiveNeutralNeutralPositivePositivePositiveNeutralNeutralNegativePositivePositivePositivePositivePositivePositiveNegativeNeutralPositivePositiveNegativeNegativeNeutralPositiveNeutralNeutralPositivePositivePositivePositivePositiveNeutralNegativeNegativePositivePositiveNeutralNeutralNeutralNeutralNeutralPositiveNeutralNeutralNeutralNeutralNeutralPositivePositiveNeutralNeutralNeutralNeutralPositivePositiveNegativePositiveNeutralPositivePositiveNeutralPositiveNeutralNeutralPositivePositiveNeutralNegativeNeutralPositivePositivePositiveNeutralNeutralNeutralPositiveNeutralPositivePositiveNeutralNegativePositivePositiveNeutralPositivePositiveNegativeNeutralPositiveNeutralPositivePositiveNegativeNegativeNeutralNeutralNeutralPositivePositivePositiveNeutralPositiveNeutralPositiveNeutralNeutralNeutralNeutralNegativeNeutralNeutralNegativeNegativeNeutralNegativeNegativePositiveNeutralNegativeNeutralPositiveNeutralPositiveNegativeNegativeNeutralNeutralPositiveNeutralPositivePositivePositiveNeutralPositivePositiveNeutralNeutralNeutralNeutralPositiveNegativePositiveNeutralNegativePositivePositivePositivePositivePositiveNeutralPositiveNeutralNegativePositivePositivePositiveNeutralNeutralPositiveNeutralPositiveNeutralPositivePositivePositivePositiveNeutralNeutralNeutralPositiveNeutralNeutralNeutralPositiveNeutralNeutralPositivePositivePositivePositivePositiveNeutralPositiveNeutralNeutralNeutralNeutralPositivePositiveNeutralNeutralPositivePositivePositivePositiveNegativeNeutralNeutralNegativeNeutralNeutralPositivePositiveNeutralNeutralPositivePositiveNeutralPositiveNeutralPositivePositiveNeutralNeutralNeutralNeutralPositivePositiveNeutralNegativeNeutralPositiveNeutralNeutralNeutralPositiveNeutralPositivePositiveNegativeNeutralNeutralPositivePositiveNeutralNegativePositivePositivePositiveNeutralNeutralPositivePositiveNeutralPositiveNeutralPositivePositiveNeutralNeutralNeutralNegativePositiveNegativePositiveNeutralNeutralPositivePositivePositiveNeutralPositivePositiveNeutralNeutralPositiveNeutralPositiveNeutralNeutralNeutralPositivePositivePositivePositiveNegativePositivePositiveNeutralPositivePositiveNeutralPositiveNeutralNegativeNeutralNeutralPositiveNeutralNeutralNegativeNeutralNeutralNeutralPositivePositiveNeutralNeutralNeutralNegativeNeutralPositiveNeutralNegativePositivePositivePositivePositiveNeutralPositivePositivePositivePositiveNeutralPositiveNegativePositivePositivePositiveNeutralPositiveNeutralNeutralPositiveNeutralNeutralNeutralPositiveNeutralPositivePositivePositivePositivePositivePositiveNeutralNegativeNeutralNegativeNegativePositivePositiveNeutralPositiveNeutralNeutralNeutralPositiveNeutralNeutralNeutralPositiveNegativeNeutralPositivePositivePositiveNeutralNeutralNegativePositiveNeutralNeutralNegativePositivePositiveNeutralNegativePositiveNeutralPositiveNeutralNegativeNegativePositiveNeutralNeutralNegativePositiveNeutralNeutralPositiveNegativeNeutralNeutralNeutralNeutralNegativePositivePositiveNeutralNeutralPositiveNegativePositiveNeutralNeutralPositivePositivePositivePositivePositivePositivePositivePositivePositivePositivePositiveNeutralPositiveNeutralPositiveNeutralNeutralPositivePositiveNeutralNeutralPositiveNeutralNegativeNeutralNeutralNeutralPositiveNeutralNegativeNeutralNeutralNeutralPositiveNeutralPositivePositiveNeutralNegativePositivePositivePositivePositiveNeutralNeutralNegativeNeutralPositiveNeutralNegativePositiveNeutralPositiveNeutralNeutralNegativeNeutralPositivePositivePositivePositivePositivePositiveNeutralPositiveNegativeNeutralPositivePositivePositiveNegativeNeutralPositiveNeutralPositivePositiveNeutralNeutralNeutralPositiveNegativePositivePositivePositivePositivePositivePositiveNegativePositiveNeutralPositiveNeutralNegativeNeutralPositivePositiveNeutralPositiveNeutralPositivePositivePositivePositiveNeutralPositiveNeutralNeutralNegativePositiveNeutralNeutralNeutralPositiveNeutralNeutralPositiveNegativeNeutralNeutralNegativePositiveNeutralNeutralNeutralNegativeNeutralNeutralNeutralPositiveNeutralPositiveNeutralNeutralPositiveNegativeNegativeNeutralNeutralNeutralNeutralPositiveNeutralPositiveNeutralPositivePositiveNeutralPositivePositivePositivePositiveNeutralPositiveNeutralNeutralPositiveNegativeNeutralNeutralNeutralNeutralNeutralNegativePositivePositiveNeutralPositivePositiveNeutralPositivePositiveNeutralNeutralNegativePositiveNeutralPositiveNegativePositiveNegativePositivePositivePositiveNeutralNeutralPositivePositiveNeutralPositiveNeutralNeutralPositiveNeutralPositiveNeutralNeutralNegativeNeutralNegativeNeutralPositivePositivePositiveNegativePositiveNeutralPositiveNeutralNeutralPositivePositivePositivePositivePositiveNeutralPositivePositiveNeutralNeutralPositiveNeutralPositivePositiveNeutralPositiveNeutralPositivePositiveNeutralPositivePositiveNegativePositiveNegativeNeutralNeutralNeutralNeutralPositiveNeutralNeutralPositiveNeutralPositiveNegativeNeutralPositivePositiveNeutralPositivePositivePositiveNeutralNeutralPositiveNegativePositiveNeutralNeutralNeutralPositiveNeutralNeutralNeutralNeutralNeutralPositiveNegativePositivePositivePositivePositivePositivePositiveNegativePositivePositiveNeutralPositiveNeutralNegativePositivePositiveNegativeNeutralNeutralNeutralPositiveNeutralNeutralNeutralNeutralPositiveNeutralPositiveNeutralPositiveNeutralNeutralPositivePositiveNeutralNeutralNeutralNeutralPositivePositiveNeutralNeutralNeutralPositivePositivePositivePositivePositiveNeutralNeutralPositiveNeutralPositiveNeutralPositiveNeutralPositivePositivePositivePositiveNeutralPositivePositivePositiveNegativeNeutralNeutralPositiveNegativePositivePositiveNeutralPositiveNeutralNegativeNeutralPositiveNeutralPositivePositivePositivePositiveNeutralNeutralPositivePositiveNeutralNeutralPositiveNeutralNegativeNeutralNeutralPositivePositiveNegativePositiveNeutralNegativePositivePositiveNeutralNeutralNeutralNeutralNeutralPositivePositiveNeutralNeutralPositivePositiveNeutralNeutralPositiveNeutralNeutralPositiveNeutralPositiveNegativeNeutralNegativeNeutralNeutralNeutralNeutralNeutralNeutralNeutralNeutralPositivePositivePositiveNegativeNeutralNegativeNeutralNeutralPositivePositiveNeutralNegativeNeutralPositivePositiveNeutralPositivePositiveNeutralNeutralPositiveNeutralPositivePositivePositivePositivePositiveNeutralPositiveNegativePositiveNeutralPositivePositiveNeutralPositivePositivePositiveNeutralNeutralNeutralPositiveNeutralNeutralPositivePositiveNeutralPositiveNegativePositiveNegativeNegativeNeutralPositiveNeutralPositiveNegativeNeutralNeutralNegativeNegativeNegativePositiveNeutralNeutralNeutralPositiveNeutralNegativeNeutralNegativeNegativePositivePositivePositivePositivePositivePositiveNegativePositiveNeutralNeutralNeutralNeutralPositiveNeutralPositivePositiveNegativeNeutralNegativePositiveNegativeNegativeNegativePositiveNeutralNeutralPositiveNeutralPositivePositivePositivePositivePositiveNeutralNeutralNeutralNeutralNeutralPositiveNeutralPositivePositivePositivePositiveNeutralNeutralPositiveNeutralPositivePositivePositiveNeutralNeutralPositiveNegativePositivePositiveNegativePositivePositivePositivePositivePositivePositiveNegativePositivePositiveNeutralNeutralNeutralPositivePositivePositivePositiveNegativeNeutralPositivePositiveNeutralNegativePositiveNeutralPositiveNeutralNegativeNeutralPositivePositivePositiveNegativePositiveNegativeNegativeNeutralPositiveNeutralNeutralNeutralPositiveNeutralPositiveNeutralNegativeNeutralNeutralNegativeNeutralNeutralPositivePositiveNeutralPositiveNeutralNeutralPositiveNeutralPositivePositivePositiveNeutralNeutralNeutralPositiveNeutralPositiveNeutralNeutralPositivePositiveNeutralNeutralPositiveNegativePositiveNeutralNeutralNeutralPositivePositivePositiveNegativeNeutralPositiveNegativePositivePositivePositiveNeutralPositivePositiveNegativePositivePositiveNeutralNeutralNeutralNegativePositivePositiveNegativeNeutralNegativePositiveNeutralNeutralNegativeNeutralPositivePositiveNeutralNeutralPositivePositiveNegativePositiveNegativeNegativePositivePositivePositivePositivePositiveNeutralPositivePositivePositivePositiveNegativeNeutralPositiveNeutralPositivePositiveNeutralNeutralPositiveNeutralPositiveNeutralPositiveNeutralPositivePositivePositivePositiveNeutralPositiveNeutralPositivePositivePositiveNeutralPositiveNeutralNeutralPositivePositivePositivePositiveNeutralPositivePositiveNeutralNeutralPositivePositivePositivePositivePositiveNeutralNeutralNegativePositiveNeutralPositiveNeutralNegativeNeutralPositiveNeutralNegativeNeutralNegativeNeutralNegativeNeutralNeutralPositiveNeutralNeutralPositivePositivePositivePositiveNeutralNegativeNeutralPositiveNeutralNeutralNegativePositivePositiveNeutralNeutralNeutralPositivePositiveNegativeNeutralNeutralNeutralPositiveNeutralPositivePositiveNeutralPositiveNeutralNeutralPositiveNeutralNeutralNeutralPositiveNeutralNegativeNeutralPositiveNeutralNeutralNeutralNeutralPositiveNeutralNeutralNeutralNegativeNeutralPositivePositivePositivePositiveNeutralNeutralPositivePositiveNeutralPositiveNegativePositiveNeutralPositivePositiveNeutralNeutralNegativeNeutralPositivePositivePositiveNegativePositivePositiveNegativePositiveNeutralPositiveNeutralNeutralPositivePositiveNeutralPositiveNeutralPositiveNeutralPositiveNegativeNegativeNegativeNegativePositivePositiveNeutralNeutralPositiveNeutralNeutralPositivePositivePositivePositivePositivePositivePositiveNegativePositiveNeutralPositiveNeutralNeutralNeutralNeutralPositivePositivePositiveNeutralNegativePositivePositiveNeutralPositiveNeutralPositiveNeutralNeutralNeutralPositiveNeutralNeutralNegativeNeutralPositiveNeutralNegativeNeutralNeutralPositivePositivePositivePositivePositiveNeutralNegativePositiveNeutralNeutralPositivePositivePositivePositiveNegativePositiveNeutralNeutralNeutralNegativeNeutralPositiveNegativePositivePositiveNeutralNeutralNeutralPositivePositivePositivePositivePositiveNeutralNeutralPositivePositivePositivePositivePositivePositivePositivePositivePositiveNeutralPositiveNeutralPositivePositiveNegativePositiveNeutralNeutralNeutralNeutralPositivePositivePositivePositiveNegativePositivePositiveNeutralPositiveNeutralNeutralNeutralPositivePositiveNeutralPositivePositivePositiveNeutralPositivePositiveNeutralNegativeNeutralPositiveNegativeNeutralPositiveNeutralNeutralPositivePositivePositiveNeutralPositivePositiveNeutralNeutralNeutralNeutralNeutralPositiveNegativePositiveNeutralNeutralNeutralPositiveNegativeNeutralPositivePositivePositivePositiveNeutralPositiveNegativeNeutralNegativePositiveNeutralNeutralNeutralNeutralNeutralPositiveNegativePositiveNeutralNeutralNeutralNeutralNeutralNegativePositivePositivePositiveNegativePositiveNegativeNeutralPositiveNegativeNeutralPositiveNeutralNeutralPositivePositivePositiveNegativeNeutralPositivePositiveNeutralNeutralPositivePositivePositivePositiveNeutralNeutralPositivePositiveNeutralNeutralNegativeNeutralPositivePositivePositiveNeutralNegativeNeutralNegativePositivePositivePositiveNeutralPositiveNeutralNeutralPositivePositiveNegativeNeutralPositiveNegativePositiveNeutralNeutralNeutralNeutralNeutralPositivePositiveNeutralNeutralPositivePositiveNeutralNegativePositiveNegativeNegativeNeutralNegativeNeutralNeutralPositivePositivePositiveNeutralNeutralNeutralPositiveNeutralNeutralPositivePositiveNegativePositivePositivePositiveNeutralNeutralNeutralNegativePositiveNeutralNeutralPositiveNeutralNegativePositivePositivePositiveNeutralNegativeNegativeNeutralPositivePositivePositiveNegativeNeutralNegativeNeutralNegativePositivePositivePositiveNeutralPositiveNeutralNeutralPositiveNegativeNegativeNeutralNeutralPositiveNeutralNegativePositiveNeutralNeutralNegativeNeutralNeutralNegativeNeutralNeutralNeutralPositiveNeutralPositivePositiveNegativeNeutralNegativePositiveNeutralPositivePositivePositivePositiveNeutralPositiveNeutralPositiveNegativePositiveNegativePositiveNeutralNegativeNeutralNeutralPositivePositiveNegativeNeutralNeutralNeutralPositiveNeutralPositiveNegativeNeutralPositivePositivePositiveNegativePositivePositivePositivePositivePositiveNegativeNeutralNeutralPositiveNegativeNeutralPositiveNeutralPositivePositiveNegativeNeutralNeutralPositivePositivePositiveNeutralPositivePositiveNeutralNeutralNeutralNeutralPositivePositiveNeutralNeutralNeutralPositivePositivePositivePositivePositivePositiveNegativePositiveNeutralPositivePositiveNeutralNegativeNeutralNegativePositivePositivePositiveNeutralPositivePositiveNeutralNeutralPositivePositivePositivePositiveNeutralPositivePositiveNeutralPositiveNeutralNeutralNeutralPositivePositivePositiveNeutralPositiveNeutralNeutralPositivePositivePositiveNeutralNegativeNeutralNeutralNeutralPositiveNegativeNegativeNeutralNeutralPositivePositivePositiveNeutralPositiveNeutralNeutralPositivePositiveNeutralPositiveNegativePositiveNegativeNeutralNeutralPositiveNeutralNeutralNeutralNeutralPositiveNeutralNeutralNeutralNeutralNegativePositiveNeutralNeutralNegativePositiveNeutralNeutralPositiveNegativeNeutralPositiveNeutralNegativePositiveNegativeNegativeNeutralPositiveNeutralPositivePositiveNeutralNeutralNeutralNeutralPositiveNeutralPositiveNeutralNegativeNeutralPositiveNeutralPositiveNegativePositiveNeutralPositiveNegativeNeutralPositiveNeutralPositiveNeutralPositiveNeutralNegativeNeutralPositiveNeutralPositiveNegativeNeutralNeutralNeutralPositiveNeutralNeutralNeutralNegativeNeutralPositiveNeutralNeutralPositivePositiveNeutralNeutralNeutralNegativeNeutralPositivePositivePositiveNeutralNeutralNeutralNeutralNeutralNeutralPositiveNegativePositiveNegativeNegativePositiveNeutralPositivePositivePositiveNeutralNegativeNeutralPositivePositivePositiveNegativeNegativeNeutralNeutralNeutralNeutralNegativePositivePositiveNeutralNegativePositiveNeutralNeutralNeutralPositivePositivePositivePositivePositiveNegativeNeutralNeutralNeutralNegativeNeutralPositivePositivePositiveNeutralPositiveNegativePositiveNegativePositivePositiveNeutralPositiveNegativeNeutralPositivePositiveNeutralNeutralPositivePositiveNegativePositivePositiveNeutralNeutralNeutralNeutralNeutralPositiveNegativePositivePositiveNegativeNeutralPositiveNeutralNeutralPositiveNeutralNeutralPositivePositivePositiveNeutralNeutralPositivePositivePositivePositivePositiveNeutralNeutralPositiveNeutralNeutralNeutralPositiveNeutralNeutralPositivePositiveNegativeNeutralPositiveNeutralNegativePositivePositiveNeutralNegativePositiveNegativePositiveNeutralPositiveNegativeNegativeNeutralPositiveNegativeNeutralNegativeNegativePositivePositiveNegativeNegativePositivePositiveNeutralNeutralNeutralNegativeNegativePositivePositiveNegativeNegativePositivePositiveNegativeNeutralPositivePositivePositiveNeutralNeutralPositivePositiveNegativePositiveNeutralPositivePositivePositivePositivePositivePositivePositiveNegativeNegativePositivePositiveNeutralNegativeNeutralPositiveNeutralNeutralNeutralPositiveNegativeNegativePositiveNeutralPositiveNeutralNegativePositivePositiveNeutralPositivePositivePositiveNegativeNeutralPositiveNeutralNegativeNeutralPositivePositivePositiveNeutralNeutralPositiveNeutralPositiveNegativePositiveNeutralNegativePositiveNeutralNegativePositivePositiveNeutralNeutralPositivePositivePositivePositivePositivePositiveNegativeNegativeNegativePositiveNegativeNegativePositivePositiveNeutralNeutralNeutralNegativePositivePositivePositivePositivePositiveNegativeNeutralNeutralPositivePositivePositiveNeutralNeutralNeutralPositivePositiveNeutralPositiveNeutralNeutralPositiveNeutralNegativePositiveNegativeNeutralPositivePositiveNeutralNeutralPositiveNeutralNeutralPositivePositiveNeutralNeutralNeutralPositivePositiveNeutralNeutralPositiveNeutralPositivePositiveNeutralNeutralNeutralNeutralNeutralNeutralPositiveNegativeNeutralNeutralNeutralPositiveNeutralNeutralNeutralPositivePositivePositivePositivePositiveNeutralNeutralNeutralNeutralNeutralNeutralNeutralPositivePositiveNeutralNeutralNeutralNegativeNeutralPositivePositivePositiveNeutralPositivePositivePositiveNeutralPositiveNeutralNeutralNeutralNeutralNegativePositivePositiveNegativePositivePositivePositiveNeutralNeutralNeutralPositivePositiveNeutralPositiveNeutralNeutralPositivePositivePositivePositiveNeutralPositiveNeutralNeutralNeutralPositiveNeutralNeutralNegativeNeutralNeutralPositiveNeutralNeutralNeutralNegativeNeutralNegativePositiveNegativeNeutralNegativePositiveNegativeNegativePositivePositiveNeutralPositiveNegativeNegativeNeutralPositivePositivePositiveNeutralPositiveNegativePositiveNegativePositiveNegativeNeutralNegativeNeutralPositiveNeutralNeutralPositiveNeutralNeutralPositiveNegativeNegativeNegativePositivePositiveNeutralNeutralPositiveNegativePositivePositiveNeutralNeutralNegativePositivePositiveNeutralNeutralNeutralNeutralPositivePositiveNeutralNegativeNeutralPositiveNegativePositivePositivePositiveNegativeNegativeNegativePositiveNeutralNeutralPositiveNegativeNeutralPositivePositiveNeutralPositiveNeutralNeutralPositiveNegativeNeutralNegativeNeutralPositiveNegativeNegativeNeutralNegativePositivePositiveNeutralNeutralNeutralNeutralNeutralNegativeNeutralNeutralNeutralPositiveNeutralNeutralNegativeNegativePositiveNegativePositiveNeutralNeutralPositivePositivePositiveNeutralNeutralNeutralNeutralNeutralPositiveNeutralNeutralNeutralNeutralPositivePositivePositiveNegativePositivePositiveNeutralNeutralPositivePositivePositivePositiveNeutralNeutralNegativePositiveNeutralNeutralNeutralNeutralPositivePositiveNeutralNeutralNegativePositivePositiveNeutralNegativeNegativePositiveNegativePositiveNeutralPositiveNeutralNeutralNegativeNeutralPositiveNeutralNegativePositiveNeutralNegativeNeutralNeutralPositivePositiveNegativeNeutralNeutralPositivePositiveNegativeNegativePositiveNeutralPositivePositiveNeutralNegativeNeutralNeutralPositiveNegativeNeutralNeutralNeutralNegativeNeutralNegativeNegativeNeutralPositiveNegativePositiveNeutralNeutralNeutralPositivePositivePositiveNeutralNegativeNegativeNegativePositivePositivePositiveNeutralNeutralPositivePositivePositivePositiveNeutralNeutralPositivePositiveNeutralPositiveNegativeNeutralPositiveNegativePositiveNeutralPositivePositivePositiveNegativeNeutralNegativePositivePositiveNeutralPositivePositivePositivePositivePositiveNeutralNeutralNeutralNeutralNeutralNeutralPositiveNegativePositivePositivePositivePositivePositiveNeutralNeutralPositiveNegativePositivePositiveNeutralNegativeNegativePositiveNeutralNeutralPositiveNeutralNeutralPositiveNeutralNegativePositiveNeutralPositivePositivePositiveNegativeNeutralPositiveNegativeNeutralNeutralPositivePositiveNegativeNegativePositivePositivePositivePositivePositiveNeutralNeutralNeutralPositivePositiveNeutralPositiveNeutralPositivePositiveNeutralNeutralPositivePositiveNeutralPositivePositivePositivePositiveNeutralNegativePositivePositivePositivePositiveNeutralNeutralNeutralPositivePositivePositivePositivePositiveNeutralPositivePositiveNegativeNeutralPositivePositivePositivePositiveNeutralPositivePositivePositiveNeutralNeutralPositiveNeutralNeutralPositiveNeutralNegativeNegativeNeutralNeutralNeutralNeutralPositivePositiveNeutralPositivePositivePositiveNeutralPositivePositiveNeutralNeutralNeutralPositiveNeutralNeutralNeutralPositivePositiveNeutralPositivePositivePositivePositiveNeutralNegativePositiveNeutralPositiveNegativeNegativePositivePositivePositiveNeutralPositiveNeutralNeutralNeutralPositivePositivePositiveNeutralPositiveNeutralPositiveNegativePositivePositiveNegativeNeutralPositiveNeutralNegativeNeutralPositiveNegativeNeutralPositiveNeutralNegativeNegativeNeutralPositiveNeutralNeutralNeutralNeutralPositivePositivePositivePositiveNeutralNeutralPositivePositivePositivePositivePositivePositivePositivePositivePositiveNeutralNeutralNeutralNeutralPositivePositiveNeutralPositivePositivePositiveNeutralPositiveNegativePositiveNeutralPositiveNeutralPositiveNeutralNegativePositiveNeutralNeutralNeutralNeutralPositivePositivePositiveNeutralPositiveNeutralNegativePositiveNegativeNeutralPositivePositiveNeutralNegativePositiveNegativeNegativePositivePositivePositiveNeutralNeutralNeutralNegativeNeutralNeutralPositivePositivePositivePositivePositivePositiveNegativePositiveNeutralNeutralNeutralNegativePositiveNeutralPositivePositivePositivePositivePositiveNeutralNeutralPositiveNeutralPositivePositiveNeutralPositiveNeutralNeutralNeutralPositivePositivePositiveNeutralNeutralPositiveNeutralPositiveNeutralPositiveNeutralPositiveNeutralNeutralPositivePositivePositiveNeutralPositiveNeutralPositiveNeutralNeutralPositivePositivePositivePositiveNeutralNeutralPositiveNegativeNeutralPositivePositivePositivePositiveNeutralPositivePositivePositiveNeutralPositivePositiveNeutralPositivePositiveNeutralPositivePositiveNeutralNeutralNegativePositivePositiveNegativePositiveNeutralPositiveNeutralNeutralPositivePositiveNeutralNegativeNeutralNeutralNeutralNeutralNeutralNeutralNegativeNegativePositivePositivePositivePositiveNegativeNeutralNegativeNeutralPositivePositivePositiveNeutralPositiveNeutralPositiveNeutralNeutralPositiveNeutralNegativePositivePositiveNeutralNeutralPositivePositivePositivePositiveNeutralNeutralNegativePositivePositiveNegativeNegativeNegativeNeutralPositivePositiveNeutralPositiveNegativePositivePositiveNegativePositivePositiveNegativeNeutralPositivePositiveNegativeNegativeNeutralNeutralNeutralNeutralNeutralNeutralNeutralNeutralNeutralNeutralNeutralPositiveNeutralNegativeNeutralPositivePositivePositiveNegativeNeutralNeutralPositiveNegativePositivePositiveNeutralNeutralPositiveNeutralNeutralNeutralNeutralNeutralPositivePositiveNeutralNeutralNeutralNeutralNegativePositiveNeutralNegativePositivePositiveNeutralNeutralNeutralNeutralPositiveNeutralNeutralNeutralNegativePositiveNeutralNeutralPositivePositivePositiveNeutralNeutralNeutralNeutralNeutralNeutralNeutralNeutralNeutralPositiveNeutralPositivePositiveNeutralPositiveNeutralPositiveNeutralPositivePositivePositiveNeutralNeutralNeutralNeutralPositivePositivePositivePositiveNeutralNeutralNeutralNegativeNeutralPositivePositivePositiveNeutralNeutralNeutralNegativeNeutralNeutralNegativePositivePositiveNeutralNeutralNeutralPositiveNeutralPositiveNegativeNegativeNeutralNeutralPositivePositivePositivePositiveNeutralNeutralNeutralNeutralPositivePositiveNegativePositiveNeutralNeutralNeutralNeutralNeutralNeutralNegativePositiveNeutralPositiveNeutralNeutralPositivePositivePositiveNeutralNegativeNegativeNeutralNeutralPositiveNeutralNegativePositiveNeutralNeutralNeutralNeutralPositiveNeutralPositiveNeutralNeutralNeutralPositiveNeutralPositiveNeutralPositivePositiveNeutralPositivePositiveNeutralPositiveNeutralPositiveNeutralPositiveNeutralPositivePositivePositiveNeutralPositiveNegativePositiveNeutralNeutralPositiveNeutralPositiveNeutralNegativeNeutralNeutralPositivePositiveNeutralPositiveNeutralPositiveNegativeNeutralNeutralNegativeNeutralNeutralNegativePositivePositivePositiveNeutralPositiveNeutralNeutralNeutralPositiveNeutralNeutralPositiveNeutralNeutralNeutralPositiveNeutralNeutralNeutralNeutralNeutralPositivePositivePositivePositivePositiveNeutralPositivePositiveNeutralNegativeNegativePositivePositiveNegativeNeutralPositiveNegativePositiveNeutralNeutralNeutralNeutralNeutralNeutralNeutralNeutralNeutralNeutralPositiveNeutralNeutralNeutralPositiveNeutralNeutralPositiveNegativePositivePositiveNeutralNeutralNeutralPositivePositiveNeutralPositiveNeutralPositivePositiveNeutralNeutralPositivePositivePositivePositiveNeutralPositiveNeutralNeutralNegativeNeutralPositiveNeutralNeutralNeutralPositivePositivePositiveNeutralPositivePositivePositivePositiveNeutralPositivePositiveNeutralNeutralNeutralNeutralPositiveNeutralNeutralNeutralPositiveNeutralNeutralPositiveNeutralPositivePositiveNeutralNeutralNeutralNeutralPositiveNeutralNeutralNeutralPositiveNeutralPositiveNeutralPositivePositivePositiveNeutralPositivePositiveNeutralNeutralPositivePositiveNeutralNegativePositiveNeutralPositiveNeutralNeutralNegativeNeutralNeutralNeutralPositivePositivePositiveNeutralPositiveNeutralPositivePositiveNeutralPositiveNeutralPositiveNeutralPositiveNeutralNeutralNeutralNeutralNeutralPositiveNeutralPositivePositivePositiveNeutralNeutralNeutralNeutralPositiveNeutralPositiveNeutralNeutralPositivePositiveNeutralPositivePositiveNegativePositiveNegativePositivePositiveNeutralNeutralPositivePositivePositivePositiveNeutralPositivePositivePositiveNeutralPositivePositiveNeutralPositiveNeutralNeutralNeutralPositivePositivePositiveNeutralPositivePositiveNeutralNeutralNegativePositiveNeutralPositivePositiveNeutralNeutralNegativeNeutralPositivePositivePositiveNegativeNeutralPositiveNeutralPositiveNegativeNeutralNeutralPositiveNegativeNeutralNegativePositiveNeutralNeutralNeutralNeutralPositiveNeutralNeutralPositivePositivePositivePositivePositivePositiveNegativePositivePositiveNeutralPositiveNeutralPositivePositivePositivePositiveNegativeNegativeNeutralNeutralNeutralNeutralPositivePositivePositiveNeutralPositiveNeutralPositiveNeutralNegativeNeutralPositivePositivePositiveNeutralNeutralNeutralNeutralNeutralNeutralNeutralNegativeNeutralNeutralNeutralPositivePositiveNeutralPositivePositivePositivePositiveNeutralNegativeNeutralNeutralNegativePositivePositivePositiveNegativeNeutralNeutralNeutralPositiveNeutralNeutralNeutralNegativeNeutralNeutralNeutralPositivePositiveNeutralNeutralNeutralPositiveNeutralPositivePositiveNeutralNeutralPositiveNeutralNegativePositiveNeutralNegativePositivePositiveNegativePositiveNegativePositivePositiveNeutralPositiveNeutralNeutralPositiveNeutralPositivePositiveNeutralNeutralNeutralNeutralPositivePositivePositivePositiveNeutralPositiveNeutralPositivePositiveNeutralNeutralPositivePositiveNegativePositivePositiveNeutralNegativeNegativePositivePositiveNeutralNeutralPositivePositivePositiveNeutralPositivePositiveNegativeNeutralNeutralNegativePositivePositiveNeutralNeutralNegativeNeutralNeutralNeutralNegativePositiveNeutralNeutralPositiveNegativeNeutralNeutralNegativeNegativeNeutralNeutralNeutralPositivePositiveNegativePositivePositivePositivePositivePositivePositiveNegativeNeutralPositiveNeutralNeutralPositivePositiveNegativeNeutralNeutralPositivePositiveNeutralNeutralPositiveNeutralNeutralPositivePositiveNeutralNeutralNeutralPositiveNeutralPositiveNeutralPositivePositivePositivePositiveNeutralNeutralPositivePositivePositiveNegativePositivePositivePositiveNeutralNeutralPositiveNegativeNeutralNeutralNeutralNeutralPositivePositiveNeutralNeutralPositivePositiveNeutralNeutralNeutralPositiveNegativePositiveNeutralNeutralNegativePositiveNeutralNeutralPositiveNegativeNeutralPositiveNeutralNeutralPositivePositiveNeutralNeutralNeutralNeutralNegativePositivePositiveNeutralPositivePositiveNeutralPositiveNegativeNeutralNeutralPositiveNeutralNeutralPositiveNegativeNeutralNeutralPositiveNeutralNeutralPositiveNeutralNeutralPositiveNeutralNegativePositivePositivePositiveNeutralPositiveNeutralNegativeNeutralPositiveNeutralNeutralPositivePositiveNeutralNeutralPositiveNeutralPositivePositiveNeutralNeutralNegativePositivePositiveNeutralPositivePositiveNegativeNeutralPositiveNeutralNeutralNegativePositiveNeutralPositivePositiveNegativePositiveNeutralNeutralPositiveNeutralNeutralNeutralNegativePositiveNegativePositivePositivePositiveNeutralNeutralNegativeNeutralPositiveNegativePositivePositivePositiveNeutralPositiveNegativeNeutralNeutralNeutralNeutralPositiveNeutralNeutralNeutralPositiveNeutralPositivePositivePositivePositiveNegativeNeutralNeutralPositiveNeutralNeutralPositivePositivePositivePositiveNeutralNeutralNegativePositiveNegativePositivePositiveNegativeNeutralNeutralNeutralPositiveNeutralNegativeNeutralPositivePositiveNeutralPositivePositiveNeutralNeutralNeutralNegativeNegativePositivePositiveNeutralNeutralNeutralPositiveNeutralPositivePositiveNeutralNeutralPositivePositivePositivePositivePositivePositiveNeutralNeutralPositivePositiveNeutralPositiveNeutralPositiveNeutralNegativeNeutralPositivePositiveNeutralPositiveNegativeNeutralNegativeNeutralPositivePositiveNegativeNeutralPositivePositivePositiveNegativeNeutralNeutralNeutralNeutralPositiveNeutralPositivePositiveNeutralNegativePositivePositiveNeutralNegativeNeutralPositivePositivePositiveNeutralNegativePositiveNeutralPositivePositiveNeutralNegativeNeutralPositivePositiveNeutralNeutralPositiveNegativeNeutralPositiveNeutralPositiveNeutralNegativeNeutralPositivePositiveNeutralPositivePositiveNeutralPositivePositiveNeutralPositivePositiveNeutralPositivePositiveNegativeNegativeNegativePositiveNeutralPositiveNeutralPositiveNegativeNeutralNeutralNeutralPositivePositiveNeutralNeutralNegativeNegativePositiveNeutralNeutralNegativePositiveNeutralNeutralPositivePositiveNegativeNeutralNeutralNeutralPositivePositivePositivePositiveNeutralNeutralPositivePositivePositivePositiveNeutralNeutralPositivePositivePositiveNegativePositiveNeutralNeutralNeutralNeutralPositivePositiveNegativePositivePositiveNeutralNeutralNeutralPositiveNeutralPositiveNeutralPositiveNegativeNeutralPositivePositiveNeutralNeutralNeutralNeutralPositivePositiveNeutralNeutralNeutralNeutralPositiveNeutralNeutralPositiveNeutralPositiveNeutralNeutralNeutralNeutralPositiveNegativeNeutralPositiveNeutralNeutralPositivePositiveNeutralNeutralPositivePositivePositiveNeutralPositiveNegativePositivePositivePositiveNegativePositivePositivePositivePositiveNeutralNeutralPositivePositivePositiveNegativePositiveNegativeNeutralNeutralNeutralPositivePositiveNegativePositiveNeutralNegativePositiveNeutralNeutralNeutralPositivePositivePositiveNeutralNegativeNeutralNeutralNeutralNegativeNegativePositivePositiveNeutralNegativeNeutralPositivePositiveNegativePositivePositivePositivePositivePositiveNeutralNeutralNeutralNeutralPositivePositiveNeutralPositivePositiveNeutralNegativeNeutralNegativePositivePositivePositiveNegativeNeutralPositivePositiveNeutralNeutralPositiveNeutralPositivePositiveNeutralNeutralPositivePositivePositiveNegativePositivePositivePositiveNegativePositiveNeutralPositivePositivePositivePositiveNeutralNeutralPositivePositivePositiveNeutralPositiveNeutralNeutralNeutralNeutralNeutralNeutralPositivePositiveNegativePositiveNeutralPositivePositivePositiveNegativeNeutralNeutralNegativeNeutralNeutralNegativePositiveNeutralPositivePositiveNeutralPositiveNeutralPositivePositiveNeutralNeutralNeutralPositiveNeutralNeutralPositivePositiveNeutralNegativeNeutralPositivePositiveNegativePositiveNegativeNeutralNegativePositivePositiveNeutralPositiveNeutralNeutralNeutralPositivePositiveNeutralPositivePositivePositivePositiveNeutralPositiveNeutralNeutralNeutralPositivePositiveNeutralPositiveNeutralNeutralPositivePositiveNegativeNeutralNegativePositiveNeutralPositivePositivePositiveNeutralNeutralNegativePositiveNegativeNeutralNeutralNeutralPositivePositiveNegativePositiveNeutralNeutralPositivePositiveNegativeNeutralPositivePositivePositivePositivePositivePositiveNeutralPositivePositivePositivePositiveNeutralPositiveNeutralNeutralPositivePositivePositiveNeutralPositivePositiveNeutralNeutralPositivePositiveNegativePositiveNeutralPositiveNegativePositiveNeutralPositivePositivePositivePositivePositiveNegativeNeutralPositivePositiveNegativePositivePositiveNeutralNeutralNeutralPositivePositivePositiveNegativePositivePositivePositiveNeutralNeutralNeutralPositivePositivePositivePositivePositiveNeutralPositiveNeutralPositivePositiveNegativeNeutralNeutralPositiveNegativeNegativePositiveNeutralPositivePositivePositiveNeutralNeutralPositiveNeutralPositiveNeutralPositiveNeutralPositivePositiveNeutralNeutralNeutralNeutralNeutralNeutralPositivePositivePositiveNeutralNeutralPositiveNegativeNeutralNeutralPositivePositivePositivePositiveNeutralNeutralNeutralNeutralNegativeNeutralNeutralPositivePositiveNeutralNeutralPositivePositivePositivePositivePositiveNeutralNeutralPositiveNegativePositivePositiveNeutralPositiveNeutralNeutralNeutralPositiveNegativeNegativePositiveNeutralPositiveNeutralPositivePositivePositivePositiveNeutralPositiveNeutralPositiveNeutralNeutralPositivePositivePositiveNeutralPositivePositivePositiveNeutralPositivePositivePositivePositiveNeutralNeutralNeutralNeutralPositiveNeutralPositiveNegativePositivePositivePositiveNegativePositivePositivePositiveNeutralNeutralPositiveNeutralPositivePositivePositivePositiveNegativeNeutralPositiveNegativeNeutralNeutralNeutralPositiveNegativeNegativePositiveNeutralNegativeNeutralNeutralNeutralPositivePositivePositiveNegativeNeutralNeutralNeutralNeutralPositivePositivePositiveNeutralPositiveNegativeNeutralNeutralNegativePositivePositiveNeutralPositivePositivePositivePositiveNegativeNegativeNeutralNeutralPositivePositivePositivePositivePositivePositivePositivePositiveNeutralNeutralNegativePositiveNeutralNeutralNeutralPositiveNeutralPositivePositiveNeutralPositivePositiveNeutralNegativeNeutralNeutralNeutralNegativePositiveNeutralNeutralNeutralPositiveNeutralPositiveNegativeNegativeNeutralNeutralPositivePositiveNeutralPositiveNeutralNeutralPositiveNeutralPositiveNeutralPositiveNeutralPositivePositivePositivePositiveNeutralPositivePositiveNeutralPositivePositivePositivePositiveNeutralPositiveNeutralPositivePositiveNegativePositiveNeutralNegativePositivePositivePositiveNeutralNeutralNegativeNeutralPositivePositivePositivePositivePositiveNegativeNegativePositivePositiveNeutralPositiveNegativePositiveNeutralNeutralPositiveNeutralPositiveNeutralPositiveNeutralPositiveNeutralNegativePositiveNeutralPositivePositivePositiveNegativePositiveNeutralPositivePositiveNeutralNegativePositiveNeutralNeutralNeutralPositiveNeutralNeutralNeutralPositivePositiveNegativeNegativePositiveNegativeNeutralNeutralNegativeNeutralNegativePositivePositivePositiveNegativePositiveNeutralPositiveNeutralPositiveNeutralNeutralPositivePositiveNeutralNeutralNeutralPositivePositivePositivePositiveNegativePositiveNegativeNeutralPositiveNeutralPositiveNeutralNeutralNegativeNeutralNeutralNeutralPositiveNegativePositiveNeutralPositivePositiveNeutralNegativeNeutralPositiveNeutralNeutralNeutralPositivePositivePositivePositiveNeutralNeutralPositiveNeutralNeutralPositiveNegativeNeutralPositiveNeutralPositiveNeutralNeutralPositiveNeutralPositiveNeutralNeutralPositivePositivePositivePositiveNeutralNeutralNegativeNeutralPositiveNeutralNegativePositiveNeutralPositiveNeutralNegativeNeutralNeutralNeutralNeutralPositivePositiveNeutralPositivePositivePositiveNeutralNeutralPositiveNeutralNeutralNegativePositivePositivePositiveNegativeNeutralPositiveNeutralPositiveNeutralPositivePositivePositiveNeutralPositiveNegativeNeutralNeutralNeutralPositiveNeutralNeutralNegativePositivePositiveNeutralPositiveNeutralNeutralPositiveNeutralNeutralPositivePositivePositivePositivePositivePositivePositiveNeutralPositiveNeutralPositivePositiveNeutralPositiveNegativeNeutralNeutralPositiveNegativeNeutralPositivePositiveNeutralNeutralNegativeNeutralPositiveNegativeNeutralNegativePositiveNeutralNegativeNeutralPositiveNegativeNegativePositiveNeutralNeutralPositivePositivePositiveNeutralNeutralNeutralPositivePositivePositiveNeutralPositiveNeutralPositivePositivePositivePositiveNeutralPositiveNegativePositiveNeutralNegativeNeutralPositiveNeutralNeutralNeutralPositiveNeutralPositiveNeutralPositivePositiveNeutralPositivePositiveNegativeNegativePositiveNeutralPositiveNeutralNegativePositiveNeutralNeutralPositivePositivePositivePositivePositivePositivePositiveNegativeNegativeNegativeNeutralPositivePositiveNegativeNegativePositiveNegativePositivePositivePositiveNeutralPositivePositivePositivePositivePositivePositiveNeutralPositiveNeutralPositiveNeutralNeutralPositiveNeutralNeutralPositivePositiveNeutralPositiveNeutralNeutralPositivePositiveNeutralNeutralNeutralNeutralNeutralPositivePositiveNegativePositivePositivePositivePositiveNegativePositivePositivePositiveNeutralNeutralNeutralNeutralPositivePositiveNeutralPositivePositiveNeutralNegativePositivePositivePositivePositivePositivePositivePositiveNeutralPositivePositivePositivePositivePositivePositiveNeutralPositivePositiveNegativeNeutralPositivePositiveNegativePositiveNeutralPositiveNeutralPositiveNegativePositiveNegativeNeutralNeutralNegativeNegativePositivePositivePositiveNeutralNeutralNeutralPositiveNeutralNegativePositiveNegativeNeutralNeutralPositivePositiveNeutralNegativePositiveNeutralNeutralNegativeNegativePositivePositiveNeutralPositivePositivePositiveNeutralNegativePositivePositivePositiveNegativeNegativePositiveNeutralPositiveNegativePositivePositiveNeutralNeutralNeutralNeutralPositivePositiveNegativePositiveNeutralNegativeNeutralPositiveNegativeNegativePositiveNeutralNegativePositiveNeutralPositiveNegativePositiveNeutralNeutralNegativePositivePositivePositivePositiveNegativePositiveNeutralPositiveNeutralNeutralNeutralPositivePositiveNeutralNeutralPositiveNeutralNeutralPositiveNeutralPositivePositivePositiveNeutralPositivePositivePositivePositivePositivePositiveNeutralNeutralPositiveNeutralNegativePositiveNeutralPositivePositivePositiveNegativePositiveNeutralPositivePositiveNeutralNegativePositivePositivePositiveNeutralNeutralNeutralNeutralNeutralNeutralPositivePositiveNegativePositivePositiveNeutralNeutralPositiveNeutralPositiveNegativePositivePositiveNegativePositiveNeutralNeutralPositiveNeutralNegativePositivePositivePositiveNeutralPositiveNegativeNeutralPositiveNegativeNeutralNegativeNeutralNeutralNeutralNegativePositivePositivePositiveNegativePositiveNeutralPositiveNeutralNegativeNegativeNegativePositiveNeutralNegativePositivePositivePositiveNeutralNeutralNeutralNeutralPositivePositivePositivePositivePositivePositivePositiveNeutralNeutralNeutralNeutralPositivePositivePositiveNegativeNegativePositivePositivePositivePositiveNegativePositivePositivePositivePositiveNeutralNeutralNeutralNeutralNeutralPositiveNeutralPositivePositivePositivePositiveNeutralPositivePositivePositiveNeutralNegativeNeutralPositiveNegativePositiveNeutralNeutralPositiveNeutralPositiveNegativePositiveNegativePositiveNeutralPositiveNeutralNeutralPositivePositiveNeutralPositiveNegativePositiveNegativeNeutralNeutralPositiveNeutralPositiveNegativePositivePositiveNegativeNeutralNeutralNeutralNeutralPositiveNeutralNeutralPositivePositivePositiveNeutralNegativeNegativePositiveNeutralPositivePositivePositiveNegativePositiveNeutralNeutralPositiveNeutralPositiveNeutralNeutralPositivePositiveNegativeNeutralNeutralPositivePositiveNeutralNegativeNeutralNeutralNeutralPositiveNeutralNeutralPositivePositivePositivePositiveNeutralPositivePositiveNeutralPositiveNeutralPositiveNeutralPositivePositivePositivePositiveNeutralPositiveNegativeNeutralPositiveNegativeNeutralNeutralNeutralPositivePositiveNeutralPositivePositivePositiveNegativeNegativePositivePositiveNeutralNeutralPositivePositiveNeutralPositivePositiveNegativeNeutralNegativePositivePositivePositiveNegativePositivePositivePositiveNeutralNeutralNeutralNeutralPositivePositivePositiveNeutralPositivePositiveNeutralPositiveNeutralNeutralPositiveNeutralPositiveNeutralNeutralNeutralPositivePositivePositivePositivePositiveNeutralPositiveNeutralPositivePositivePositiveNegativeNeutralPositiveNeutralPositiveNeutralPositiveNeutralNegativePositivePositiveNegativePositiveNeutralNeutralNeutralNeutralNeutralNeutralPositiveNeutralNeutralPositivePositiveNeutralPositiveNeutralPositiveNeutralPositiveNeutralPositivePositivePositiveNeutralNeutralNeutralNegativePositiveNegativePositivePositivePositiveNeutralPositivePositiveNegativeNeutralPositiveNeutralNegativeNegativePositivePositivePositivePositivePositivePositivePositiveNeutralPositiveNeutralNegativePositiveNeutralPositiveNegativePositiveNegativePositivePositiveNeutralNeutralPositiveNeutralPositiveNeutralPositivePositiveNegativeNeutralPositiveNeutralPositivePositivePositivePositiveNeutralNeutralPositiveNegativePositivePositiveNegativePositiveNeutralNegativeNeutralPositivePositivePositivePositiveNegativePositivePositivePositiveNegativePositivePositivePositiveNeutralPositiveNeutralNegativePositivePositiveNeutralPositivePositivePositiveNeutralPositivePositivePositiveNeutralNeutralPositivePositivePositiveNegativeNeutralPositivePositiveNeutralNegativePositiveNegativeNeutralPositivePositiveNegativePositivePositivePositivePositivePositiveNeutralNeutralNegativePositivePositivePositiveNeutralPositivePositiveNeutralNeutralPositivePositiveNegativePositiveNegativePositivePositiveNeutralNeutralPositiveNeutralPositiveNegativePositiveNegativeNeutralPositiveNegativeNeutralPositiveNeutralPositiveNeutralNeutralPositivePositiveNeutralNeutralNegativeNegativePositivePositiveNeutralNeutralPositiveNeutralPositivePositivePositivePositivePositiveNeutralNeutralNeutralNeutralPositivePositiveNeutralPositiveNegativePositivePositivePositivePositiveNeutralNeutralPositiveNeutralNeutralPositivePositivePositivePositivePositiveNeutralPositivePositivePositiveNegativePositiveNeutralNegativeNeutralPositivePositivePositiveNeutralPositiveNeutralNeutralPositiveNeutralPositivePositivePositivePositivePositivePositiveNegativeNeutralPositiveNeutralPositiveNeutralPositiveNegativeNeutralPositiveNeutralPositivePositiveNegativeNeutralPositiveNeutralNegativeNeutralNeutralNeutralNeutralNeutralPositiveNeutralPositiveNegativePositivePositivePositiveNeutralNeutralNeutralNeutralPositivePositivePositivePositivePositivePositivePositiveNeutralPositivePositiveNeutralPositivePositivePositiveNeutralPositivePositivePositivePositiveNegativeNegativeNegativePositivePositivePositivePositivePositiveNeutralNeutralPositiveNegativeNeutralPositiveNegativePositiveNeutralPositivePositivePositiveNeutralNeutralNeutralPositivePositivePositivePositivePositiveNeutralPositiveNeutralNegativePositiveNegativeNeutralNeutralNeutralNeutralNeutralNegativeNeutralNeutralPositiveNeutralNeutralNeutralPositivePositivePositivePositiveNeutralNeutralPositiveNeutralPositivePositivePositiveNeutralPositivePositivePositivePositivePositivePositivePositiveNeutralNeutralPositivePositiveNeutralPositivePositivePositiveNeutralPositiveNeutralNeutralPositiveNeutralPositiveNeutralNegativePositivePositivePositivePositivePositivePositiveNeutralNeutralPositiveNeutralPositivePositiveNegativeNeutralNeutralPositiveNeutralNeutralPositiveNeutralPositiveNegativeNeutralNeutralNegativeNeutralNeutralPositiveNeutralPositiveNeutralNeutralPositiveNeutralPositiveNeutralPositiveNeutralNeutralPositiveNeutralNeutralPositiveNegativeNegativeNeutralNegativePositiveNeutralPositivePositiveNeutralPositiveNeutralNegativePositivePositiveNeutralNeutralPositiveNeutralNeutralNeutralNeutralNeutralNeutralNegativeNeutralNeutralPositiveNeutralPositiveNeutralPositiveNeutralNeutralPositivePositiveNeutralPositiveNeutralNeutralNeutralPositiveNeutralPositiveNeutralPositiveNeutralNeutralNegativePositivePositiveNeutralNegativePositiveNegativeNeutralPositivePositiveNeutralNeutralPositivePositiveNeutralPositivePositiveNeutralNeutralPositiveNeutralNeutralNegativePositiveNeutralPositivePositiveNeutralPositivePositiveNeutralPositivePositivePositiveNeutralPositivePositiveNeutralPositiveNegativePositiveNegativePositiveNeutralNeutralPositiveNegativeNeutralNeutralPositiveNeutralPositivePositivePositiveNeutralNeutralPositivePositivePositiveNegativeNeutralPositiveNegativePositivePositivePositiveNeutralNegativeNeutralPositiveNegativePositiveNeutralNeutralNeutralNegativeNeutralNeutralNeutralNeutralNegativeNegativeNeutralNeutralNeutralNeutralNeutralPositiveNeutralNeutralPositiveNeutralPositivePositiveNegativePositivePositiveNegativePositivePositiveNeutralNeutralNeutralPositiveNeutralPositiveNeutralPositiveNeutralNeutralNeutralNegativePositiveNeutralNegativeNegativePositivePositiveNeutralPositiveNeutralPositiveNeutralPositiveNeutralNegativePositiveNeutralNeutralPositiveNeutralNeutralNeutralPositiveNeutralNeutralPositivePositiveNegativeNeutralPositivePositiveNegativeNegativePositivePositivePositiveNeutralNeutralPositiveNeutralNeutralPositivePositivePositiveNeutralPositiveNeutralNeutralNeutralPositiveNeutralNegativePositivePositiveNeutralPositivePositivePositiveNegativePositiveNeutralNeutralNeutralNeutralNegativePositiveNeutralNegativeNeutralNegativePositiveNeutralNeutralPositivePositiveNegativePositiveNegativePositivePositiveNeutralNeutralPositivePositiveNeutralNeutralNeutralPositiveNeutralPositivePositiveNegativePositiveNeutralNegativePositiveNeutralPositiveNeutralNegativePositivePositivePositivePositiveNeutralPositiveNegativePositiveNeutralNeutralNeutralNeutralPositivePositivePositiveNegativeNeutralNeutralNeutralNeutralPositivePositivePositivePositivePositivePositiveNegativeNeutralPositivePositiveNeutralPositiveNeutralNeutralPositivePositivePositiveNeutralNeutralPositiveNeutralPositiveNeutralPositiveNeutralPositivePositiveNeutralPositivePositivePositiveNeutralPositiveNeutralNegativePositiveNeutralNeutralPositiveNeutralPositivePositivePositiveNegativePositiveNeutralNegativeNeutralNeutralNegativeNeutralNegativeNegativeNegativeNeutralNeutralNeutralNeutralNeutralPositivePositivePositivePositiveNeutralPositivePositiveNeutralNegativeNeutralPositiveNeutralNeutralPositiveNeutralPositiveNeutralPositivePositivePositivePositivePositivePositiveNeutralNegativePositiveNeutralPositivePositivePositivePositivePositivePositivePositiveNeutralPositiveNeutralPositivePositiveNegativeNeutralNegativePositiveNeutralPositivePositivePositivePositivePositivePositivePositivePositiveNegativeNegativePositivePositiveNeutralNeutralNegativeNegativePositiveNeutralNeutralNeutralNeutralPositivePositivePositiveNeutralPositivePositivePositivePositiveNeutralPositiveNeutralNeutralPositiveNegativeNeutralPositivePositiveNegativeNeutralPositiveNegativePositivePositivePositivePositiveNeutralNeutralNeutralPositivePositivePositivePositivePositiveNeutralNegativeNeutralPositiveNeutralNeutralPositiveNegativePositiveNeutralNeutralNegativeNeutralPositiveNeutralPositivePositivePositivePositivePositivePositivePositivePositivePositivePositiveNeutralPositiveNeutralNeutralPositiveNegativePositiveNegativeNegativePositivePositiveNeutralPositiveNeutralPositivePositiveNeutralNeutralNeutralNeutralNeutralPositivePositivePositiveNeutralNeutralPositiveNeutralPositivePositivePositivePositiveNeutralNeutralPositiveNeutralNegativeNegativeNegativeNeutralPositivePositivePositivePositivePositiveNeutralNegativeNeutralNeutralNeutralNeutralPositiveNeutralNeutralNeutralNegativeNeutralNegativeNegativeNeutralPositiveNeutralPositivePositiveNeutralNeutralNegativePositiveNegativePositivePositivePositiveNeutralPositiveNeutralNegativeNeutralNeutralPositiveNegativePositiveNeutralNeutralNeutralPositiveNegativePositiveNegativeNeutralNeutralPositiveNeutralPositivePositivePositiveNeutralNeutralNeutralPositivePositiveNeutralNeutralNeutralNeutralNeutralPositiveNeutralNeutralNeutralNeutralPositiveNeutralPositiveNeutralNegativeNegativeNeutralPositivePositivePositivePositiveNeutralNeutralNeutralPositivePositivePositiveNegativePositiveNeutralNeutralPositiveNegativeNegativePositiveNeutralNeutralNeutralNeutralPositivePositiveNeutralPositiveNeutralNeutralPositivePositiveNeutralPositiveNeutralNeutralPositiveNeutralPositivePositiveNeutralNeutralPositivePositiveNeutralNeutralNeutralPositiveNeutralPositivePositivePositiveNeutralNeutralNeutralNeutralPositiveNeutralPositiveNegativePositiveNeutralNeutralPositivePositivePositivePositiveNeutralNeutralNegativePositiveNegativeNegativeNeutralNeutralPositiveNeutralNegativePositivePositiveNeutralNegativeNeutralPositivePositiveNeutralNeutralNeutralPositiveNegativeNeutralNeutralNeutralPositiveNeutralNeutralNegativePositiveNegativeNeutralPositiveNeutralPositiveNeutralPositiveNeutralPositiveNeutralNeutralNeutralPositiveNeutralPositiveNeutralPositiveNegativePositiveNeutralNeutralNeutralPositivePositivePositiveNeutral'"
            ],
            "application/vnd.google.colaboratory.intrinsic+json": {
              "type": "string"
            }
          },
          "metadata": {},
          "execution_count": 86
        }
      ]
    },
    {
      "cell_type": "code",
      "source": [
        "print(data_trans['Sentiment'])"
      ],
      "metadata": {
        "colab": {
          "base_uri": "https://localhost:8080/"
        },
        "id": "wcOGAW4I2AU8",
        "outputId": "902feb55-e761-4d81-9370-bf5b4e147a5b"
      },
      "execution_count": null,
      "outputs": [
        {
          "output_type": "stream",
          "name": "stdout",
          "text": [
            "0        Negative\n",
            "1        Positive\n",
            "2        Negative\n",
            "3        Positive\n",
            "4        Positive\n",
            "           ...   \n",
            "10357     Neutral\n",
            "10358    Positive\n",
            "10359    Positive\n",
            "10360    Positive\n",
            "10361     Neutral\n",
            "Name: Sentiment, Length: 10362, dtype: object\n"
          ]
        }
      ]
    },
    {
      "cell_type": "code",
      "source": [
        "#Copy Data\n",
        "data_trans1=data_trans.copy()"
      ],
      "metadata": {
        "id": "Ob1IZly5K0jC"
      },
      "execution_count": null,
      "outputs": []
    },
    {
      "cell_type": "code",
      "source": [
        "data_trans1['Sentiment'].replace(['Negative','Neutral','Positive'],[-1,0,1],inplace=True)\n",
        "print(data_trans1['Sentiment'])"
      ],
      "metadata": {
        "colab": {
          "base_uri": "https://localhost:8080/"
        },
        "id": "KeF8iq_z-ald",
        "outputId": "3fab2b1b-2218-4bc4-e2ad-792622a12c14"
      },
      "execution_count": null,
      "outputs": [
        {
          "output_type": "stream",
          "name": "stdout",
          "text": [
            "0       -1\n",
            "1        1\n",
            "2       -1\n",
            "3        1\n",
            "4        1\n",
            "        ..\n",
            "10357    0\n",
            "10358    1\n",
            "10359    1\n",
            "10360    1\n",
            "10361    0\n",
            "Name: Sentiment, Length: 10362, dtype: int64\n"
          ]
        }
      ]
    },
    {
      "cell_type": "code",
      "source": [
        "#Akan\n",
        "data_trans1[['Sentiment']].to_csv(\"sentimentNum.csv\", index=False, encoding='utf8', header=False)"
      ],
      "metadata": {
        "id": "v8hS8LS7M2FD"
      },
      "execution_count": null,
      "outputs": []
    },
    {
      "cell_type": "code",
      "source": [
        "#Akan dibuat Bar Plot untuk Sentimen Analisis\n",
        "import matplotlib.pyplot as plt\n",
        "import numpy as np\n",
        "\n",
        "x = np.array([\"Positif\", \"Netral\", \"Negatif\"])\n",
        "y = np.array([4683,4347,1332])\n",
        "\n",
        "plt.bar(x,y,color=\"green\")\n",
        "plt.show()"
      ],
      "metadata": {
        "colab": {
          "base_uri": "https://localhost:8080/",
          "height": 265
        },
        "id": "47CA0pFYGWqN",
        "outputId": "d5e153cb-a478-443d-f6c8-91cd364f8278"
      },
      "execution_count": null,
      "outputs": [
        {
          "output_type": "display_data",
          "data": {
            "text/plain": [
              "<Figure size 432x288 with 1 Axes>"
            ],
            "image/png": "[encoded data removed]"
          },
          "metadata": {
            "needs_background": "light"
          }
        }
      ]
    },
    {
      "cell_type": "markdown",
      "source": [
        "Berdasarkan hasil analisis sentimen tweet \n",
        "menunjukan bahwa sentimen positif merupakan yang \n",
        "terbanyak yaitu sekitar 6015 (45,20%) tweet, diikuti oleh sentimen netral dengan jumlah 4347 (41,95%) tweet dan\n",
        "sentimen negatif sebanyak 1332 (12,85%) tweet dari yang ditangkap dari setiap kata dalam “cuitan” menjadi \n",
        "algoritma. Sentimen publik/netizen dalam sosial \n",
        "media dibedakan atas sentimen positif, negatif dan juga \n",
        "netral."
      ],
      "metadata": {
        "id": "PQDozngIIQmy"
      }
    },
    {
      "cell_type": "code",
      "source": [
        "data_trans1[['Sentiment']].to_csv(\"SentimentNumerik.csv\", index=False, encoding='utf8', header=False)"
      ],
      "metadata": {
        "id": "Dt6nPd0jA7DO"
      },
      "execution_count": null,
      "outputs": []
    },
    {
      "cell_type": "code",
      "source": [
        "data_trans1.head()"
      ],
      "metadata": {
        "colab": {
          "base_uri": "https://localhost:8080/",
          "height": 206
        },
        "id": "_Xq_b52z-i_V",
        "outputId": "450e63b3-c0e6-4677-b9b1-34a5dfda8693"
      },
      "execution_count": null,
      "outputs": [
        {
          "output_type": "execute_result",
          "data": {
            "text/plain": [
              "                                               tweet  \\\n",
              "0  English League The fastest scrolls after the 2...   \n",
              "1  Main Tottenham Hotspur Qatar World Cup match H...   \n",
              "2  It is impossible to give a lot of rest to play...   \n",
              "3  Antonio Conte Vocal Lantar Premier League so t...   \n",
              "4  Kylian Mbappe Lionel Messi Strong Candidate Wi...   \n",
              "\n",
              "                                       cleaned_tweet  polarity  subjectivity  \\\n",
              "0  english league the fastest scrolls after the  ... -0.200000      0.400000   \n",
              "1  main tottenham hotspur qatar world cup match h...  0.166667      0.333333   \n",
              "2  it is impossible to give a lot of rest to play... -0.036111      0.482143   \n",
              "3  antonio conte vocal lantar premier league so t...  0.360000      0.596667   \n",
              "4  kylian mbappe lionel messi strong candidate wi...  0.477778      0.511111   \n",
              "\n",
              "   Sentiment  \n",
              "0         -1  \n",
              "1          1  \n",
              "2         -1  \n",
              "3          1  \n",
              "4          1  "
            ],
            "text/html": [
              "\n",
              "  <div id=\"df-a7f407f2-a30e-44e1-a43f-956ae20a3b07\">\n",
              "    <div class=\"colab-df-container\">\n",
              "      <div>\n",
              "<style scoped>\n",
              "    .dataframe tbody tr th:only-of-type {\n",
              "        vertical-align: middle;\n",
              "    }\n",
              "\n",
              "    .dataframe tbody tr th {\n",
              "        vertical-align: top;\n",
              "    }\n",
              "\n",
              "    .dataframe thead th {\n",
              "        text-align: right;\n",
              "    }\n",
              "</style>\n",
              "<table border=\"1\" class=\"dataframe\">\n",
              "  <thead>\n",
              "    <tr style=\"text-align: right;\">\n",
              "      <th></th>\n",
              "      <th>tweet</th>\n",
              "      <th>cleaned_tweet</th>\n",
              "      <th>polarity</th>\n",
              "      <th>subjectivity</th>\n",
              "      <th>Sentiment</th>\n",
              "    </tr>\n",
              "  </thead>\n",
              "  <tbody>\n",
              "    <tr>\n",
              "      <th>0</th>\n",
              "      <td>English League The fastest scrolls after the 2...</td>\n",
              "      <td>english league the fastest scrolls after the  ...</td>\n",
              "      <td>-0.200000</td>\n",
              "      <td>0.400000</td>\n",
              "      <td>-1</td>\n",
              "    </tr>\n",
              "    <tr>\n",
              "      <th>1</th>\n",
              "      <td>Main Tottenham Hotspur Qatar World Cup match H...</td>\n",
              "      <td>main tottenham hotspur qatar world cup match h...</td>\n",
              "      <td>0.166667</td>\n",
              "      <td>0.333333</td>\n",
              "      <td>1</td>\n",
              "    </tr>\n",
              "    <tr>\n",
              "      <th>2</th>\n",
              "      <td>It is impossible to give a lot of rest to play...</td>\n",
              "      <td>it is impossible to give a lot of rest to play...</td>\n",
              "      <td>-0.036111</td>\n",
              "      <td>0.482143</td>\n",
              "      <td>-1</td>\n",
              "    </tr>\n",
              "    <tr>\n",
              "      <th>3</th>\n",
              "      <td>Antonio Conte Vocal Lantar Premier League so t...</td>\n",
              "      <td>antonio conte vocal lantar premier league so t...</td>\n",
              "      <td>0.360000</td>\n",
              "      <td>0.596667</td>\n",
              "      <td>1</td>\n",
              "    </tr>\n",
              "    <tr>\n",
              "      <th>4</th>\n",
              "      <td>Kylian Mbappe Lionel Messi Strong Candidate Wi...</td>\n",
              "      <td>kylian mbappe lionel messi strong candidate wi...</td>\n",
              "      <td>0.477778</td>\n",
              "      <td>0.511111</td>\n",
              "      <td>1</td>\n",
              "    </tr>\n",
              "  </tbody>\n",
              "</table>\n",
              "</div>\n",
              "      <button class=\"colab-df-convert\" onclick=\"convertToInteractive('df-a7f407f2-a30e-44e1-a43f-956ae20a3b07')\"\n",
              "              title=\"Convert this dataframe to an interactive table.\"\n",
              "              style=\"display:none;\">\n",
              "        \n",
              "  <svg xmlns=\"http://www.w3.org/2000/svg\" height=\"24px\"viewBox=\"0 0 24 24\"\n",
              "       width=\"24px\">\n",
              "    <path d=\"M0 0h24v24H0V0z\" fill=\"none\"/>\n",
              "    <path d=\"M18.56 5.44l.94 2.06.94-2.06 2.06-.94-2.06-.94-.94-2.06-.94 2.06-2.06.94zm-11 1L8.5 8.5l.94-2.06 2.06-.94-2.06-.94L8.5 2.5l-.94 2.06-2.06.94zm10 10l.94 2.06.94-2.06 2.06-.94-2.06-.94-.94-2.06-.94 2.06-2.06.94z\"/><path d=\"M17.41 7.96l-1.37-1.37c-.4-.4-.92-.59-1.43-.59-.52 0-1.04.2-1.43.59L10.3 9.45l-7.72 7.72c-.78.78-.78 2.05 0 2.83L4 21.41c.39.39.9.59 1.41.59.51 0 1.02-.2 1.41-.59l7.78-7.78 2.81-2.81c.8-.78.8-2.07 0-2.86zM5.41 20L4 18.59l7.72-7.72 1.47 1.35L5.41 20z\"/>\n",
              "  </svg>\n",
              "      </button>\n",
              "      \n",
              "  <style>\n",
              "    .colab-df-container {\n",
              "      display:flex;\n",
              "      flex-wrap:wrap;\n",
              "      gap: 12px;\n",
              "    }\n",
              "\n",
              "    .colab-df-convert {\n",
              "      background-color: #E8F0FE;\n",
              "      border: none;\n",
              "      border-radius: 50%;\n",
              "      cursor: pointer;\n",
              "      display: none;\n",
              "      fill: #1967D2;\n",
              "      height: 32px;\n",
              "      padding: 0 0 0 0;\n",
              "      width: 32px;\n",
              "    }\n",
              "\n",
              "    .colab-df-convert:hover {\n",
              "      background-color: #E2EBFA;\n",
              "      box-shadow: 0px 1px 2px rgba(60, 64, 67, 0.3), 0px 1px 3px 1px rgba(60, 64, 67, 0.15);\n",
              "      fill: #174EA6;\n",
              "    }\n",
              "\n",
              "    [theme=dark] .colab-df-convert {\n",
              "      background-color: #3B4455;\n",
              "      fill: #D2E3FC;\n",
              "    }\n",
              "\n",
              "    [theme=dark] .colab-df-convert:hover {\n",
              "      background-color: #434B5C;\n",
              "      box-shadow: 0px 1px 3px 1px rgba(0, 0, 0, 0.15);\n",
              "      filter: drop-shadow(0px 1px 2px rgba(0, 0, 0, 0.3));\n",
              "      fill: #FFFFFF;\n",
              "    }\n",
              "  </style>\n",
              "\n",
              "      <script>\n",
              "        const buttonEl =\n",
              "          document.querySelector('#df-a7f407f2-a30e-44e1-a43f-956ae20a3b07 button.colab-df-convert');\n",
              "        buttonEl.style.display =\n",
              "          google.colab.kernel.accessAllowed ? 'block' : 'none';\n",
              "\n",
              "        async function convertToInteractive(key) {\n",
              "          const element = document.querySelector('#df-a7f407f2-a30e-44e1-a43f-956ae20a3b07');\n",
              "          const dataTable =\n",
              "            await google.colab.kernel.invokeFunction('convertToInteractive',\n",
              "                                                     [key], {});\n",
              "          if (!dataTable) return;\n",
              "\n",
              "          const docLinkHtml = 'Like what you see? Visit the ' +\n",
              "            '<a target=\"_blank\" href=https://colab.research.google.com/notebooks/data_table.ipynb>data table notebook</a>'\n",
              "            + ' to learn more about interactive tables.';\n",
              "          element.innerHTML = '';\n",
              "          dataTable['output_type'] = 'display_data';\n",
              "          await google.colab.output.renderOutput(dataTable, element);\n",
              "          const docLink = document.createElement('div');\n",
              "          docLink.innerHTML = docLinkHtml;\n",
              "          element.appendChild(docLink);\n",
              "        }\n",
              "      </script>\n",
              "    </div>\n",
              "  </div>\n",
              "  "
            ]
          },
          "metadata": {},
          "execution_count": 93
        }
      ]
    },
    {
      "cell_type": "code",
      "source": [
        "data_trans.describe()"
      ],
      "metadata": {
        "colab": {
          "base_uri": "https://localhost:8080/",
          "height": 300
        },
        "id": "q5YN4-BVa87y",
        "outputId": "e6c5dcc3-feed-444f-abfd-2d2485112849"
      },
      "execution_count": null,
      "outputs": [
        {
          "output_type": "execute_result",
          "data": {
            "text/plain": [
              "           polarity  subjectivity\n",
              "count  10362.000000  10362.000000\n",
              "mean       0.107526      0.365150\n",
              "std        0.252341      0.328045\n",
              "min       -1.000000      0.000000\n",
              "25%        0.000000      0.000000\n",
              "50%        0.000000      0.375000\n",
              "75%        0.235958      0.600000\n",
              "max        1.000000      1.000000"
            ],
            "text/html": [
              "\n",
              "  <div id=\"df-9c4f92f8-aaad-406c-9121-e3b191101def\">\n",
              "    <div class=\"colab-df-container\">\n",
              "      <div>\n",
              "<style scoped>\n",
              "    .dataframe tbody tr th:only-of-type {\n",
              "        vertical-align: middle;\n",
              "    }\n",
              "\n",
              "    .dataframe tbody tr th {\n",
              "        vertical-align: top;\n",
              "    }\n",
              "\n",
              "    .dataframe thead th {\n",
              "        text-align: right;\n",
              "    }\n",
              "</style>\n",
              "<table border=\"1\" class=\"dataframe\">\n",
              "  <thead>\n",
              "    <tr style=\"text-align: right;\">\n",
              "      <th></th>\n",
              "      <th>polarity</th>\n",
              "      <th>subjectivity</th>\n",
              "    </tr>\n",
              "  </thead>\n",
              "  <tbody>\n",
              "    <tr>\n",
              "      <th>count</th>\n",
              "      <td>10362.000000</td>\n",
              "      <td>10362.000000</td>\n",
              "    </tr>\n",
              "    <tr>\n",
              "      <th>mean</th>\n",
              "      <td>0.107526</td>\n",
              "      <td>0.365150</td>\n",
              "    </tr>\n",
              "    <tr>\n",
              "      <th>std</th>\n",
              "      <td>0.252341</td>\n",
              "      <td>0.328045</td>\n",
              "    </tr>\n",
              "    <tr>\n",
              "      <th>min</th>\n",
              "      <td>-1.000000</td>\n",
              "      <td>0.000000</td>\n",
              "    </tr>\n",
              "    <tr>\n",
              "      <th>25%</th>\n",
              "      <td>0.000000</td>\n",
              "      <td>0.000000</td>\n",
              "    </tr>\n",
              "    <tr>\n",
              "      <th>50%</th>\n",
              "      <td>0.000000</td>\n",
              "      <td>0.375000</td>\n",
              "    </tr>\n",
              "    <tr>\n",
              "      <th>75%</th>\n",
              "      <td>0.235958</td>\n",
              "      <td>0.600000</td>\n",
              "    </tr>\n",
              "    <tr>\n",
              "      <th>max</th>\n",
              "      <td>1.000000</td>\n",
              "      <td>1.000000</td>\n",
              "    </tr>\n",
              "  </tbody>\n",
              "</table>\n",
              "</div>\n",
              "      <button class=\"colab-df-convert\" onclick=\"convertToInteractive('df-9c4f92f8-aaad-406c-9121-e3b191101def')\"\n",
              "              title=\"Convert this dataframe to an interactive table.\"\n",
              "              style=\"display:none;\">\n",
              "        \n",
              "  <svg xmlns=\"http://www.w3.org/2000/svg\" height=\"24px\"viewBox=\"0 0 24 24\"\n",
              "       width=\"24px\">\n",
              "    <path d=\"M0 0h24v24H0V0z\" fill=\"none\"/>\n",
              "    <path d=\"M18.56 5.44l.94 2.06.94-2.06 2.06-.94-2.06-.94-.94-2.06-.94 2.06-2.06.94zm-11 1L8.5 8.5l.94-2.06 2.06-.94-2.06-.94L8.5 2.5l-.94 2.06-2.06.94zm10 10l.94 2.06.94-2.06 2.06-.94-2.06-.94-.94-2.06-.94 2.06-2.06.94z\"/><path d=\"M17.41 7.96l-1.37-1.37c-.4-.4-.92-.59-1.43-.59-.52 0-1.04.2-1.43.59L10.3 9.45l-7.72 7.72c-.78.78-.78 2.05 0 2.83L4 21.41c.39.39.9.59 1.41.59.51 0 1.02-.2 1.41-.59l7.78-7.78 2.81-2.81c.8-.78.8-2.07 0-2.86zM5.41 20L4 18.59l7.72-7.72 1.47 1.35L5.41 20z\"/>\n",
              "  </svg>\n",
              "      </button>\n",
              "      \n",
              "  <style>\n",
              "    .colab-df-container {\n",
              "      display:flex;\n",
              "      flex-wrap:wrap;\n",
              "      gap: 12px;\n",
              "    }\n",
              "\n",
              "    .colab-df-convert {\n",
              "      background-color: #E8F0FE;\n",
              "      border: none;\n",
              "      border-radius: 50%;\n",
              "      cursor: pointer;\n",
              "      display: none;\n",
              "      fill: #1967D2;\n",
              "      height: 32px;\n",
              "      padding: 0 0 0 0;\n",
              "      width: 32px;\n",
              "    }\n",
              "\n",
              "    .colab-df-convert:hover {\n",
              "      background-color: #E2EBFA;\n",
              "      box-shadow: 0px 1px 2px rgba(60, 64, 67, 0.3), 0px 1px 3px 1px rgba(60, 64, 67, 0.15);\n",
              "      fill: #174EA6;\n",
              "    }\n",
              "\n",
              "    [theme=dark] .colab-df-convert {\n",
              "      background-color: #3B4455;\n",
              "      fill: #D2E3FC;\n",
              "    }\n",
              "\n",
              "    [theme=dark] .colab-df-convert:hover {\n",
              "      background-color: #434B5C;\n",
              "      box-shadow: 0px 1px 3px 1px rgba(0, 0, 0, 0.15);\n",
              "      filter: drop-shadow(0px 1px 2px rgba(0, 0, 0, 0.3));\n",
              "      fill: #FFFFFF;\n",
              "    }\n",
              "  </style>\n",
              "\n",
              "      <script>\n",
              "        const buttonEl =\n",
              "          document.querySelector('#df-9c4f92f8-aaad-406c-9121-e3b191101def button.colab-df-convert');\n",
              "        buttonEl.style.display =\n",
              "          google.colab.kernel.accessAllowed ? 'block' : 'none';\n",
              "\n",
              "        async function convertToInteractive(key) {\n",
              "          const element = document.querySelector('#df-9c4f92f8-aaad-406c-9121-e3b191101def');\n",
              "          const dataTable =\n",
              "            await google.colab.kernel.invokeFunction('convertToInteractive',\n",
              "                                                     [key], {});\n",
              "          if (!dataTable) return;\n",
              "\n",
              "          const docLinkHtml = 'Like what you see? Visit the ' +\n",
              "            '<a target=\"_blank\" href=https://colab.research.google.com/notebooks/data_table.ipynb>data table notebook</a>'\n",
              "            + ' to learn more about interactive tables.';\n",
              "          element.innerHTML = '';\n",
              "          dataTable['output_type'] = 'display_data';\n",
              "          await google.colab.output.renderOutput(dataTable, element);\n",
              "          const docLink = document.createElement('div');\n",
              "          docLink.innerHTML = docLinkHtml;\n",
              "          element.appendChild(docLink);\n",
              "        }\n",
              "      </script>\n",
              "    </div>\n",
              "  </div>\n",
              "  "
            ]
          },
          "metadata": {},
          "execution_count": 94
        }
      ]
    },
    {
      "cell_type": "markdown",
      "source": [
        "# VISUALISASI"
      ],
      "metadata": {
        "id": "uKS8EHieAh7F"
      }
    },
    {
      "cell_type": "markdown",
      "source": [
        "Word Tree"
      ],
      "metadata": {
        "id": "PngKrr_eel8J"
      }
    },
    {
      "cell_type": "markdown",
      "source": [
        "![lima](https://drive.google.com/uc?export=view&id=1wbzrRrPG5c5-oO-XbKJkj3HQomKEFXpY)"
      ],
      "metadata": {
        "id": "BS7_FcxfepkG"
      }
    },
    {
      "cell_type": "markdown",
      "source": [
        "Dapat dilihat dari visualisasi word tree, kata-kata yang paling sering muncul adalah 'piala', 'dunia', dan '2022', diikuti oleh kata –kata lain seperti 'juara', 'argentina', 'messi', 'final', dan 'qatar'"
      ],
      "metadata": {
        "id": "yurNk9JuUheD"
      }
    },
    {
      "cell_type": "markdown",
      "source": [
        "**Banyaknya *tweet* per jam**"
      ],
      "metadata": {
        "id": "NYtdIx9Rt5wJ"
      }
    },
    {
      "cell_type": "code",
      "source": [
        "data['date']= pd.to_datetime(data['date'], errors='coerce')"
      ],
      "metadata": {
        "id": "mnyW47LdtxnZ"
      },
      "execution_count": null,
      "outputs": []
    },
    {
      "cell_type": "code",
      "source": [
        "data['hour'] = pd.DatetimeIndex(data['date']).hour\n",
        "data['dates'] = pd.DatetimeIndex(data['date']).date\n",
        "data['count'] = 1\n",
        "data_time = data[['hour', 'dates', 'count']]\n",
        "data_time.head(5)"
      ],
      "metadata": {
        "id": "yhV3935vt7Gg",
        "colab": {
          "base_uri": "https://localhost:8080/",
          "height": 206
        },
        "outputId": "0d6ed01a-3376-4104-a0c5-781592734081"
      },
      "execution_count": null,
      "outputs": [
        {
          "output_type": "execute_result",
          "data": {
            "text/plain": [
              "   hour       dates  count\n",
              "0   4.0  2022-12-26      1\n",
              "1   4.0  2022-12-26      1\n",
              "2   4.0  2022-12-26      1\n",
              "3   4.0  2022-12-26      1\n",
              "4   4.0  2022-12-26      1"
            ],
            "text/html": [
              "\n",
              "  <div id=\"df-f3ffad74-ab6f-4f06-be35-6b9b9bc5fab2\">\n",
              "    <div class=\"colab-df-container\">\n",
              "      <div>\n",
              "<style scoped>\n",
              "    .dataframe tbody tr th:only-of-type {\n",
              "        vertical-align: middle;\n",
              "    }\n",
              "\n",
              "    .dataframe tbody tr th {\n",
              "        vertical-align: top;\n",
              "    }\n",
              "\n",
              "    .dataframe thead th {\n",
              "        text-align: right;\n",
              "    }\n",
              "</style>\n",
              "<table border=\"1\" class=\"dataframe\">\n",
              "  <thead>\n",
              "    <tr style=\"text-align: right;\">\n",
              "      <th></th>\n",
              "      <th>hour</th>\n",
              "      <th>dates</th>\n",
              "      <th>count</th>\n",
              "    </tr>\n",
              "  </thead>\n",
              "  <tbody>\n",
              "    <tr>\n",
              "      <th>0</th>\n",
              "      <td>4.0</td>\n",
              "      <td>2022-12-26</td>\n",
              "      <td>1</td>\n",
              "    </tr>\n",
              "    <tr>\n",
              "      <th>1</th>\n",
              "      <td>4.0</td>\n",
              "      <td>2022-12-26</td>\n",
              "      <td>1</td>\n",
              "    </tr>\n",
              "    <tr>\n",
              "      <th>2</th>\n",
              "      <td>4.0</td>\n",
              "      <td>2022-12-26</td>\n",
              "      <td>1</td>\n",
              "    </tr>\n",
              "    <tr>\n",
              "      <th>3</th>\n",
              "      <td>4.0</td>\n",
              "      <td>2022-12-26</td>\n",
              "      <td>1</td>\n",
              "    </tr>\n",
              "    <tr>\n",
              "      <th>4</th>\n",
              "      <td>4.0</td>\n",
              "      <td>2022-12-26</td>\n",
              "      <td>1</td>\n",
              "    </tr>\n",
              "  </tbody>\n",
              "</table>\n",
              "</div>\n",
              "      <button class=\"colab-df-convert\" onclick=\"convertToInteractive('df-f3ffad74-ab6f-4f06-be35-6b9b9bc5fab2')\"\n",
              "              title=\"Convert this dataframe to an interactive table.\"\n",
              "              style=\"display:none;\">\n",
              "        \n",
              "  <svg xmlns=\"http://www.w3.org/2000/svg\" height=\"24px\"viewBox=\"0 0 24 24\"\n",
              "       width=\"24px\">\n",
              "    <path d=\"M0 0h24v24H0V0z\" fill=\"none\"/>\n",
              "    <path d=\"M18.56 5.44l.94 2.06.94-2.06 2.06-.94-2.06-.94-.94-2.06-.94 2.06-2.06.94zm-11 1L8.5 8.5l.94-2.06 2.06-.94-2.06-.94L8.5 2.5l-.94 2.06-2.06.94zm10 10l.94 2.06.94-2.06 2.06-.94-2.06-.94-.94-2.06-.94 2.06-2.06.94z\"/><path d=\"M17.41 7.96l-1.37-1.37c-.4-.4-.92-.59-1.43-.59-.52 0-1.04.2-1.43.59L10.3 9.45l-7.72 7.72c-.78.78-.78 2.05 0 2.83L4 21.41c.39.39.9.59 1.41.59.51 0 1.02-.2 1.41-.59l7.78-7.78 2.81-2.81c.8-.78.8-2.07 0-2.86zM5.41 20L4 18.59l7.72-7.72 1.47 1.35L5.41 20z\"/>\n",
              "  </svg>\n",
              "      </button>\n",
              "      \n",
              "  <style>\n",
              "    .colab-df-container {\n",
              "      display:flex;\n",
              "      flex-wrap:wrap;\n",
              "      gap: 12px;\n",
              "    }\n",
              "\n",
              "    .colab-df-convert {\n",
              "      background-color: #E8F0FE;\n",
              "      border: none;\n",
              "      border-radius: 50%;\n",
              "      cursor: pointer;\n",
              "      display: none;\n",
              "      fill: #1967D2;\n",
              "      height: 32px;\n",
              "      padding: 0 0 0 0;\n",
              "      width: 32px;\n",
              "    }\n",
              "\n",
              "    .colab-df-convert:hover {\n",
              "      background-color: #E2EBFA;\n",
              "      box-shadow: 0px 1px 2px rgba(60, 64, 67, 0.3), 0px 1px 3px 1px rgba(60, 64, 67, 0.15);\n",
              "      fill: #174EA6;\n",
              "    }\n",
              "\n",
              "    [theme=dark] .colab-df-convert {\n",
              "      background-color: #3B4455;\n",
              "      fill: #D2E3FC;\n",
              "    }\n",
              "\n",
              "    [theme=dark] .colab-df-convert:hover {\n",
              "      background-color: #434B5C;\n",
              "      box-shadow: 0px 1px 3px 1px rgba(0, 0, 0, 0.15);\n",
              "      filter: drop-shadow(0px 1px 2px rgba(0, 0, 0, 0.3));\n",
              "      fill: #FFFFFF;\n",
              "    }\n",
              "  </style>\n",
              "\n",
              "      <script>\n",
              "        const buttonEl =\n",
              "          document.querySelector('#df-f3ffad74-ab6f-4f06-be35-6b9b9bc5fab2 button.colab-df-convert');\n",
              "        buttonEl.style.display =\n",
              "          google.colab.kernel.accessAllowed ? 'block' : 'none';\n",
              "\n",
              "        async function convertToInteractive(key) {\n",
              "          const element = document.querySelector('#df-f3ffad74-ab6f-4f06-be35-6b9b9bc5fab2');\n",
              "          const dataTable =\n",
              "            await google.colab.kernel.invokeFunction('convertToInteractive',\n",
              "                                                     [key], {});\n",
              "          if (!dataTable) return;\n",
              "\n",
              "          const docLinkHtml = 'Like what you see? Visit the ' +\n",
              "            '<a target=\"_blank\" href=https://colab.research.google.com/notebooks/data_table.ipynb>data table notebook</a>'\n",
              "            + ' to learn more about interactive tables.';\n",
              "          element.innerHTML = '';\n",
              "          dataTable['output_type'] = 'display_data';\n",
              "          await google.colab.output.renderOutput(dataTable, element);\n",
              "          const docLink = document.createElement('div');\n",
              "          docLink.innerHTML = docLinkHtml;\n",
              "          element.appendChild(docLink);\n",
              "        }\n",
              "      </script>\n",
              "    </div>\n",
              "  </div>\n",
              "  "
            ]
          },
          "metadata": {},
          "execution_count": 96
        }
      ]
    },
    {
      "cell_type": "code",
      "source": [
        "data_jam = data.groupby([\"hour\"]).sum().reset_index()\n",
        "data_jam.head(5)"
      ],
      "metadata": {
        "id": "b7AV0LQSt_ZQ",
        "colab": {
          "base_uri": "https://localhost:8080/",
          "height": 206
        },
        "outputId": "fc3e48ac-31c5-469f-f113-73b4c969ade7"
      },
      "execution_count": null,
      "outputs": [
        {
          "output_type": "execute_result",
          "data": {
            "text/plain": [
              "   hour  timezone     day  video   nlikes  nreplies  nretweets  geo  source  \\\n",
              "0   0.0         0  1748.0   98.0  10095.0     795.0     1386.0  0.0     0.0   \n",
              "1   1.0         0  2161.0   90.0   6465.0    1012.0      663.0  0.0     0.0   \n",
              "2   2.0         0  2381.0  131.0  20296.0    1627.0     1589.0  0.0     0.0   \n",
              "3   3.0         0  2500.0  139.0   2943.0     422.0      557.0  0.0     0.0   \n",
              "4   4.0         0  2498.0  138.0   6100.0     961.0     1013.0  0.0     0.0   \n",
              "\n",
              "   user_rt_id  user_rt  retweet_id  retweet_date  translate  trans_src  \\\n",
              "0         0.0      0.0         0.0           0.0        0.0        0.0   \n",
              "1         0.0      0.0         0.0           0.0        0.0        0.0   \n",
              "2         0.0      0.0         0.0           0.0        0.0        0.0   \n",
              "3         0.0      0.0         0.0           0.0        0.0        0.0   \n",
              "4         0.0      0.0         0.0           0.0        0.0        0.0   \n",
              "\n",
              "   trans_dest  count  \n",
              "0         0.0    515  \n",
              "1         0.0    611  \n",
              "2         0.0    696  \n",
              "3         0.0    746  \n",
              "4         0.0    720  "
            ],
            "text/html": [
              "\n",
              "  <div id=\"df-2b43d2cc-8389-4a65-a408-a472ae98a828\">\n",
              "    <div class=\"colab-df-container\">\n",
              "      <div>\n",
              "<style scoped>\n",
              "    .dataframe tbody tr th:only-of-type {\n",
              "        vertical-align: middle;\n",
              "    }\n",
              "\n",
              "    .dataframe tbody tr th {\n",
              "        vertical-align: top;\n",
              "    }\n",
              "\n",
              "    .dataframe thead th {\n",
              "        text-align: right;\n",
              "    }\n",
              "</style>\n",
              "<table border=\"1\" class=\"dataframe\">\n",
              "  <thead>\n",
              "    <tr style=\"text-align: right;\">\n",
              "      <th></th>\n",
              "      <th>hour</th>\n",
              "      <th>timezone</th>\n",
              "      <th>day</th>\n",
              "      <th>video</th>\n",
              "      <th>nlikes</th>\n",
              "      <th>nreplies</th>\n",
              "      <th>nretweets</th>\n",
              "      <th>geo</th>\n",
              "      <th>source</th>\n",
              "      <th>user_rt_id</th>\n",
              "      <th>user_rt</th>\n",
              "      <th>retweet_id</th>\n",
              "      <th>retweet_date</th>\n",
              "      <th>translate</th>\n",
              "      <th>trans_src</th>\n",
              "      <th>trans_dest</th>\n",
              "      <th>count</th>\n",
              "    </tr>\n",
              "  </thead>\n",
              "  <tbody>\n",
              "    <tr>\n",
              "      <th>0</th>\n",
              "      <td>0.0</td>\n",
              "      <td>0</td>\n",
              "      <td>1748.0</td>\n",
              "      <td>98.0</td>\n",
              "      <td>10095.0</td>\n",
              "      <td>795.0</td>\n",
              "      <td>1386.0</td>\n",
              "      <td>0.0</td>\n",
              "      <td>0.0</td>\n",
              "      <td>0.0</td>\n",
              "      <td>0.0</td>\n",
              "      <td>0.0</td>\n",
              "      <td>0.0</td>\n",
              "      <td>0.0</td>\n",
              "      <td>0.0</td>\n",
              "      <td>0.0</td>\n",
              "      <td>515</td>\n",
              "    </tr>\n",
              "    <tr>\n",
              "      <th>1</th>\n",
              "      <td>1.0</td>\n",
              "      <td>0</td>\n",
              "      <td>2161.0</td>\n",
              "      <td>90.0</td>\n",
              "      <td>6465.0</td>\n",
              "      <td>1012.0</td>\n",
              "      <td>663.0</td>\n",
              "      <td>0.0</td>\n",
              "      <td>0.0</td>\n",
              "      <td>0.0</td>\n",
              "      <td>0.0</td>\n",
              "      <td>0.0</td>\n",
              "      <td>0.0</td>\n",
              "      <td>0.0</td>\n",
              "      <td>0.0</td>\n",
              "      <td>0.0</td>\n",
              "      <td>611</td>\n",
              "    </tr>\n",
              "    <tr>\n",
              "      <th>2</th>\n",
              "      <td>2.0</td>\n",
              "      <td>0</td>\n",
              "      <td>2381.0</td>\n",
              "      <td>131.0</td>\n",
              "      <td>20296.0</td>\n",
              "      <td>1627.0</td>\n",
              "      <td>1589.0</td>\n",
              "      <td>0.0</td>\n",
              "      <td>0.0</td>\n",
              "      <td>0.0</td>\n",
              "      <td>0.0</td>\n",
              "      <td>0.0</td>\n",
              "      <td>0.0</td>\n",
              "      <td>0.0</td>\n",
              "      <td>0.0</td>\n",
              "      <td>0.0</td>\n",
              "      <td>696</td>\n",
              "    </tr>\n",
              "    <tr>\n",
              "      <th>3</th>\n",
              "      <td>3.0</td>\n",
              "      <td>0</td>\n",
              "      <td>2500.0</td>\n",
              "      <td>139.0</td>\n",
              "      <td>2943.0</td>\n",
              "      <td>422.0</td>\n",
              "      <td>557.0</td>\n",
              "      <td>0.0</td>\n",
              "      <td>0.0</td>\n",
              "      <td>0.0</td>\n",
              "      <td>0.0</td>\n",
              "      <td>0.0</td>\n",
              "      <td>0.0</td>\n",
              "      <td>0.0</td>\n",
              "      <td>0.0</td>\n",
              "      <td>0.0</td>\n",
              "      <td>746</td>\n",
              "    </tr>\n",
              "    <tr>\n",
              "      <th>4</th>\n",
              "      <td>4.0</td>\n",
              "      <td>0</td>\n",
              "      <td>2498.0</td>\n",
              "      <td>138.0</td>\n",
              "      <td>6100.0</td>\n",
              "      <td>961.0</td>\n",
              "      <td>1013.0</td>\n",
              "      <td>0.0</td>\n",
              "      <td>0.0</td>\n",
              "      <td>0.0</td>\n",
              "      <td>0.0</td>\n",
              "      <td>0.0</td>\n",
              "      <td>0.0</td>\n",
              "      <td>0.0</td>\n",
              "      <td>0.0</td>\n",
              "      <td>0.0</td>\n",
              "      <td>720</td>\n",
              "    </tr>\n",
              "  </tbody>\n",
              "</table>\n",
              "</div>\n",
              "      <button class=\"colab-df-convert\" onclick=\"convertToInteractive('df-2b43d2cc-8389-4a65-a408-a472ae98a828')\"\n",
              "              title=\"Convert this dataframe to an interactive table.\"\n",
              "              style=\"display:none;\">\n",
              "        \n",
              "  <svg xmlns=\"http://www.w3.org/2000/svg\" height=\"24px\"viewBox=\"0 0 24 24\"\n",
              "       width=\"24px\">\n",
              "    <path d=\"M0 0h24v24H0V0z\" fill=\"none\"/>\n",
              "    <path d=\"M18.56 5.44l.94 2.06.94-2.06 2.06-.94-2.06-.94-.94-2.06-.94 2.06-2.06.94zm-11 1L8.5 8.5l.94-2.06 2.06-.94-2.06-.94L8.5 2.5l-.94 2.06-2.06.94zm10 10l.94 2.06.94-2.06 2.06-.94-2.06-.94-.94-2.06-.94 2.06-2.06.94z\"/><path d=\"M17.41 7.96l-1.37-1.37c-.4-.4-.92-.59-1.43-.59-.52 0-1.04.2-1.43.59L10.3 9.45l-7.72 7.72c-.78.78-.78 2.05 0 2.83L4 21.41c.39.39.9.59 1.41.59.51 0 1.02-.2 1.41-.59l7.78-7.78 2.81-2.81c.8-.78.8-2.07 0-2.86zM5.41 20L4 18.59l7.72-7.72 1.47 1.35L5.41 20z\"/>\n",
              "  </svg>\n",
              "      </button>\n",
              "      \n",
              "  <style>\n",
              "    .colab-df-container {\n",
              "      display:flex;\n",
              "      flex-wrap:wrap;\n",
              "      gap: 12px;\n",
              "    }\n",
              "\n",
              "    .colab-df-convert {\n",
              "      background-color: #E8F0FE;\n",
              "      border: none;\n",
              "      border-radius: 50%;\n",
              "      cursor: pointer;\n",
              "      display: none;\n",
              "      fill: #1967D2;\n",
              "      height: 32px;\n",
              "      padding: 0 0 0 0;\n",
              "      width: 32px;\n",
              "    }\n",
              "\n",
              "    .colab-df-convert:hover {\n",
              "      background-color: #E2EBFA;\n",
              "      box-shadow: 0px 1px 2px rgba(60, 64, 67, 0.3), 0px 1px 3px 1px rgba(60, 64, 67, 0.15);\n",
              "      fill: #174EA6;\n",
              "    }\n",
              "\n",
              "    [theme=dark] .colab-df-convert {\n",
              "      background-color: #3B4455;\n",
              "      fill: #D2E3FC;\n",
              "    }\n",
              "\n",
              "    [theme=dark] .colab-df-convert:hover {\n",
              "      background-color: #434B5C;\n",
              "      box-shadow: 0px 1px 3px 1px rgba(0, 0, 0, 0.15);\n",
              "      filter: drop-shadow(0px 1px 2px rgba(0, 0, 0, 0.3));\n",
              "      fill: #FFFFFF;\n",
              "    }\n",
              "  </style>\n",
              "\n",
              "      <script>\n",
              "        const buttonEl =\n",
              "          document.querySelector('#df-2b43d2cc-8389-4a65-a408-a472ae98a828 button.colab-df-convert');\n",
              "        buttonEl.style.display =\n",
              "          google.colab.kernel.accessAllowed ? 'block' : 'none';\n",
              "\n",
              "        async function convertToInteractive(key) {\n",
              "          const element = document.querySelector('#df-2b43d2cc-8389-4a65-a408-a472ae98a828');\n",
              "          const dataTable =\n",
              "            await google.colab.kernel.invokeFunction('convertToInteractive',\n",
              "                                                     [key], {});\n",
              "          if (!dataTable) return;\n",
              "\n",
              "          const docLinkHtml = 'Like what you see? Visit the ' +\n",
              "            '<a target=\"_blank\" href=https://colab.research.google.com/notebooks/data_table.ipynb>data table notebook</a>'\n",
              "            + ' to learn more about interactive tables.';\n",
              "          element.innerHTML = '';\n",
              "          dataTable['output_type'] = 'display_data';\n",
              "          await google.colab.output.renderOutput(dataTable, element);\n",
              "          const docLink = document.createElement('div');\n",
              "          docLink.innerHTML = docLinkHtml;\n",
              "          element.appendChild(docLink);\n",
              "        }\n",
              "      </script>\n",
              "    </div>\n",
              "  </div>\n",
              "  "
            ]
          },
          "metadata": {},
          "execution_count": 97
        }
      ]
    },
    {
      "cell_type": "code",
      "source": [
        "plt.figure(num=None, figsize=(8, 6), dpi=80, facecolor='w', edgecolor='k')\n",
        "data_jam[\"count\"].plot.bar(color='#19a4b7')\n",
        "data_jam[\"count\"].plot()\n",
        "plt.xlabel('Hour (WIB)')\n",
        "plt.ylabel('Tweets')\n",
        "plt.title('Tweets per Hour')\n",
        "plt.show()"
      ],
      "metadata": {
        "id": "27kZLUwpuBxf",
        "colab": {
          "base_uri": "https://localhost:8080/",
          "height": 444
        },
        "outputId": "cf3436ae-589a-4ba9-a026-1d0ef98b8e19"
      },
      "execution_count": null,
      "outputs": [
        {
          "output_type": "display_data",
          "data": {
            "text/plain": [
              "<Figure size 640x480 with 1 Axes>"
            ],
            "image/png": "[encoded data removed]"
          },
          "metadata": {}
        }
      ]
    },
    {
      "cell_type": "markdown",
      "source": [
        "​Dapat dilihat dari visualisasi jumlah tweet per jam dalam satu hari, tweet yang membahas Piala Dunia 2022 paling sering dicuitkan pada pukul 3 pagi, diikuti pada pukul 9 dan 11 pagi dan mengalami penurunan signifikan dan gradual pada pukul 1 siang dengan cuitan paling sedikit pada pukul 8 malam. Setelah pukul 8 malam, cuitan mengenai Piala Dunia 2022 memiliki kenaikan dalam jumlah lagi.​"
      ],
      "metadata": {
        "id": "8AsFCRD3VHr6"
      }
    },
    {
      "cell_type": "markdown",
      "source": [
        "**Banyaknya *tweet* per hari**"
      ],
      "metadata": {
        "id": "stkrc8ehQ197"
      }
    },
    {
      "cell_type": "code",
      "source": [
        "data_hari = data.groupby([\"dates\"]).sum().reset_index()\n",
        "data_hari.head()"
      ],
      "metadata": {
        "id": "lQKr6lt8ulAO",
        "colab": {
          "base_uri": "https://localhost:8080/",
          "height": 206
        },
        "outputId": "8d1e1f43-378a-4d91-dfb1-c9a2a9406a5e"
      },
      "execution_count": null,
      "outputs": [
        {
          "output_type": "execute_result",
          "data": {
            "text/plain": [
              "        dates  timezone     day     hour  video   nlikes  nreplies  nretweets  \\\n",
              "0  2022-12-19         0   129.0   2967.0   20.0    603.0      75.0      147.0   \n",
              "1  2022-12-20         0  7858.0  32741.0  811.0  51203.0    3682.0     7461.0   \n",
              "2  2022-12-21         0  7113.0  21732.0  488.0  48349.0    5075.0     5245.0   \n",
              "3  2022-12-22         0  6744.0  15744.0  275.0  25488.0    1955.0     3342.0   \n",
              "4  2022-12-23         0  7940.0  14875.0  260.0  20767.0    2611.0     3116.0   \n",
              "\n",
              "   geo  source  user_rt_id  user_rt  retweet_id  retweet_date  translate  \\\n",
              "0  0.0     0.0         0.0      0.0         0.0           0.0        0.0   \n",
              "1  0.0     0.0         0.0      0.0         0.0           0.0        0.0   \n",
              "2  0.0     0.0         0.0      0.0         0.0           0.0        0.0   \n",
              "3  0.0     0.0         0.0      0.0         0.0           0.0        0.0   \n",
              "4  0.0     0.0         0.0      0.0         0.0           0.0        0.0   \n",
              "\n",
              "   trans_src  trans_dest  count  \n",
              "0        0.0         0.0    129  \n",
              "1        0.0         0.0   3929  \n",
              "2        0.0         0.0   2372  \n",
              "3        0.0         0.0   1686  \n",
              "4        0.0         0.0   1588  "
            ],
            "text/html": [
              "\n",
              "  <div id=\"df-5ad52b1f-06c7-4ce9-bdbe-8e79666b998a\">\n",
              "    <div class=\"colab-df-container\">\n",
              "      <div>\n",
              "<style scoped>\n",
              "    .dataframe tbody tr th:only-of-type {\n",
              "        vertical-align: middle;\n",
              "    }\n",
              "\n",
              "    .dataframe tbody tr th {\n",
              "        vertical-align: top;\n",
              "    }\n",
              "\n",
              "    .dataframe thead th {\n",
              "        text-align: right;\n",
              "    }\n",
              "</style>\n",
              "<table border=\"1\" class=\"dataframe\">\n",
              "  <thead>\n",
              "    <tr style=\"text-align: right;\">\n",
              "      <th></th>\n",
              "      <th>dates</th>\n",
              "      <th>timezone</th>\n",
              "      <th>day</th>\n",
              "      <th>hour</th>\n",
              "      <th>video</th>\n",
              "      <th>nlikes</th>\n",
              "      <th>nreplies</th>\n",
              "      <th>nretweets</th>\n",
              "      <th>geo</th>\n",
              "      <th>source</th>\n",
              "      <th>user_rt_id</th>\n",
              "      <th>user_rt</th>\n",
              "      <th>retweet_id</th>\n",
              "      <th>retweet_date</th>\n",
              "      <th>translate</th>\n",
              "      <th>trans_src</th>\n",
              "      <th>trans_dest</th>\n",
              "      <th>count</th>\n",
              "    </tr>\n",
              "  </thead>\n",
              "  <tbody>\n",
              "    <tr>\n",
              "      <th>0</th>\n",
              "      <td>2022-12-19</td>\n",
              "      <td>0</td>\n",
              "      <td>129.0</td>\n",
              "      <td>2967.0</td>\n",
              "      <td>20.0</td>\n",
              "      <td>603.0</td>\n",
              "      <td>75.0</td>\n",
              "      <td>147.0</td>\n",
              "      <td>0.0</td>\n",
              "      <td>0.0</td>\n",
              "      <td>0.0</td>\n",
              "      <td>0.0</td>\n",
              "      <td>0.0</td>\n",
              "      <td>0.0</td>\n",
              "      <td>0.0</td>\n",
              "      <td>0.0</td>\n",
              "      <td>0.0</td>\n",
              "      <td>129</td>\n",
              "    </tr>\n",
              "    <tr>\n",
              "      <th>1</th>\n",
              "      <td>2022-12-20</td>\n",
              "      <td>0</td>\n",
              "      <td>7858.0</td>\n",
              "      <td>32741.0</td>\n",
              "      <td>811.0</td>\n",
              "      <td>51203.0</td>\n",
              "      <td>3682.0</td>\n",
              "      <td>7461.0</td>\n",
              "      <td>0.0</td>\n",
              "      <td>0.0</td>\n",
              "      <td>0.0</td>\n",
              "      <td>0.0</td>\n",
              "      <td>0.0</td>\n",
              "      <td>0.0</td>\n",
              "      <td>0.0</td>\n",
              "      <td>0.0</td>\n",
              "      <td>0.0</td>\n",
              "      <td>3929</td>\n",
              "    </tr>\n",
              "    <tr>\n",
              "      <th>2</th>\n",
              "      <td>2022-12-21</td>\n",
              "      <td>0</td>\n",
              "      <td>7113.0</td>\n",
              "      <td>21732.0</td>\n",
              "      <td>488.0</td>\n",
              "      <td>48349.0</td>\n",
              "      <td>5075.0</td>\n",
              "      <td>5245.0</td>\n",
              "      <td>0.0</td>\n",
              "      <td>0.0</td>\n",
              "      <td>0.0</td>\n",
              "      <td>0.0</td>\n",
              "      <td>0.0</td>\n",
              "      <td>0.0</td>\n",
              "      <td>0.0</td>\n",
              "      <td>0.0</td>\n",
              "      <td>0.0</td>\n",
              "      <td>2372</td>\n",
              "    </tr>\n",
              "    <tr>\n",
              "      <th>3</th>\n",
              "      <td>2022-12-22</td>\n",
              "      <td>0</td>\n",
              "      <td>6744.0</td>\n",
              "      <td>15744.0</td>\n",
              "      <td>275.0</td>\n",
              "      <td>25488.0</td>\n",
              "      <td>1955.0</td>\n",
              "      <td>3342.0</td>\n",
              "      <td>0.0</td>\n",
              "      <td>0.0</td>\n",
              "      <td>0.0</td>\n",
              "      <td>0.0</td>\n",
              "      <td>0.0</td>\n",
              "      <td>0.0</td>\n",
              "      <td>0.0</td>\n",
              "      <td>0.0</td>\n",
              "      <td>0.0</td>\n",
              "      <td>1686</td>\n",
              "    </tr>\n",
              "    <tr>\n",
              "      <th>4</th>\n",
              "      <td>2022-12-23</td>\n",
              "      <td>0</td>\n",
              "      <td>7940.0</td>\n",
              "      <td>14875.0</td>\n",
              "      <td>260.0</td>\n",
              "      <td>20767.0</td>\n",
              "      <td>2611.0</td>\n",
              "      <td>3116.0</td>\n",
              "      <td>0.0</td>\n",
              "      <td>0.0</td>\n",
              "      <td>0.0</td>\n",
              "      <td>0.0</td>\n",
              "      <td>0.0</td>\n",
              "      <td>0.0</td>\n",
              "      <td>0.0</td>\n",
              "      <td>0.0</td>\n",
              "      <td>0.0</td>\n",
              "      <td>1588</td>\n",
              "    </tr>\n",
              "  </tbody>\n",
              "</table>\n",
              "</div>\n",
              "      <button class=\"colab-df-convert\" onclick=\"convertToInteractive('df-5ad52b1f-06c7-4ce9-bdbe-8e79666b998a')\"\n",
              "              title=\"Convert this dataframe to an interactive table.\"\n",
              "              style=\"display:none;\">\n",
              "        \n",
              "  <svg xmlns=\"http://www.w3.org/2000/svg\" height=\"24px\"viewBox=\"0 0 24 24\"\n",
              "       width=\"24px\">\n",
              "    <path d=\"M0 0h24v24H0V0z\" fill=\"none\"/>\n",
              "    <path d=\"M18.56 5.44l.94 2.06.94-2.06 2.06-.94-2.06-.94-.94-2.06-.94 2.06-2.06.94zm-11 1L8.5 8.5l.94-2.06 2.06-.94-2.06-.94L8.5 2.5l-.94 2.06-2.06.94zm10 10l.94 2.06.94-2.06 2.06-.94-2.06-.94-.94-2.06-.94 2.06-2.06.94z\"/><path d=\"M17.41 7.96l-1.37-1.37c-.4-.4-.92-.59-1.43-.59-.52 0-1.04.2-1.43.59L10.3 9.45l-7.72 7.72c-.78.78-.78 2.05 0 2.83L4 21.41c.39.39.9.59 1.41.59.51 0 1.02-.2 1.41-.59l7.78-7.78 2.81-2.81c.8-.78.8-2.07 0-2.86zM5.41 20L4 18.59l7.72-7.72 1.47 1.35L5.41 20z\"/>\n",
              "  </svg>\n",
              "      </button>\n",
              "      \n",
              "  <style>\n",
              "    .colab-df-container {\n",
              "      display:flex;\n",
              "      flex-wrap:wrap;\n",
              "      gap: 12px;\n",
              "    }\n",
              "\n",
              "    .colab-df-convert {\n",
              "      background-color: #E8F0FE;\n",
              "      border: none;\n",
              "      border-radius: 50%;\n",
              "      cursor: pointer;\n",
              "      display: none;\n",
              "      fill: #1967D2;\n",
              "      height: 32px;\n",
              "      padding: 0 0 0 0;\n",
              "      width: 32px;\n",
              "    }\n",
              "\n",
              "    .colab-df-convert:hover {\n",
              "      background-color: #E2EBFA;\n",
              "      box-shadow: 0px 1px 2px rgba(60, 64, 67, 0.3), 0px 1px 3px 1px rgba(60, 64, 67, 0.15);\n",
              "      fill: #174EA6;\n",
              "    }\n",
              "\n",
              "    [theme=dark] .colab-df-convert {\n",
              "      background-color: #3B4455;\n",
              "      fill: #D2E3FC;\n",
              "    }\n",
              "\n",
              "    [theme=dark] .colab-df-convert:hover {\n",
              "      background-color: #434B5C;\n",
              "      box-shadow: 0px 1px 3px 1px rgba(0, 0, 0, 0.15);\n",
              "      filter: drop-shadow(0px 1px 2px rgba(0, 0, 0, 0.3));\n",
              "      fill: #FFFFFF;\n",
              "    }\n",
              "  </style>\n",
              "\n",
              "      <script>\n",
              "        const buttonEl =\n",
              "          document.querySelector('#df-5ad52b1f-06c7-4ce9-bdbe-8e79666b998a button.colab-df-convert');\n",
              "        buttonEl.style.display =\n",
              "          google.colab.kernel.accessAllowed ? 'block' : 'none';\n",
              "\n",
              "        async function convertToInteractive(key) {\n",
              "          const element = document.querySelector('#df-5ad52b1f-06c7-4ce9-bdbe-8e79666b998a');\n",
              "          const dataTable =\n",
              "            await google.colab.kernel.invokeFunction('convertToInteractive',\n",
              "                                                     [key], {});\n",
              "          if (!dataTable) return;\n",
              "\n",
              "          const docLinkHtml = 'Like what you see? Visit the ' +\n",
              "            '<a target=\"_blank\" href=https://colab.research.google.com/notebooks/data_table.ipynb>data table notebook</a>'\n",
              "            + ' to learn more about interactive tables.';\n",
              "          element.innerHTML = '';\n",
              "          dataTable['output_type'] = 'display_data';\n",
              "          await google.colab.output.renderOutput(dataTable, element);\n",
              "          const docLink = document.createElement('div');\n",
              "          docLink.innerHTML = docLinkHtml;\n",
              "          element.appendChild(docLink);\n",
              "        }\n",
              "      </script>\n",
              "    </div>\n",
              "  </div>\n",
              "  "
            ]
          },
          "metadata": {},
          "execution_count": 99
        }
      ]
    },
    {
      "cell_type": "code",
      "source": [
        "data_hari['dates'] = pd.to_datetime(data_hari['dates'], errors='coerce')"
      ],
      "metadata": {
        "id": "uwj8zo7KuqxZ"
      },
      "execution_count": null,
      "outputs": []
    },
    {
      "cell_type": "code",
      "source": [
        "plt.figure(num=None, figsize=(12, 10), dpi=80, facecolor='w', edgecolor='k')\n",
        "plt.xlabel('Date')\n",
        "plt.ylabel('Tweets')\n",
        "plt.title('Tweets per Day')\n",
        "plt.plot_date(data_hari['dates'], data_hari['count'], linestyle='solid')"
      ],
      "metadata": {
        "id": "lEZrDLHU82XD",
        "colab": {
          "base_uri": "https://localhost:8080/",
          "height": 702
        },
        "outputId": "93b77ce2-1c27-4512-ade2-f815a1a1f38f"
      },
      "execution_count": null,
      "outputs": [
        {
          "output_type": "execute_result",
          "data": {
            "text/plain": [
              "[<matplotlib.lines.Line2D at 0x7fc01f233c10>]"
            ]
          },
          "metadata": {},
          "execution_count": 101
        },
        {
          "output_type": "display_data",
          "data": {
            "text/plain": [
              "<Figure size 960x800 with 1 Axes>"
            ],
            "image/png": "[encoded data removed]"
          },
          "metadata": {}
        }
      ]
    },
    {
      "cell_type": "markdown",
      "source": [
        "Dapat dilihat dari plot bahwa dalam rentang tanggal 19-26 Desember 2022, terdapat sekitar 1000 tweet per hari tentang Piala Dunia 2022. Pada tanggal 20 Desember 2022, terdapat >7000 tweet tentang Piala Dunia. Dan popularitas tweet mengenai Piala Dunia kemudian berkurang seiring waktu setelah tanggal 20 Desember 2022."
      ],
      "metadata": {
        "id": "HPsJkb_XVhAM"
      }
    },
    {
      "cell_type": "markdown",
      "source": [],
      "metadata": {
        "id": "dOHCcfCdQ60n"
      }
    },
    {
      "cell_type": "markdown",
      "source": [
        "# Social Network Analytics (SNA)"
      ],
      "metadata": {
        "id": "d9LIzhC8oEEX"
      }
    },
    {
      "cell_type": "code",
      "source": [
        "del twint, config, nest_asyncio\n",
        "print(data.shape)\n",
        "databaru = data.rename({'username': 'user'}, axis=1) \n",
        "databaru = data[['username', 'tweet']]\n",
        "databaru.head()"
      ],
      "metadata": {
        "colab": {
          "base_uri": "https://localhost:8080/",
          "height": 224
        },
        "id": "Lf3U6iuGLiDk",
        "outputId": "99afdfdb-6d1d-4c37-ea4f-ae2587d8a6dd"
      },
      "execution_count": null,
      "outputs": [
        {
          "output_type": "stream",
          "name": "stdout",
          "text": [
            "(12017, 40)\n"
          ]
        },
        {
          "output_type": "execute_result",
          "data": {
            "text/plain": [
              "       username                                              tweet\n",
              "0    detiksport  Liga Inggris paling cepat bergulir lagi usai j...\n",
              "1  sport7trans7  Pemain Tottenham Hotspur yang berlaga di Piala...\n",
              "2  sport7trans7  🗣️\"Mustahil memberikan mereka istirahat yang b...\n",
              "3  sport7trans7  Antonio Conte vokal, lantaran Premier League m...\n",
              "4      KuretaID  Kylian Mbappe dan Lionel Messi Kandidat Kuat P..."
            ],
            "text/html": [
              "\n",
              "  <div id=\"df-5699bd6d-ad6d-4ab4-9566-4d2b92b86498\">\n",
              "    <div class=\"colab-df-container\">\n",
              "      <div>\n",
              "<style scoped>\n",
              "    .dataframe tbody tr th:only-of-type {\n",
              "        vertical-align: middle;\n",
              "    }\n",
              "\n",
              "    .dataframe tbody tr th {\n",
              "        vertical-align: top;\n",
              "    }\n",
              "\n",
              "    .dataframe thead th {\n",
              "        text-align: right;\n",
              "    }\n",
              "</style>\n",
              "<table border=\"1\" class=\"dataframe\">\n",
              "  <thead>\n",
              "    <tr style=\"text-align: right;\">\n",
              "      <th></th>\n",
              "      <th>username</th>\n",
              "      <th>tweet</th>\n",
              "    </tr>\n",
              "  </thead>\n",
              "  <tbody>\n",
              "    <tr>\n",
              "      <th>0</th>\n",
              "      <td>detiksport</td>\n",
              "      <td>Liga Inggris paling cepat bergulir lagi usai j...</td>\n",
              "    </tr>\n",
              "    <tr>\n",
              "      <th>1</th>\n",
              "      <td>sport7trans7</td>\n",
              "      <td>Pemain Tottenham Hotspur yang berlaga di Piala...</td>\n",
              "    </tr>\n",
              "    <tr>\n",
              "      <th>2</th>\n",
              "      <td>sport7trans7</td>\n",
              "      <td>🗣️\"Mustahil memberikan mereka istirahat yang b...</td>\n",
              "    </tr>\n",
              "    <tr>\n",
              "      <th>3</th>\n",
              "      <td>sport7trans7</td>\n",
              "      <td>Antonio Conte vokal, lantaran Premier League m...</td>\n",
              "    </tr>\n",
              "    <tr>\n",
              "      <th>4</th>\n",
              "      <td>KuretaID</td>\n",
              "      <td>Kylian Mbappe dan Lionel Messi Kandidat Kuat P...</td>\n",
              "    </tr>\n",
              "  </tbody>\n",
              "</table>\n",
              "</div>\n",
              "      <button class=\"colab-df-convert\" onclick=\"convertToInteractive('df-5699bd6d-ad6d-4ab4-9566-4d2b92b86498')\"\n",
              "              title=\"Convert this dataframe to an interactive table.\"\n",
              "              style=\"display:none;\">\n",
              "        \n",
              "  <svg xmlns=\"http://www.w3.org/2000/svg\" height=\"24px\"viewBox=\"0 0 24 24\"\n",
              "       width=\"24px\">\n",
              "    <path d=\"M0 0h24v24H0V0z\" fill=\"none\"/>\n",
              "    <path d=\"M18.56 5.44l.94 2.06.94-2.06 2.06-.94-2.06-.94-.94-2.06-.94 2.06-2.06.94zm-11 1L8.5 8.5l.94-2.06 2.06-.94-2.06-.94L8.5 2.5l-.94 2.06-2.06.94zm10 10l.94 2.06.94-2.06 2.06-.94-2.06-.94-.94-2.06-.94 2.06-2.06.94z\"/><path d=\"M17.41 7.96l-1.37-1.37c-.4-.4-.92-.59-1.43-.59-.52 0-1.04.2-1.43.59L10.3 9.45l-7.72 7.72c-.78.78-.78 2.05 0 2.83L4 21.41c.39.39.9.59 1.41.59.51 0 1.02-.2 1.41-.59l7.78-7.78 2.81-2.81c.8-.78.8-2.07 0-2.86zM5.41 20L4 18.59l7.72-7.72 1.47 1.35L5.41 20z\"/>\n",
              "  </svg>\n",
              "      </button>\n",
              "      \n",
              "  <style>\n",
              "    .colab-df-container {\n",
              "      display:flex;\n",
              "      flex-wrap:wrap;\n",
              "      gap: 12px;\n",
              "    }\n",
              "\n",
              "    .colab-df-convert {\n",
              "      background-color: #E8F0FE;\n",
              "      border: none;\n",
              "      border-radius: 50%;\n",
              "      cursor: pointer;\n",
              "      display: none;\n",
              "      fill: #1967D2;\n",
              "      height: 32px;\n",
              "      padding: 0 0 0 0;\n",
              "      width: 32px;\n",
              "    }\n",
              "\n",
              "    .colab-df-convert:hover {\n",
              "      background-color: #E2EBFA;\n",
              "      box-shadow: 0px 1px 2px rgba(60, 64, 67, 0.3), 0px 1px 3px 1px rgba(60, 64, 67, 0.15);\n",
              "      fill: #174EA6;\n",
              "    }\n",
              "\n",
              "    [theme=dark] .colab-df-convert {\n",
              "      background-color: #3B4455;\n",
              "      fill: #D2E3FC;\n",
              "    }\n",
              "\n",
              "    [theme=dark] .colab-df-convert:hover {\n",
              "      background-color: #434B5C;\n",
              "      box-shadow: 0px 1px 3px 1px rgba(0, 0, 0, 0.15);\n",
              "      filter: drop-shadow(0px 1px 2px rgba(0, 0, 0, 0.3));\n",
              "      fill: #FFFFFF;\n",
              "    }\n",
              "  </style>\n",
              "\n",
              "      <script>\n",
              "        const buttonEl =\n",
              "          document.querySelector('#df-5699bd6d-ad6d-4ab4-9566-4d2b92b86498 button.colab-df-convert');\n",
              "        buttonEl.style.display =\n",
              "          google.colab.kernel.accessAllowed ? 'block' : 'none';\n",
              "\n",
              "        async function convertToInteractive(key) {\n",
              "          const element = document.querySelector('#df-5699bd6d-ad6d-4ab4-9566-4d2b92b86498');\n",
              "          const dataTable =\n",
              "            await google.colab.kernel.invokeFunction('convertToInteractive',\n",
              "                                                     [key], {});\n",
              "          if (!dataTable) return;\n",
              "\n",
              "          const docLinkHtml = 'Like what you see? Visit the ' +\n",
              "            '<a target=\"_blank\" href=https://colab.research.google.com/notebooks/data_table.ipynb>data table notebook</a>'\n",
              "            + ' to learn more about interactive tables.';\n",
              "          element.innerHTML = '';\n",
              "          dataTable['output_type'] = 'display_data';\n",
              "          await google.colab.output.renderOutput(dataTable, element);\n",
              "          const docLink = document.createElement('div');\n",
              "          docLink.innerHTML = docLinkHtml;\n",
              "          element.appendChild(docLink);\n",
              "        }\n",
              "      </script>\n",
              "    </div>\n",
              "  </div>\n",
              "  "
            ]
          },
          "metadata": {},
          "execution_count": 102
        }
      ]
    },
    {
      "cell_type": "code",
      "source": [
        "users = databaru.username.to_list()\n",
        "tweets = databaru.tweet.to_list()\n",
        "G = nx.Graph() \n",
        "G.add_nodes_from(users)"
      ],
      "metadata": {
        "id": "3xre74MyLkJU"
      },
      "execution_count": null,
      "outputs": []
    },
    {
      "cell_type": "code",
      "source": [
        "import operator\n",
        "\n",
        "def Centrality(G, N=10, method='katz', outliers=False, Label = True, layOut='shells'):\n",
        "    if method.lower()=='katz':\n",
        "        phi = 1.618033988749895 \n",
        "        ranking = nx.katz_centrality_numpy(G,1/phi)\n",
        "    elif method.lower() == 'degree':\n",
        "        ranking = nx.degree_centrality(G)\n",
        "    elif method.lower() == 'eigen':\n",
        "        ranking = nx.eigenvector_centrality_numpy(G)\n",
        "    elif method.lower() =='closeness':\n",
        "        ranking = nx.closeness_centrality(G)\n",
        "    elif method.lower() =='betweeness':\n",
        "        ranking = nx.betweenness_centrality(G)\n",
        "    elif method.lower() =='harmonic':\n",
        "        ranking = nx.harmonic_centrality(G)\n",
        "    elif method.lower() =='percolation':\n",
        "        ranking = nx.percolation_centrality(G)\n",
        "    else:\n",
        "        print('Error, Unsupported Method.'); return None\n",
        "\n",
        "    important_nodes = sorted(ranking.items(), key=operator.itemgetter(1))[::-1]\n",
        "    databaru = np.array([n[1] for n in important_nodes])\n",
        "    dnodes = [n[0] for n in important_nodes][:N]\n",
        "    if outliers:\n",
        "        m = 1 \n",
        "        databaru = databaru[:N]\n",
        "        out = len(databaru[abs(databaru - np.mean(databaru)) > m * np.std(databaru)])\n",
        "        if out<N:\n",
        "            dnodes = [n for n in dnodes[:out]]\n",
        "\n",
        "    print('Influencial Users: {0}'.format(str(dnodes)))\n",
        "    print('Influencial Users Scores: {0}'.format(str(databaru[:len(dnodes)])))\n",
        "    Gt = G.subgraph(dnodes)\n",
        "    return Gt\n",
        "\n",
        "def drawGraph(G, Label, layOut='spring', graphStyle=False, K = 200):\n",
        "    if graphStyle:\n",
        "        ranking = nx.degree_centrality(G)\n",
        "        warna = list(ranking.values())\n",
        "        d = nx.degree(G)\n",
        "        d = [d[node]*K for node in G.nodes()]\n",
        "        pos = nx.spring_layout(G) \n",
        "        nx.draw_networkx_nodes(G,pos, node_color=warna,node_size=d) \n",
        "        nx.draw_networkx_edges(G,pos,width=2,alpha=0.1) \n",
        "        nx.draw_networkx_labels(G,pos) \n",
        "        plt.show() \n",
        "    else:\n",
        "        if layOut.lower()=='spring':\n",
        "            pos = nx.spring_layout(G)\n",
        "        elif layOut.lower()=='circular':\n",
        "            pos=nx.circular_layout(G)\n",
        "        elif layOut.lower()=='random':\n",
        "            pos = nx.random_layout(G)\n",
        "        elif layOut.lower()=='shells':\n",
        "            shells = [G.core_nodes,sorted(G.major_building_routers, key=lambda n: nx.degree(G.topo, n)) + G.distribution_routers + G.server_nodes,G.hosts + G.minor_building_routers]\n",
        "            pos = nx.shell_layout(G, shells)\n",
        "        elif layOut.lower()=='spectral':\n",
        "            pos=nx.spectral_layout(G)\n",
        "        else:\n",
        "            print('Graph Type is not available.')\n",
        "            return\n",
        "        nx.draw_networkx_nodes(G,pos, alpha=0.2,node_color='blue',node_size=600)\n",
        "        if Label:\n",
        "            nx.draw_networkx_labels(G,pos)\n",
        "        nx.draw_networkx_edges(G,pos,width=4)\n",
        "        plt.show()"
      ],
      "metadata": {
        "id": "XIOIRS28wRsZ"
      },
      "execution_count": null,
      "outputs": []
    },
    {
      "cell_type": "code",
      "source": [
        "Gt = Centrality(G, N=10, method='degree', outliers=False, Label = True, layOut='spring')"
      ],
      "metadata": {
        "id": "VB0OC9FjwhAL",
        "colab": {
          "base_uri": "https://localhost:8080/"
        },
        "outputId": "6ad9dc51-1374-4074-bc2f-46dcf80e4364"
      },
      "execution_count": null,
      "outputs": [
        {
          "output_type": "stream",
          "name": "stdout",
          "text": [
            "Influencial Users: ['TigarisAlifandi', 'fikriromdhoni10', 'tribunjateng', 'Hijrahber', 'AhmadGaus', 'izau_mh', 'Pinusidotcom', 'akunkutriplea', 'NewsArrahmah', 'chaipilow']\n",
            "Influencial Users Scores: [0. 0. 0. 0. 0. 0. 0. 0. 0. 0.]\n"
          ]
        }
      ]
    },
    {
      "cell_type": "code",
      "source": [
        "drawGraph(Gt, True, layOut='circular')"
      ],
      "metadata": {
        "id": "OIjlxSVEwi8i",
        "colab": {
          "base_uri": "https://localhost:8080/",
          "height": 248
        },
        "outputId": "ec48d1e5-9aa0-4c22-8d65-0ed012c823c5"
      },
      "execution_count": null,
      "outputs": [
        {
          "output_type": "display_data",
          "data": {
            "text/plain": [
              "<Figure size 432x288 with 1 Axes>"
            ],
            "image/png": "[encoded data removed]"
          },
          "metadata": {}
        }
      ]
    },
    {
      "cell_type": "code",
      "source": [
        "Gt = Centrality(G, N=10, method='closeness', outliers=False, Label = True, layOut='spring')\n",
        "drawGraph(Gt, True, layOut='circular')"
      ],
      "metadata": {
        "id": "hepQYarzw7ub",
        "colab": {
          "base_uri": "https://localhost:8080/",
          "height": 283
        },
        "outputId": "abcaae26-9ce5-4ebd-9fb9-3726d0cc30ee"
      },
      "execution_count": null,
      "outputs": [
        {
          "output_type": "stream",
          "name": "stdout",
          "text": [
            "Influencial Users: ['TigarisAlifandi', 'fikriromdhoni10', 'tribunjateng', 'Hijrahber', 'AhmadGaus', 'izau_mh', 'Pinusidotcom', 'akunkutriplea', 'NewsArrahmah', 'chaipilow']\n",
            "Influencial Users Scores: [0. 0. 0. 0. 0. 0. 0. 0. 0. 0.]\n"
          ]
        },
        {
          "output_type": "display_data",
          "data": {
            "text/plain": [
              "<Figure size 432x288 with 1 Axes>"
            ],
            "image/png": "[encoded data removed]"
          },
          "metadata": {}
        }
      ]
    },
    {
      "cell_type": "markdown",
      "source": [
        "# Kesimpulan \n",
        "\n",
        "Berdasarkan hasil analisis sentimen tweet dengan metode text mining, dapat disimpulkan bahwa;\n",
        "1.  Sentimen positif lebih dominan yaitu sebanyak 6015 (45,20%) tweet, diikuti oleh sentimen negatif sebanyak 1332 (12,85%) tweet dan sentimen netral dengan jumlah 4347 (41,95%).\n",
        "2. Jumlah tweet mengenai Piala Dunia 2022 paling banyak dicuitkan pada tanggal 20 Desember 2022 dan secara gradual menurun setelah hari tersebut.\n",
        "3. Cuitan mengenai Piala Dunia 2022 per hari-nya paling sering dicuitkan pada pukul 3 pagi dan paling sedikit dicuitkan pada pukul 8 malam.\n",
        "4. Beberapa user yang paling influential pada tweet mengenai Piala Dunia 2022 diantaranya ada TigarisAlifandi, Hijrahber, tribunjateng, dll.\n",
        "5. Topik Piala Dunia 2022 masih menjadi topik yang hangat untuk dibincangkan pengguna twitter dengan setidaknya 1000 tweet per hari pada rentang waktu 19-26 Desember 2022.\n"
      ],
      "metadata": {
        "id": "usZ-wq9vKQ9k"
      }
    },
    {
      "cell_type": "markdown",
      "source": [
        "# LINK VIDEO PRESENTASI\n",
        "\n",
        "https://drive.google.com/drive/folders/1-1OklWmthUxLVh-44SZhctIgJJ50Q49h"
      ],
      "metadata": {
        "id": "6YUeIUWiVQxk"
      }
    }
  ]
}